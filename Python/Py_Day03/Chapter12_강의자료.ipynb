{
 "cells": [
  {
   "cell_type": "markdown",
   "metadata": {
    "id": "6ugjHBvNHYmk"
   },
   "source": [
    "시퀀스 자료형\n",
    " * 문자열 :   \n",
    "        - 시퀀스형에서 사용할 수 있는 메소드 (count(), index(), split() 등...)\n",
    "        - 슬라이싱([ : ], [ : : ])\n",
    "        - 요소들로 이루어져 가능했던 기능들(요소 합치기, 요소 찾기 등등)   \n",
    "\n",
    " * list\n",
    "        - 시퀀스형에서 사용할 수 있는 메소드 (count(), index(), split() 등...)\n",
    "        - 슬라이싱([ : ], [ : : ]\n",
    "        - 요소들로 이루어져 가능했던 기능들(요소 합치기, 요소 찾기 등등)\n",
    "        - list 지원 메소드(append(), insert(), del, sort(), reverse())\n",
    "        - 2차원 배열( [[3,1], [2,1]])\n",
    "\n",
    " * tuple\n",
    "        - 리스트처럼 요소를 일렬로 저장하지만 안에 저장된 요소를 변경, 추가, 삭제 할 수 없다\n",
    "        - 값을 추가, 삭제, 변경할 수 없기 때문에 사용못하는 메소드들이 있다\n",
    "        - tuple의 생성방법은 tuple = 값, 값 또는 tuple = (값, 값)\n",
    "        - 그리고 엄청난 비밀을 숨기고 있다\n",
    "        - 튜플은 소괄호로 생성한다\n",
    "\n",
    "* dict(딕셔너리)\n",
    "        - list, tuple, str, range(범위안에 연속된 데이터를 만드는 시퀀스 였습니다.)\n",
    "        공통적인 특징이 있어요 데이터의 연관성이 없습니다.\n",
    "        - dict는 여러개의 값이 일렬로 정렬되면서도 값끼리의 연관성이 존재\n",
    "        (예시 : 게임 케릭터 힘:30, 지능:20, 체력:40, 민첩:90 )\n",
    "        - dict 생성방법은 중괄호"
   ]
  },
  {
   "cell_type": "code",
   "execution_count": 19,
   "metadata": {
    "colab": {
     "base_uri": "https://localhost:8080/"
    },
    "executionInfo": {
     "elapsed": 270,
     "status": "ok",
     "timestamp": 1702170066847,
     "user": {
      "displayName": "양성훈",
      "userId": "00292789611186659621"
     },
     "user_tz": -540
    },
    "id": "KR4jlVhwM0xL",
    "outputId": "2149b0ad-6f4b-48f8-99f0-cff9f4893c4f"
   },
   "outputs": [
    {
     "name": "stdout",
     "output_type": "stream",
     "text": [
      "짱짱맨님은 힘이 30입니다.\n"
     ]
    }
   ],
   "source": [
    "# list [] , tuple (), dict{}\n",
    "\n",
    "짱짱맨 = {\"힘\":30, \"지능\":20, \"체력\":40, \"민첩\":90}\n",
    "짱짱맨\n",
    "\n",
    "# {키 : 값}\n",
    "# {key1:value1, key2:value2}\n",
    "\n",
    "# 시퀀스 데이터는 인덱싱을 이용해 데이터를 찾았습니다.\n",
    "\n",
    "# 짱짱맨[1]\n",
    "짱짱맨[\"힘\"]\n",
    "print(f'짱짱맨님은 힘이 {짱짱맨[\"힘\"]}입니다.')"
   ]
  },
  {
   "cell_type": "code",
   "execution_count": 2,
   "metadata": {
    "colab": {
     "base_uri": "https://localhost:8080/"
    },
    "executionInfo": {
     "elapsed": 5,
     "status": "ok",
     "timestamp": 1702170290279,
     "user": {
      "displayName": "양성훈",
      "userId": "00292789611186659621"
     },
     "user_tz": -540
    },
    "id": "AyIZpRDFOlwC",
    "outputId": "7f5373d3-f77e-4639-d56b-f963472de047"
   },
   "outputs": [
    {
     "name": "stdout",
     "output_type": "stream",
     "text": [
      "{'힘': 30, '지능': 20, '체력': 40, '민첩': 90}\n",
      "{'힘': 30, '지능': 20, '체력': 40, '민첩': 90}\n"
     ]
    }
   ],
   "source": [
    "# 딕셔너리를 만드는 다양한 방법\n",
    "\n",
    "#빈 딕셔너리 만들기\n",
    "딕셔너리 = {}\n",
    "딕셔너리\n",
    "\n",
    "딕셔너리2 = dict()\n",
    "딕셔너리2\n",
    "\n",
    "#값을 넣어 만드는 방법\n",
    "#dict()로 생서시 값 넣는 기호 \"\", : 주의해주세요\n",
    "딕셔너리3 = dict(힘=30, 지능=20, 체력=40, 민첩=90)\n",
    "딕셔너리3\n",
    "# 딕셔너리4 = dict(\"힘\"=30, \"지능\"=20, \"체력\"=40, \"민첩\"=90) # 에러뜸\n",
    "\n",
    "#zip() : 병렬처리를 도와줍니다.  // *** 배열의 개수는 꼭 맞춰줘야한다!!! \n",
    "딕셔너리4 = dict(zip([\"힘\", \"지능\", \"체력\", \"민첩\"], [30,20,40,90]))\n",
    "딕셔너리4\n",
    "\n",
    "딕셔너리5 = dict(zip([\"힘\", \"지능\", \"체력\", \"민첩\", \"레벨\"], [30,20,40,90]))  # key 값이 많을 경우\n",
    "딕셔너리6 = dict(zip([\"힘\", \"지능\", \"체력\", \"민첩\"], [30,20,40,90, 110])) # value 값이 많을 경우\n",
    "\n",
    "print(딕셔너리5)\n",
    "print(딕셔너리6)\n",
    "\n",
    "# => 짝이 맞는것 까지 잘리네"
   ]
  },
  {
   "cell_type": "code",
   "execution_count": 4,
   "metadata": {
    "colab": {
     "base_uri": "https://localhost:8080/"
    },
    "executionInfo": {
     "elapsed": 3,
     "status": "ok",
     "timestamp": 1702170478910,
     "user": {
      "displayName": "양성훈",
      "userId": "00292789611186659621"
     },
     "user_tz": -540
    },
    "id": "J3Sn0ly1PuFQ",
    "outputId": "02b4e2a7-bc24-4d39-e894-a3acc1407c56"
   },
   "outputs": [
    {
     "data": {
      "text/plain": [
       "{'힘': 40, '체력': 40, '민첩': 90, '지구력': 90}"
      ]
     },
     "execution_count": 4,
     "metadata": {},
     "output_type": "execute_result"
    }
   ],
   "source": [
    "# 값의 중복은 허락되는데, 키의 중복은 허라하지 않습니다.\n",
    "# key 값이 중복될 경우, 제일 마지막에 있는 key의 value 값만을 출력한다.\n",
    "\n",
    "짱짱맨 = {\"힘\":30, \"지능\":20, \"체력\":40, \"민첩\":90, \"힘\":40, \"지구력\":90}\n",
    "# 출력 => {'힘': 40, '체력': 40, '민첩': 90, '지구력': 90}\n",
    "\n",
    "# 짱짱맨\n",
    "\n",
    "# \"체력\" in 짱짱맨"
   ]
  },
  {
   "cell_type": "code",
   "execution_count": 7,
   "metadata": {
    "colab": {
     "base_uri": "https://localhost:8080/"
    },
    "executionInfo": {
     "elapsed": 265,
     "status": "ok",
     "timestamp": 1702170748243,
     "user": {
      "displayName": "양성훈",
      "userId": "00292789611186659621"
     },
     "user_tz": -540
    },
    "id": "RoqN-QGlQ0OA",
    "outputId": "3f06defd-8176-4ae0-a7b2-b85299d3adb1"
   },
   "outputs": [
    {
     "name": "stdout",
     "output_type": "stream",
     "text": [
      "dict_keys(['힘', '체력', '민첩', '지구력'])\n",
      "dict_values([40, 40, 90, 90])\n",
      "dict_items([('힘', 40), ('체력', 40), ('민첩', 90), ('지구력', 90)])\n",
      "<class 'dict_items'>\n",
      "[('힘', 40), ('체력', 40), ('민첩', 90), ('지구력', 90)]\n",
      "40\n"
     ]
    }
   ],
   "source": [
    "#딕셔너리에 다양한 메소드\n",
    "\n",
    "print(짱짱맨.keys())\n",
    "print(짱짱맨.values())\n",
    "\n",
    "print(짱짱맨.items())\n",
    "print(type(짱짱맨.items()))\n",
    "\n",
    "리스화된_짱짱맨 = list(짱짱맨.items())\n",
    "print(리스화된_짱짱맨)\n",
    "print(리스화된_짱짱맨[0][1])\n"
   ]
  },
  {
   "cell_type": "code",
   "execution_count": 45,
   "metadata": {
    "colab": {
     "base_uri": "https://localhost:8080/"
    },
    "executionInfo": {
     "elapsed": 269,
     "status": "ok",
     "timestamp": 1702170982730,
     "user": {
      "displayName": "양성훈",
      "userId": "00292789611186659621"
     },
     "user_tz": -540
    },
    "id": "XNt4HS6KRP5N",
    "outputId": "ef6624bf-11c2-4961-f765-932214392f0d"
   },
   "outputs": [
    {
     "data": {
      "text/plain": [
       "{'힘': 40, '지능': 100, '체력': 40, '민첩': 90, '손재주': 44, '매력': 100}"
      ]
     },
     "execution_count": 45,
     "metadata": {},
     "output_type": "execute_result"
    }
   ],
   "source": [
    "# 딕셔너리 값 추가, 삭제, 변경\n",
    "\n",
    "짱짱맨\n",
    "\n",
    "#del 짱짱맨[\"지구력\"]\n",
    "#짱짱맨\n",
    "\n",
    "#딕셔너리 값 변경\n",
    "#짱짱맨[\"지능\"] = 100\n",
    "#짱짱맨\n",
    "\n",
    "# 딕셔너리 값 추가\n",
    "짱짱맨.update({\"손재주\":44, \"매력\":100})\n",
    "짱짱맨"
   ]
  },
  {
   "cell_type": "code",
   "execution_count": 8,
   "metadata": {
    "colab": {
     "base_uri": "https://localhost:8080/",
     "height": 35
    },
    "executionInfo": {
     "elapsed": 269,
     "status": "ok",
     "timestamp": 1702171101013,
     "user": {
      "displayName": "양성훈",
      "userId": "00292789611186659621"
     },
     "user_tz": -540
    },
    "id": "eA0R6XX0SeBA",
    "outputId": "418dd1c4-7795-429c-efd6-d01902052b77"
   },
   "outputs": [
    {
     "name": "stdout",
     "output_type": "stream",
     "text": [
      "{'모자': {'캡': '발렌시아', '비니': '셀린느'}, '상의': {'후드티': '칼하트', '맨투맨': '슈프림'}}\n",
      "{'캡': '발렌시아', '비니': '셀린느'}\n",
      "발렌시아\n"
     ]
    }
   ],
   "source": [
    "코디 = {\n",
    "    \"모자\" : {\n",
    "        \"캡\" : \"발렌시아\",\n",
    "        \"비니\" : \"셀린느\"\n",
    "    },\n",
    "    \"상의\" : {\n",
    "        \"후드티\":\"칼하트\",\n",
    "        \"맨투맨\":\"슈프림\"\n",
    "    }\n",
    "}\n",
    "\n",
    "print(코디)\n",
    "print(코디[\"모자\"])\n",
    "print(코디[\"모자\"][\"캡\"])"
   ]
  },
  {
   "cell_type": "markdown",
   "metadata": {
    "id": "WaZLe0ZeTeeq"
   },
   "source": [
    "* 해시, 해시맵, 해시테이블"
   ]
  },
  {
   "cell_type": "code",
   "execution_count": null,
   "metadata": {
    "id": "1LrnRHcqTN4r"
   },
   "outputs": [],
   "source": [
    "#dict 이력서를 작성했어요. 붕어빵인터네셔널 채용공고 열정만 있으면 오세요\n",
    "#바로 오라고하는게 이상해요\n",
    "#아무도 없이 코드만 있어요... 레거시\n",
    "#리팩토링 해달라고 합니다.\n",
    "\n",
    "fish__p , fish__s , fish__j = input('붕어빵(팥), 붕어빵(슈크림), 붕어빵(잡채)를 순서대로 개수를 입력하고 꼭 쉼표를 입력하고 그리고 안사는 붕어빵에는 0을 넣어줘').split(',')\n",
    "fish__p__sell , fish__s__sell , fish__j_sell = 2000, 2500, 3000\n",
    "order_s, order_j = 2, 3\n",
    "order_s__pay, order_j__pay = fish__s__sell * 2, fish__j_sell *3\n",
    "total = order_s + order_j\n",
    "total_pay = order_s__pay + order_j__pay\n",
    "\n",
    "print(f'주문이 완료되었습니다. {fish__s} {order_s}개, {fish__j} {order_j}개 총 {total}개 결제 금액은 {total_pay}원 입니다.')"
   ]
  },
  {
   "cell_type": "code",
   "execution_count": 10,
   "metadata": {
    "colab": {
     "base_uri": "https://localhost:8080/"
    },
    "executionInfo": {
     "elapsed": 5063,
     "status": "ok",
     "timestamp": 1702171915270,
     "user": {
      "displayName": "양성훈",
      "userId": "00292789611186659621"
     },
     "user_tz": -540
    },
    "id": "mVbumVCEUVp5",
    "outputId": "0a8b10ac-1074-42bb-e138-9df7371371cb"
   },
   "outputs": [
    {
     "name": "stdout",
     "output_type": "stream",
     "text": [
      "<class 'int'>\n",
      "23500\n",
      "주문이 완료되었습니다. 팥 2개, 슈크림 3개, 잡채 4개 총 9개 결제 금액은 23500원 입니다.\n"
     ]
    }
   ],
   "source": [
    "주문_개수 = map(int, input(f'붕어빵 맛 순서대로 개수를 입력해주세요 안살꺼면 0입력(팥, 슈크림, 잡채)').split(','))\n",
    "\n",
    "품목별_가격 = {\"팥\": 2000, \"슈크림\":2500, \"잡채\":3000}\n",
    "# 딕셔너리는 순서가 없어 인덱싱으로 접근 불가\n",
    "\n",
    "주문_개수 = list(주문_개수)\n",
    "총_주문_개수 = sum(주문_개수)\n",
    "total = 0\n",
    "\n",
    "total += 품목별_가격[\"팥\"] * 주문_개수[0]\n",
    "total += 품목별_가격[\"슈크림\"] * 주문_개수[1]\n",
    "total += 품목별_가격[\"잡채\"] * 주문_개수[2]\n",
    "\n",
    "print(type(total))\n",
    "print(total)\n",
    "print(f'주문이 완료되었습니다. 팥 {주문_개수[0]}개, 슈크림 {주문_개수[1]}개, 잡채 {주문_개수[2]}개 총 {총_주문_개수}개 결제 금액은 {total}원 입니다.')"
   ]
  }
 ],
 "metadata": {
  "colab": {
   "authorship_tag": "ABX9TyMMbBXmJWbARWv2pEmtWhsa",
   "provenance": []
  },
  "kernelspec": {
   "display_name": "Python 3",
   "name": "python3"
  },
  "language_info": {
   "codemirror_mode": {
    "name": "ipython",
    "version": 3
   },
   "file_extension": ".py",
   "mimetype": "text/x-python",
   "name": "python",
   "nbconvert_exporter": "python",
   "pygments_lexer": "ipython3",
   "version": "3.9.6"
  }
 },
 "nbformat": 4,
 "nbformat_minor": 0
}
