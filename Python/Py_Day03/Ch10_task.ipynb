{
 "cells": [
  {
   "cell_type": "markdown",
   "metadata": {},
   "source": [
    "<span style=\"font-size:100%\">\n",
    "\n",
    "수업은 모두 열심히 들으셨나요?\n",
    "\n",
    "간혹 강의에서 언급되지 않은 내용이 문제로 나올 수 있습니다.<br>\n",
    "그럴땐 강의 내용 외 문제는 구글링을 통해 해결해주세요<br></span>\n",
    "<span style=\"font-size:80%\">\n",
    "(구글링 또한 개발자가 갖쳐야할 역량 중에 하나랍니다 😊)\n",
    "</span>\n",
    "\n",
    "---"
   ]
  },
  {
   "cell_type": "markdown",
   "metadata": {},
   "source": [
    "<span style=\"font-size:80%\">[문제1]<br><br></span>\n",
    "아래 리스트에 들어있는 값의 평균을 구하는 코드를 작성해주세요\n",
    "\n",
    "x = [34, 22, 10, 3, 55, 66]"
   ]
  },
  {
   "cell_type": "markdown",
   "metadata": {},
   "source": [
    "<span style=\"color:red\">답변</span>"
   ]
  },
  {
   "cell_type": "code",
   "execution_count": 2,
   "metadata": {},
   "outputs": [
    {
     "name": "stdout",
     "output_type": "stream",
     "text": [
      "평균 : 31.666666666666668\n"
     ]
    }
   ],
   "source": [
    "x = [34, 22, 10, 3, 55, 66]\n",
    "avg = sum(x) / len(x)\n",
    "\n",
    "print(f'평균 : {avg}')"
   ]
  },
  {
   "cell_type": "markdown",
   "metadata": {},
   "source": []
  },
  {
   "cell_type": "markdown",
   "metadata": {},
   "source": [
    "----"
   ]
  },
  {
   "cell_type": "markdown",
   "metadata": {},
   "source": [
    "<span style=\"font-size:80%\">[문제2]<br><br></span>\n",
    "리스트 안에 있는 데이터를 오름차순으로 정렬하는 메소드를 모두 골라주세요\n",
    "\n",
    "1. upper()\n",
    "2. low()\n",
    "3. sort()\n",
    "4. hight()\n",
    "5. sorted()"
   ]
  },
  {
   "cell_type": "markdown",
   "metadata": {},
   "source": [
    "<span style=\"color:red\">답변</span>"
   ]
  },
  {
   "cell_type": "code",
   "execution_count": 5,
   "metadata": {},
   "outputs": [
    {
     "name": "stdout",
     "output_type": "stream",
     "text": [
      "[1, 5, 22, 23, 34]\n",
      "[1, 5, 22, 23, 34]\n"
     ]
    }
   ],
   "source": [
    "# 정답 : 3, 5\n",
    "\n",
    "num = [5, 23, 34, 1, 22]\n",
    "\n",
    "# 1. upper() : 소문자를 대문자로\n",
    "\n",
    "num.sort()\n",
    "print(num)\n",
    "\n",
    "num2 = sorted(num)\n",
    "print(num2)"
   ]
  },
  {
   "cell_type": "markdown",
   "metadata": {},
   "source": []
  },
  {
   "cell_type": "markdown",
   "metadata": {},
   "source": [
    "----"
   ]
  },
  {
   "cell_type": "markdown",
   "metadata": {},
   "source": [
    "<span style=\"font-size:80%\">[문제3]<br><br></span>\n",
    "리스트 x가 있을 때 x.append(7)과 결과가 동일한 것을 모두 골라주세요\n",
    "\n",
    "\n",
    "1. x[-1:] = [7]\n",
    "2. x.insert(len(x), 7)\n",
    "3. x[0:] = 7\n",
    "4. x[len(x):] = 7\n",
    "5. x[len(x):] = [7]"
   ]
  },
  {
   "cell_type": "markdown",
   "metadata": {},
   "source": [
    "<span style=\"color:red\">답변</span>"
   ]
  },
  {
   "cell_type": "code",
   "execution_count": 4,
   "metadata": {},
   "outputs": [],
   "source": [
    "# 정답 : 2, 5\n",
    "\n",
    "x = [1, 2, 3]\n",
    "\n",
    "# 1. 출력 : [1, 2, 7]\n",
    "# 2. 출력 : [1, 2, 3, 7]\n",
    "# 3. 출력 : 오류 [] 필요\n",
    "# 4. 출력 : 오류 [] 필요\n",
    "# 5. 출력 : [1, 2, 3, 7]\n",
    "\n",
    "# x.append(7)\n",
    "# print(x)\n",
    "\n",
    "# 1. \n",
    "# x[-1:] = [7]\n",
    "# print(x)\n",
    "\n",
    "# #2.\n",
    "# x.insert(len(x), 7)\n",
    "# print(x)\n",
    "\n",
    "# x[len(x):] = [7]\n",
    "# print(x)"
   ]
  },
  {
   "cell_type": "markdown",
   "metadata": {},
   "source": []
  },
  {
   "cell_type": "markdown",
   "metadata": {},
   "source": [
    "----"
   ]
  },
  {
   "cell_type": "markdown",
   "metadata": {},
   "source": [
    "<span style=\"font-size:80%\">[문제4]<br><br></span>\n",
    "리스트의 모든 요소를 삭제하는 메서드를 골라주세요\n",
    "\n",
    "1. remove\n",
    "2. clean\n",
    "3. pop\n",
    "4. clear\n",
    "5. reverse"
   ]
  },
  {
   "cell_type": "markdown",
   "metadata": {},
   "source": [
    "<span style=\"color:red\">답변</span>"
   ]
  },
  {
   "cell_type": "code",
   "execution_count": 3,
   "metadata": {},
   "outputs": [
    {
     "name": "stdout",
     "output_type": "stream",
     "text": [
      "[]\n"
     ]
    }
   ],
   "source": [
    "# 정답 : 4\n",
    "\n",
    "# 1. remove() : 특정 값 제거\n",
    "# 2. clean : \n",
    "# 3. pop() : 특정 위치의 값 제거\n",
    "# 5. reverse() : 리스트값 뒤집기\n",
    "\n",
    "x = [1, 2, 3]\n",
    "\n",
    "x.clear()\n",
    "print(x)"
   ]
  },
  {
   "cell_type": "markdown",
   "metadata": {},
   "source": []
  },
  {
   "cell_type": "markdown",
   "metadata": {},
   "source": [
    "----"
   ]
  },
  {
   "cell_type": "markdown",
   "metadata": {},
   "source": [
    "<span style=\"font-size:80%\">[문제5]<br><br></span>\n",
    "[3.1, 6.7, 4.4]가 들어있는 리스트의 값을 문자열로 변환 후 다시 리스트로 만들어 변수 x에 담는 코드를 골라주세요\n",
    "\n",
    "1. x = list(str, [3.1, 6.7, 4.4])\n",
    "2. x = map(str, [3.1, 6.7, 4.4])\n",
    "3. x = str([3.1, 6.7, 4.4])\n",
    "4. x = list(map(str, [3.1, 6.7, 4.4]))\n",
    "5. x = map(int, [3.1, 6.7, 4.4])"
   ]
  },
  {
   "cell_type": "markdown",
   "metadata": {},
   "source": [
    "<span style=\"color:red\">답변</span>"
   ]
  },
  {
   "cell_type": "code",
   "execution_count": 6,
   "metadata": {},
   "outputs": [
    {
     "name": "stdout",
     "output_type": "stream",
     "text": [
      "['3.1', '6.7', '4.4']\n",
      "<class 'str'>\n"
     ]
    }
   ],
   "source": [
    "# 정답 : 4\n",
    "\n",
    "x = list(map(str, [3.1, 6.7, 4.4]))\n",
    "\n",
    "print(x)\n",
    "print(type(x[0]))\n"
   ]
  },
  {
   "cell_type": "markdown",
   "metadata": {},
   "source": []
  }
 ],
 "metadata": {
  "kernelspec": {
   "display_name": "Python 3",
   "language": "python",
   "name": "python3"
  },
  "language_info": {
   "codemirror_mode": {
    "name": "ipython",
    "version": 3
   },
   "file_extension": ".py",
   "mimetype": "text/x-python",
   "name": "python",
   "nbconvert_exporter": "python",
   "pygments_lexer": "ipython3",
   "version": "3.9.6"
  }
 },
 "nbformat": 4,
 "nbformat_minor": 2
}
