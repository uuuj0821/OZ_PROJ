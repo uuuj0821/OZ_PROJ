{
 "cells": [
  {
   "cell_type": "markdown",
   "metadata": {
    "id": "WXEwMsfUct7U"
   },
   "source": [
    "컴퓨터 기초 지식을 의미하는 CS(Computer science)는<br>\n",
    "코딩 테스트와 함께 기술 면접에서 지원자에게 필수적으로 요구합니다.<br>\n",
    "\n",
    "수업 내용 중 기술 면접에 자주 나오는 질문 3가지와 기본적으로 알아야 할 내용 과제로 선정했습니다.<br>\n",
    "\n",
    "관련 내용에 대해서는 구글링 또는 관련 서적을 통해 상세히 공부하시고<br>\n",
    "답변은 최대한 핵심만 담아 간결하게 작성해주세요<br>\n",
    "\n",
    "기술 블로그를 운영 중이신 경우<br>\n",
    "답변 내용을 기술 블로그에 작성하신 후 링크를 답변에 남겨주셔도 됩니다.<br>"
   ]
  },
  {
   "cell_type": "markdown",
   "metadata": {
    "id": "qoyC9wF-3hvs"
   },
   "source": [
    "-----"
   ]
  },
  {
   "cell_type": "markdown",
   "metadata": {
    "id": "rAD_O3Gmc_43"
   },
   "source": [
    "[문제1]\n",
    "\n",
    "list와 tuple의 주된 차이점은 무엇인가요?"
   ]
  },
  {
   "cell_type": "markdown",
   "metadata": {},
   "source": []
  },
  {
   "cell_type": "code",
   "execution_count": null,
   "metadata": {
    "vscode": {
     "languageId": "plaintext"
    }
   },
   "outputs": [],
   "source": [
    "list는 데이터의 추가, 삭제, 변경이 가능하다 \n",
    "tuple은 데이터의 추가, 삭제, 변경이 불가합니다.\n",
    "\n",
    "위와 같은 이유로, tuple의 경우 데이터가 불변해야하거나 은행계좌, 비밀번호 등 보안이 필요한 경우 사용됩니다. "
   ]
  },
  {
   "cell_type": "markdown",
   "metadata": {},
   "source": [
    "---"
   ]
  },
  {
   "cell_type": "markdown",
   "metadata": {
    "id": "3uK_auXYdgk2"
   },
   "source": [
    "[문제2]\n",
    "\n",
    "Python의 set에 대해 설명해주세요"
   ]
  },
  {
   "cell_type": "markdown",
   "metadata": {},
   "source": [
    "set() 자료형은 중복되지 않는 데이터의 모음입니다. 즉, 동일한 값의 데이터를 가질 수 없습니다.\n",
    "따라서, 데이터의 중복을 제거하거나 합집합/교집합 등의 연산에 사용됩니다.\n",
    "\n",
    "메서드로는 union(|), difference(-), 등이 있습니다."
   ]
  },
  {
   "cell_type": "markdown",
   "metadata": {},
   "source": [
    "---"
   ]
  },
  {
   "cell_type": "markdown",
   "metadata": {},
   "source": [
    "[문제3]\n",
    "\n",
    "Python의 list는 연결리스트(linked list)인가요?"
   ]
  },
  {
   "cell_type": "markdown",
   "metadata": {},
   "source": [
    "파이썬의 list는 linked list가 아닌 array list를 기반으로 합니다.\n",
    "\n",
    "linked list와 array list의 큰 차이점은\n",
    "    - array list의 경우 각 요소들은 메모리상 순차적으로 저장됩니다.\n",
    "    - linked list의 경우 노드가 존재하며 이 노드는 데이터와 다음 노드에 대한 참조 포인터를 포함하고 있습니다. 그리고 노드들은 연속되지 않는 메모리 공간에 저장이 됩니다.\n"
   ]
  },
  {
   "cell_type": "markdown",
   "metadata": {},
   "source": [
    "---"
   ]
  },
  {
   "cell_type": "markdown",
   "metadata": {},
   "source": [
    "\n",
    "[문제4]\n",
    "\n",
    "딕셔너리 자료형에 대해 설명해주세요."
   ]
  },
  {
   "cell_type": "markdown",
   "metadata": {},
   "source": [
    "딕셔너리 자료형은 키(keys):값(values) 쌍으로 데이터가 저장됩니다.\n",
    "따라서, 인덱싱 즉 순서와 상관없이 특정 키(keys)값을 사용하여 데이터를 빠르게 검색할 수 있습니다.\n",
    "데이터의 추가, 수정, 삭제가 가능합니다."
   ]
  },
  {
   "cell_type": "markdown",
   "metadata": {},
   "source": [
    "---"
   ]
  }
 ],
 "metadata": {
  "colab": {
   "authorship_tag": "ABX9TyP7YKA5FdtGggYfD74V7SMJ",
   "provenance": []
  },
  "kernelspec": {
   "display_name": "Python 3",
   "name": "python3"
  },
  "language_info": {
   "name": "python"
  }
 },
 "nbformat": 4,
 "nbformat_minor": 0
}
