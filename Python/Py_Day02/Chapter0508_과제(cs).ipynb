{
 "cells": [
  {
   "cell_type": "markdown",
   "metadata": {
    "id": "WXEwMsfUct7U"
   },
   "source": [
    "컴퓨터 기초 지식을 의미하는 CS(Computer science)는<br>\n",
    "코딩 테스트와 함께 기술 면접에서 지원자에게 필수적으로 요구합니다.<br>\n",
    "\n",
    "수업 내용 중 기술 면접에 자주 나오는 질문 3가지와 기본적으로 알아야 할 내용 과제로 선정했습니다.<br>\n",
    "\n",
    "관련 내용에 대해서는 구글링 또는 관련 서적을 통해 상세히 공부하시고<br>\n",
    "답변은 최대한 핵심만 담아 간결하게 작성해주세요<br>\n",
    "\n",
    "기술 블로그를 운영 중이신 경우<br>\n",
    "답변 내용을 기술 블로그에 작성하신 후 링크를 답변에 남겨주셔도 됩니다.<br>"
   ]
  },
  {
   "cell_type": "markdown",
   "metadata": {
    "id": "qoyC9wF-3hvs"
   },
   "source": [
    "-----"
   ]
  },
  {
   "cell_type": "markdown",
   "metadata": {
    "id": "rAD_O3Gmc_43"
   },
   "source": [
    "[문제1]\n",
    "\n",
    "Python의 변수 할당 개념을 다른 언어와 비교해 설명해주세요\n"
   ]
  },
  {
   "cell_type": "markdown",
   "metadata": {},
   "source": []
  },
  {
   "cell_type": "code",
   "execution_count": null,
   "metadata": {},
   "outputs": [],
   "source": [
    "파이썬의 변수 할당은 다른 언어, C, 자바 등과 다르다.\n",
    " \n",
    " c와 자바의 경우 변수 선언 시 타입형도 지정해 주어야 한다. 이것을 정적 변수 할당이라고 한다.\n",
    "하지만, 파이썬의 경우 변수 선언 시 타입형을 지정해 주지 않아도 된다. 이것을 동적 변수 할당이라고 한다.\n",
    "\n",
    "예를 들어, c의 경우에는 변수 num을 선언할 때 아래와 같이 작성한다.\n",
    "int num;\n",
    "\n",
    "파이썬의 경우 \n",
    "num = 0 와 같이 타입형을 미리 지정하지 않아도 된다. 다만, 이때 값을 무조건 할당해 주어야한다."
   ]
  },
  {
   "cell_type": "markdown",
   "metadata": {},
   "source": [
    "---"
   ]
  },
  {
   "cell_type": "markdown",
   "metadata": {
    "id": "3uK_auXYdgk2"
   },
   "source": [
    "[문제2]\n",
    "\n",
    "Python의 실수형(float) 계산 시 오차가 발생하는 이유에 대해 간단히 설명해 주세요"
   ]
  },
  {
   "cell_type": "code",
   "execution_count": 4,
   "metadata": {
    "id": "9kvBxa6PdhgA"
   },
   "outputs": [
    {
     "name": "stdout",
     "output_type": "stream",
     "text": [
      "0.30000000000000004\n",
      "False\n"
     ]
    }
   ],
   "source": [
    "이진 부동 소수점 표현 방식을 사용하기 때문이다.\n",
    "\n",
    "이진 부동 소수점 표현 방식이란 컴퓨터가 실수를 근사적으로 표현하는 방식이다.\n",
    "십진수로 표현되는 실수를 이진수로 표현하는 것인데, 무한한 소수를 유한한 비트 수로 표현하려고 하기 때문에\n",
    "정확한 값을 표현할 수 없는 것이다.\n",
    "\n",
    "\n",
    "print(0.1+0.2) # 0.30000000000000004\n",
    "print(0.1+0.2 == 0.3) # false"
   ]
  },
  {
   "cell_type": "markdown",
   "metadata": {},
   "source": [
    "----"
   ]
  },
  {
   "cell_type": "markdown",
   "metadata": {
    "id": "2Jte2VLKdiPm"
   },
   "source": [
    "[문제3]\n",
    "\n",
    "슬라이싱에 대해 간단히 설명해주세요"
   ]
  },
  {
   "cell_type": "code",
   "execution_count": null,
   "metadata": {
    "id": "XJhvRO-2djBh"
   },
   "outputs": [],
   "source": [
    "슬라이싱(slicing)이란 파이썬에서 문자열 리스트 등의 자료형에서 사용되는 것이며 특정 부분을 잘라낼 수 있다.\n",
    "예를 들어 \n",
    " \"hello\" 라는 문자열이 있을 때, 필요한 단어만 잘라서 사용하거나 찾을 때 유용하다.\n",
    "특히, [::] 로 인덱스 영역으로 문자열의 요소를 가져올 수 있다."
   ]
  }
 ],
 "metadata": {
  "colab": {
   "authorship_tag": "ABX9TyP7YKA5FdtGggYfD74V7SMJ",
   "provenance": []
  },
  "kernelspec": {
   "display_name": "Python 3",
   "name": "python3"
  },
  "language_info": {
   "codemirror_mode": {
    "name": "ipython",
    "version": 3
   },
   "file_extension": ".py",
   "mimetype": "text/x-python",
   "name": "python",
   "nbconvert_exporter": "python",
   "pygments_lexer": "ipython3",
   "version": "3.9.6"
  }
 },
 "nbformat": 4,
 "nbformat_minor": 0
}
