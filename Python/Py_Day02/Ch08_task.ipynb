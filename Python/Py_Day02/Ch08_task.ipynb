{
 "cells": [
  {
   "cell_type": "markdown",
   "metadata": {},
   "source": [
    "<span style=\"font-size:100%\">\n",
    "\n",
    "수업은 모두 열심히 들으셨나요?\n",
    "\n",
    "간혹 강의에서 언급되지 않은 내용이 문제로 나올 수 있습니다.<br>\n",
    "그럴땐 강의 내용 외 문제는 구글링을 통해 해결해주세요<br></span>\n",
    "<span style=\"font-size:80%\">\n",
    "(구글링 또한 개발자가 갖쳐야할 역량 중에 하나랍니다 😊)\n",
    "</span>\n",
    "\n",
    "---"
   ]
  },
  {
   "cell_type": "markdown",
   "metadata": {},
   "source": [
    "<span style=\"font-size:80%\">[문제1]<br><br></span>\n",
    "```비교 연산자의 결과로 올바르지 않은 것을 골라주세요```\n",
    "\n",
    "1. 8 == 2 * 4&emsp;&emsp;결과 : True\n",
    "2. 4 != 2 + 2&emsp;&emsp;결과 : False\n",
    "3. 2 * 3 is 3 + 3&emsp;&emsp;결과 : True\n",
    "4. 8 is 4 * 2.0&emsp;&emsp;결과 : True\n",
    "5. 5 is 6 - 1.1&emsp;&emsp;결과 : False"
   ]
  },
  {
   "cell_type": "markdown",
   "metadata": {},
   "source": [
    "<span style=\"color:red\">답변</span>"
   ]
  },
  {
   "cell_type": "code",
   "execution_count": 1,
   "metadata": {},
   "outputs": [
    {
     "name": "stdout",
     "output_type": "stream",
     "text": [
      "False\n",
      "False\n"
     ]
    },
    {
     "name": "stderr",
     "output_type": "stream",
     "text": [
      "<>:1: SyntaxWarning: \"is\" with a literal. Did you mean \"==\"?\n",
      "<>:2: SyntaxWarning: \"is\" with a literal. Did you mean \"==\"?\n",
      "<>:1: SyntaxWarning: \"is\" with a literal. Did you mean \"==\"?\n",
      "<>:2: SyntaxWarning: \"is\" with a literal. Did you mean \"==\"?\n",
      "/var/folders/rn/d2vt4gm97v5gxw61b4h15kzh0000gn/T/ipykernel_97206/3700293008.py:1: SyntaxWarning: \"is\" with a literal. Did you mean \"==\"?\n",
      "  print(8 is 4 * 2.0)\n",
      "/var/folders/rn/d2vt4gm97v5gxw61b4h15kzh0000gn/T/ipykernel_97206/3700293008.py:2: SyntaxWarning: \"is\" with a literal. Did you mean \"==\"?\n",
      "  print(5 is 6 - 1.1)\n"
     ]
    }
   ],
   "source": [
    "4.\n",
    "\n",
    "=> 8은 정수, 8.0 실수로 타입이 서로 다름. 그래서 false 반환함."
   ]
  },
  {
   "cell_type": "markdown",
   "metadata": {},
   "source": []
  },
  {
   "cell_type": "markdown",
   "metadata": {},
   "source": [
    "----"
   ]
  },
  {
   "cell_type": "markdown",
   "metadata": {},
   "source": [
    "<span style=\"font-size:80%\">[문제2]<br><br></span>\n",
    "```\"x는 5와 같지 않다\"라는 뜻과 동일한 것을 골라주세요```\n",
    "\n",
    "1. x <= 5\n",
    "2. x != 5\n",
    "3. x & 5\n",
    "4. x ! 5"
   ]
  },
  {
   "cell_type": "markdown",
   "metadata": {},
   "source": [
    "<span style=\"color:red\">답변</span>"
   ]
  },
  {
   "cell_type": "code",
   "execution_count": null,
   "metadata": {},
   "outputs": [],
   "source": [
    "2"
   ]
  },
  {
   "cell_type": "markdown",
   "metadata": {},
   "source": [
    "----"
   ]
  },
  {
   "cell_type": "markdown",
   "metadata": {},
   "source": [
    "<span style=\"font-size:80%\">[문제3]<br><br></span>\n",
    "```비교 연산자와 논리 연산자의 결과로 올바른 것을 모두 골라주세요```\n",
    "\n",
    "x = 10\n",
    "y = 20\n",
    "\n",
    "1. x == 10 or y == 10  결과 : False\n",
    "2. x >= 10 and y < 30  결과 : True\n",
    "3. not x == 10 결과 : False\n",
    "4. y != 20 or x != 10  결과 : True\n",
    "5. not y != 20 and x > 5  결과 : False"
   ]
  },
  {
   "cell_type": "markdown",
   "metadata": {},
   "source": [
    "<span style=\"color:red\">답변</span>"
   ]
  },
  {
   "cell_type": "code",
   "execution_count": null,
   "metadata": {},
   "outputs": [],
   "source": [
    "2, 3"
   ]
  },
  {
   "cell_type": "markdown",
   "metadata": {},
   "source": []
  },
  {
   "cell_type": "markdown",
   "metadata": {},
   "source": [
    "----"
   ]
  },
  {
   "cell_type": "markdown",
   "metadata": {},
   "source": [
    "<span style=\"font-size:80%\">[문제4]<br><br></span>\n",
    "```'치맥' and True의 결과로 올바른 것을 골라주세요```\n",
    "\n",
    "1. False\n",
    "2. 아묻따\n",
    "3. True\n",
    "4. 치맥True"
   ]
  },
  {
   "cell_type": "markdown",
   "metadata": {},
   "source": [
    "<span style=\"color:red\">답변</span>"
   ]
  },
  {
   "cell_type": "code",
   "execution_count": 2,
   "metadata": {},
   "outputs": [
    {
     "name": "stdout",
     "output_type": "stream",
     "text": [
      "True\n"
     ]
    }
   ],
   "source": [
    "print('치맥' and True)\n",
    "\n",
    "3, "
   ]
  },
  {
   "cell_type": "markdown",
   "metadata": {},
   "source": []
  },
  {
   "cell_type": "markdown",
   "metadata": {},
   "source": [
    "----"
   ]
  },
  {
   "cell_type": "markdown",
   "metadata": {},
   "source": [
    "<span style=\"font-size:80%\">[문제5]<br><br></span>\n",
    "```논리 연산의 결과를 뒤집는 연산자를 골라주세요```\n",
    "\n",
    "1. is not\n",
    "2. not\n",
    "3. !=\n",
    "4. end\n",
    "5. and\n",
    "6. or"
   ]
  },
  {
   "cell_type": "markdown",
   "metadata": {},
   "source": [
    "<span style=\"color:red\">답변</span>"
   ]
  },
  {
   "cell_type": "code",
   "execution_count": null,
   "metadata": {},
   "outputs": [],
   "source": [
    "2. not"
   ]
  },
  {
   "cell_type": "markdown",
   "metadata": {},
   "source": []
  }
 ],
 "metadata": {
  "kernelspec": {
   "display_name": "Python 3",
   "language": "python",
   "name": "python3"
  },
  "language_info": {
   "codemirror_mode": {
    "name": "ipython",
    "version": 3
   },
   "file_extension": ".py",
   "mimetype": "text/x-python",
   "name": "python",
   "nbconvert_exporter": "python",
   "pygments_lexer": "ipython3",
   "version": "3.9.6"
  }
 },
 "nbformat": 4,
 "nbformat_minor": 2
}
