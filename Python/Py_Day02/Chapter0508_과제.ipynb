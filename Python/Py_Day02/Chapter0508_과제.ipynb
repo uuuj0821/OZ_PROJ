{
 "cells": [
  {
   "cell_type": "markdown",
   "metadata": {
    "id": "WXEwMsfUct7U"
   },
   "source": [
    "안녕하세요.<br><br>\n",
    "수강생 여러분~! Chapter05 ~ 08 수업은 잘 들으셨나요?\n",
    "\n",
    "Chapter05 ~ 08의 수업 내용을 바탕으로 아래 문제를 풀어주시면 됩니다.\n",
    "\n",
    "<br>\n",
    "\n",
    "\n",
    "[**답변 입력 방법**]\n",
    "\n",
    "문제 아래에 있는 코드 입력창에 정답코드를 작성하신 후  __▷ 버튼을 클릭해 코드를 실행__ 해보세요<br>"
   ]
  },
  {
   "cell_type": "markdown",
   "metadata": {
    "id": "qoyC9wF-3hvs"
   },
   "source": [
    "-----"
   ]
  },
  {
   "cell_type": "markdown",
   "metadata": {},
   "source": [
    "__[문제0]__\n",
    "<br>\n",
    "\n",
    "##### 이전 과제에서 \"도전! 신비의 섬 탐험\" 을 변수를 이용해서 다시 풀어보세요 !!!!!\n",
    "\n"
   ]
  },
  {
   "cell_type": "markdown",
   "metadata": {
    "id": "rAD_O3Gmc_43"
   },
   "source": [
    "__[문제1]__\n",
    "\n",
    "<br>\n",
    "변수명 게임에 들어 있는 값 중 '홀'만 출력되도록 코드를 작성해 주세요\n",
    "\n",
    "game = \"홀짝홀짝홀짝\"\n",
    "\n",
    "출력 예시 : \"홀홀홀\"\n"
   ]
  },
  {
   "cell_type": "markdown",
   "metadata": {},
   "source": [
    "__Tips__\n",
    "- 문자열 슬라이싱을 이용해보세요 !"
   ]
  },
  {
   "cell_type": "code",
   "execution_count": 15,
   "metadata": {
    "id": "74wtVQFFc_h1"
   },
   "outputs": [
    {
     "name": "stdout",
     "output_type": "stream",
     "text": [
      "홀홀홀\n",
      "홀홀홀\n",
      "홀홀홀\n"
     ]
    }
   ],
   "source": [
    "game = \"홀짝홀짝홀짝\"\n",
    "result_q1 = \"\"\n",
    "\n",
    "#\n",
    "print(game[0] + game[2] + game[4])\n",
    "\n",
    "##\n",
    "print(game[::2])\n",
    "\n",
    "###\n",
    "for i in range(0, 5, 2):\n",
    "    result_q1 += game[i]\n",
    "print(result_q1)"
   ]
  },
  {
   "cell_type": "markdown",
   "metadata": {},
   "source": [
    "---"
   ]
  },
  {
   "cell_type": "markdown",
   "metadata": {
    "id": "3uK_auXYdgk2"
   },
   "source": [
    "__[문제2]__\n",
    "\n",
    "<br>\n",
    "\n",
    "변수명 전화번호에 들어 있는 번호를 모두 붙여서 출력되도록 코드를 작성해주세요.\n",
    "\n",
    "<br>\n",
    "\n",
    "phone = \"010-1234-5678\"\n",
    "\n",
    "출력 예시 : \"01012345678\""
   ]
  },
  {
   "cell_type": "markdown",
   "metadata": {},
   "source": [
    "__Tips__\n",
    "- split() 함수는 문자열을 특정 구분자를 기준으로 나누어 리스트로 반환합니다."
   ]
  },
  {
   "cell_type": "code",
   "execution_count": 16,
   "metadata": {
    "id": "9kvBxa6PdhgA"
   },
   "outputs": [
    {
     "name": "stdout",
     "output_type": "stream",
     "text": [
      "01012345678\n",
      "01012345678\n"
     ]
    }
   ],
   "source": [
    "phone = \"010-1234-5678\"\n",
    "result_q2 = \"\"\n",
    "\n",
    "#\n",
    "print(phone[:3] + phone[4:8] + phone[9:13])\n",
    "\n",
    "##\n",
    "for i in phone.split(\"-\"):\n",
    "    result_q2 += i\n",
    "print(result_q2)\n"
   ]
  },
  {
   "cell_type": "markdown",
   "metadata": {},
   "source": [
    "----"
   ]
  },
  {
   "cell_type": "markdown",
   "metadata": {},
   "source": [
    "<br>\n",
    "\n",
    "__[문제3]__\n",
    "\n",
    "<br>\n",
    "\n",
    "오즈 코딩 스쿨 백엔드 8기 과정에 참여한 수강생 중 5명의 수강생이 자율적으로 스터디 그룹을 결성했습니다.\n",
    "\n",
    "스터디 그룹 내에는 한 주간 배운 내용으로 매주 쪽지 시험을 보는 룰이 있습니다. \n",
    "\n",
    "이 쪽지 시험의 평균이 70점이 넘으면 주말 스터디는 없습니다. \n",
    "\n",
    "주말 스터디의 여부를 True 또는 False로 출력해주세요. \n",
    "\n",
    "<br>\n",
    "A: 70, B: 75, C: 50, D: 80, E: 60\n",
    "\n",
    "<br>"
   ]
  },
  {
   "cell_type": "code",
   "execution_count": 29,
   "metadata": {},
   "outputs": [
    {
     "name": "stdout",
     "output_type": "stream",
     "text": [
      "쪽지시험 평균 점수가 67.0점으로 주말스터디 여부 : True\n"
     ]
    }
   ],
   "source": [
    "score = [70, 75, 50, 80, 60]\n",
    "score_avg = 0\n",
    "\n",
    "for i in score:\n",
    "    score_avg += i\n",
    "\n",
    "# print(len(score))\n",
    "score_avg = score_avg / len(score)\n",
    "\n",
    "if score_avg > 70:\n",
    "    study_weekend = False\n",
    "else:\n",
    "    study_weekend = True\n",
    "\n",
    "print(f'쪽지시험 평균 점수가 {score_avg}점으로 주말스터디 여부 : {study_weekend}')\n"
   ]
  },
  {
   "cell_type": "markdown",
   "metadata": {
    "id": "2Jte2VLKdiPm"
   },
   "source": [
    "__[문제4]__\n",
    "\n",
    "<br>\n",
    "\n",
    "창의성, 시장성, 안정성, 수익성에 대한 각각의 평가 중 아래 기준에 부합하지 못하면 창업지원을 받을 수 없습니다.\n",
    "\n",
    "- 수익성 60점 이상\n",
    "- 창의성과 시장성 50점 이상\n",
    "- 시장성과 수익성을 더한 값의 절반이 안정성 보다 높아야 함\n",
    "\n",
    "\n",
    "다음 점수가 입력되었을때 창업 지원이 가능한지 여부를 True 또는 False로 출력해주세요.\n",
    "\n",
    "---\n",
    "\n",
    "창의성 : 62\n",
    "시장성 : 71\n",
    "안정성 : 68\n",
    "수익성 : 66\n",
    "<br>\n",
    "\n",
    "* 참고\n",
    "(creativity ,\n",
    "marketability ,\n",
    "stability ,\n",
    "profitability )"
   ]
  },
  {
   "cell_type": "markdown",
   "metadata": {},
   "source": [
    "__Tips__\n",
    "* 비교 연산자와 논리 연산자의 결과를 고려해보아요"
   ]
  },
  {
   "cell_type": "code",
   "execution_count": 30,
   "metadata": {
    "id": "XJhvRO-2djBh"
   },
   "outputs": [
    {
     "name": "stdout",
     "output_type": "stream",
     "text": [
      "창업 지원 가능 여부 : True\n"
     ]
    }
   ],
   "source": [
    "creativity, marketability, stability, profitability = 62, 71, 68, 66\n",
    "\n",
    "if profitability >= 60 and creativity >= 50 and marketability >= 50 and ((marketability+profitability)/2) > stability:\n",
    "    pass_business = True\n",
    "else:\n",
    "    pass_business = False\n",
    "\n",
    "print(f'창업 지원 가능 여부 : {pass_business}')"
   ]
  },
  {
   "cell_type": "markdown",
   "metadata": {},
   "source": [
    "## 모험가들의 레벨업 도전\n",
    "\n",
    "### [배경 이야기]\n",
    "\n",
    "당신은 마법사, 전사, 도적, 힐러 네 명의 모험가를 이끄는 리더입니다. \n",
    "\n",
    "각 캐릭터는 힘, 민첩, 지능, 체력이라는 능력치를 가지고 있습니다. 이 능력치들을 이용해 다양한 도전을 해결하고 사냥을 통해 경험치를 얻어 레벨업을 해야 합니다.\n",
    "\n",
    "<br>\n",
    "\n",
    "### [동료 캐릭터와 능력치 정보]\n",
    "\n",
    "마법사: 힘(10), 민첩(20), 지능(80), 체력(50)\n",
    "\n",
    "전사: 힘(80), 민첩(30), 지능(20), 체력(100)\n",
    "\n",
    "도적: 힘(40), 민첩(80), 지능(30), 체력(60)\n",
    "\n",
    "힐러: 힘(20), 민첩(40), 지능(70), 체력(70)\n",
    "\n",
    "<br>\n",
    "\n",
    "* 변수명을 영어로 변경해서 풀어보세요 !"
   ]
  },
  {
   "cell_type": "markdown",
   "metadata": {},
   "source": [
    "<br>\n",
    "\n",
    "__[문제 1: 첫 번째 사냥]__\n",
    "\n",
    "마법사는 몬스터를 사냥하기 위해 마법을 사용합니다. \n",
    "\n",
    "마법을 사용하려면 지능이 50 이상이어야 합니다. \n",
    "\n",
    "마법사의 지능이 50 이상인지 확인하세요."
   ]
  },
  {
   "cell_type": "code",
   "execution_count": 33,
   "metadata": {},
   "outputs": [
    {
     "name": "stdout",
     "output_type": "stream",
     "text": [
      "마법사의 지능은 80으로 50 이상이다\n"
     ]
    }
   ],
   "source": [
    "wizard_int = 80\n",
    "\n",
    "if wizard_int >= 50:\n",
    "    print(f'마법사의 지능은 {wizard_int}으로 50 이상이다')\n",
    "else:\n",
    "    print(\"마법사의 지능은 50 이상이 아니다.\")"
   ]
  },
  {
   "cell_type": "markdown",
   "metadata": {},
   "source": [
    "<br>\n",
    "\n",
    "__[문제 2: 두 번째 사냥]__\n",
    "\n",
    "전사는 강력한 공격을 하기 위해 자신의 힘을 사용합니다. \n",
    "\n",
    "전사의 힘이 60 이상이고 체력이 80 이상인지 확인하세요."
   ]
  },
  {
   "cell_type": "code",
   "execution_count": 34,
   "metadata": {},
   "outputs": [
    {
     "name": "stdout",
     "output_type": "stream",
     "text": [
      "전사의 힘은 60이상이고 체력이 80이상이다.\n"
     ]
    }
   ],
   "source": [
    "warrior_str, warrior_hp  = 80, 100\n",
    "\n",
    "if warrior_str >= 60 and warrior_hp >=80:\n",
    "    print(\"전사의 힘은 60이상이고 체력이 80이상이다.\")\n",
    "else:\n",
    "    print(\"전사는 약하다...\")"
   ]
  },
  {
   "cell_type": "markdown",
   "metadata": {},
   "source": [
    "<br>\n",
    "\n",
    "__[문제 3: 세 번째 사냥]__\n",
    "\n",
    "도적은 민첩함을 이용해 몬스터를 회피하고 공격합니다. \n",
    "\n",
    "도적의 민첩이 70 이상이거나 힘이 50 이상인지 확인하세요."
   ]
  },
  {
   "cell_type": "code",
   "execution_count": 36,
   "metadata": {},
   "outputs": [
    {
     "name": "stdout",
     "output_type": "stream",
     "text": [
      "도적의 민첩은 70이상이거나 힘은 50이상이다.\n"
     ]
    }
   ],
   "source": [
    "thief_dex, thief_str = 80, 40\n",
    "\n",
    "if thief_dex >= 70 or thief_str >= 50:\n",
    "    print(\"도적의 민첩은 70이상이거나 힘은 50이상이다.\")\n",
    "else:\n",
    "    print(\"도적의 민첩이 70이상이 아니거나 힘이 50이상이 아니다.\")"
   ]
  },
  {
   "cell_type": "markdown",
   "metadata": {},
   "source": [
    "<br>\n",
    "\n",
    "__[문제 4: 네 번째 사냥]__\n",
    "\n",
    "힐러는 파티의 체력을 회복시키기 위해 마법을 사용합니다. \n",
    "\n",
    "힐러의 지능이 60 이상이고, 체력이 50 이상인지 확인하세요."
   ]
  },
  {
   "cell_type": "code",
   "execution_count": null,
   "metadata": {},
   "outputs": [],
   "source": [
    "healer_int, healer_hp = 70, 70\n",
    "\n",
    "if thief_dex >= 60 and thief_str >= 50:\n",
    "    print(\"힐러는 지능이 60이상이고 체력이 50이상이다.\")\n",
    "else:\n",
    "    print(\"힐러는 지능이 60이상이 아니거나 체력이 50이상이 아니다.\")"
   ]
  },
  {
   "cell_type": "code",
   "execution_count": 43,
   "metadata": {},
   "outputs": [
    {
     "name": "stdout",
     "output_type": "stream",
     "text": [
      "마법사의 경험치는 100이상이고 전사의 경험치는 100이상이고 도적의 경험치는 100이상이고 힐러의 경험치는 100이하이다.\n"
     ]
    }
   ],
   "source": [
    "exp = [120, 150, 110, 90]\n",
    "exp_over = []\n",
    "\n",
    "for i in exp:\n",
    "    if i >= 100:\n",
    "        exp_over.append(\"이상\")\n",
    "    else:\n",
    "        exp_over.append(\"이하\")\n",
    "\n",
    "# print(exp_over)\n",
    "print(f'마법사의 경험치는 100{exp_over[0]}이고 전사의 경험치는 100{exp_over[1]}이고 도적의 경험치는 100{exp_over[2]}이고 힐러의 경험치는 100{exp_over[3]}이다.')\n"
   ]
  }
 ],
 "metadata": {
  "colab": {
   "authorship_tag": "ABX9TyP7YKA5FdtGggYfD74V7SMJ",
   "provenance": []
  },
  "kernelspec": {
   "display_name": "Python 3",
   "name": "python3"
  },
  "language_info": {
   "codemirror_mode": {
    "name": "ipython",
    "version": 3
   },
   "file_extension": ".py",
   "mimetype": "text/x-python",
   "name": "python",
   "nbconvert_exporter": "python",
   "pygments_lexer": "ipython3",
   "version": "3.9.6"
  }
 },
 "nbformat": 4,
 "nbformat_minor": 0
}
