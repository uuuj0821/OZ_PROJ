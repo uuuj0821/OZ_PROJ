{
 "cells": [
  {
   "cell_type": "markdown",
   "metadata": {
    "id": "WXEwMsfUct7U"
   },
   "source": [
    "컴퓨터 기초 지식을 의미하는 CS(Computer science)는<br>\n",
    "코딩 테스트와 함께 기술 면접에서 지원자에게 필수적으로 요구합니다.<br>\n",
    "\n",
    "수업 내용 중 기술 면접에 자주 나오는 질문 3가지와 기본적으로 알아야 할 내용 과제로 선정했습니다.<br>\n",
    "\n",
    "관련 내용에 대해서는 구글링 또는 관련 서적을 통해 상세히 공부하시고<br>\n",
    "답변은 최대한 핵심만 담아 간결하게 작성해주세요<br>\n",
    "\n",
    "기술 블로그를 운영 중이신 경우<br>\n",
    "답변 내용을 기술 블로그에 작성하신 후 링크를 답변에 남겨주셔도 됩니다.<br>"
   ]
  },
  {
   "cell_type": "markdown",
   "metadata": {
    "id": "qoyC9wF-3hvs"
   },
   "source": [
    "-----"
   ]
  },
  {
   "cell_type": "markdown",
   "metadata": {
    "id": "rAD_O3Gmc_43"
   },
   "source": [
    "[문제1]\n",
    "\n",
    "객체지향에 대해서 설명해주세요"
   ]
  },
  {
   "cell_type": "markdown",
   "metadata": {},
   "source": [
    "https://jjincoding-helloworld.tistory.com/44\n",
    "\n",
    "객체지향이란 변수 및 메서드 등을 객체화하여 프로그래밍한 것입니다.\n",
    "예를 들어 클래스나 함수로 만들어 서로 호출하는 방식입니다.\n",
    "따라서, 독립성을 가지며 중복 코드를 최대로 줄일 수 있고 유지보수에도 좋습니다.\n",
    "\n",
    "객체지향에는 4가지 특징이 있는데 \n",
    " 1. 캡슐화(encapsulation) : 은닉이라도 하며 보안등급? 을 지정하여 외부에서의 접근을 제어할 수 있습니다.\n",
    " 2. 상속(inhenritance) : 클래스 상속을 통해 자식클래스는 부모클래스의 메서드, 변수 등 사용할 수 있습니다. 오버라이딩을 통해 부모클래스의 메서드를 재정의 할 수 도 있습니다.\n",
    " 3. 다형성(polymorphism) : 클래스 내에 동일한 이름의 메서드를 생성할 수 있습니다. 단, 이때는 메서드간 파라미터의 자료형 및 개수를 다르게 생성해야합니다.\n",
    " 4. 추상화(abstaction) : 공통적인 특징을 추출해서 정의하는 것입니다. 자동차를 예를 들자면, 차종, 색상, 연식 등이 있을 수 있습니다. 이와 같이 공통된 특징들의 집합으로 만든것이 클래스 입니다."
   ]
  },
  {
   "cell_type": "markdown",
   "metadata": {},
   "source": [
    "---"
   ]
  },
  {
   "cell_type": "markdown",
   "metadata": {
    "id": "3uK_auXYdgk2"
   },
   "source": [
    "[문제2]\n",
    "\n",
    "init 메소드에 대해 설명해주세요"
   ]
  },
  {
   "cell_type": "code",
   "execution_count": null,
   "metadata": {
    "id": "9kvBxa6PdhgA"
   },
   "outputs": [],
   "source": [
    "클래스의 인스턴스를 생성할 때 자동 호출되며 초기화 작업을하는 메서드입니다.\n",
    "\n",
    "__init__(self): 형태를 합니다."
   ]
  },
  {
   "cell_type": "markdown",
   "metadata": {},
   "source": [
    "[문제3]\n",
    "\n",
    "클래스 상속에 대해 설명해주세요"
   ]
  },
  {
   "cell_type": "markdown",
   "metadata": {},
   "source": [
    "클래스의 상속이란, 부모클래스가 자식클래스에게 부모클래스의 속성과 메서드를 물려주는것입니다.\n",
    "\n",
    "예로 아래와 같은 코드가 있을 떄,\n",
    "class Parents:\n",
    "    def a(): pass\n",
    "    def b(): pass\n",
    "\n",
    "class Children(Parents):\n",
    "    def c(): pass\n",
    "\n",
    "children 클래스는 parents 클래스의 속성과 메서드를 상속 받습니다.\n",
    "즉, parents클래스의 메서드 a, b를 사용할 수 있습니다.\n",
    "\n",
    "이때, 자식클래스에서는 부모클래스의 메서드와 동일한 메서드명으로 메서드를 생성할 수 있으며 재정의할 수 있습니다. 이것을 메서드 오버라이딩이라고 합니다.\n",
    "super().메서드명 을 통해서 추가 작업을 할 수도 있습니다.\n"
   ]
  },
  {
   "cell_type": "markdown",
   "metadata": {},
   "source": [
    "[문제4]\n",
    "\n",
    "클래스 다중 상속과 관련된 MRO에 대해 설명해주세요"
   ]
  },
  {
   "cell_type": "markdown",
   "metadata": {},
   "source": [
    "클래스의 다중 상속이란, 자식클래스는 여러? 부모클래스를 가질 수 있습니다.\n",
    "예를 들어 아래의 코드와 같습니다.\n",
    "\n",
    "class GrandMother:\n",
    "    def do(self):\n",
    "        print(\"씻자\")\n",
    "\n",
    "class Father(GrandMother):\n",
    "    def do(self):\n",
    "        print(\"놀자\")\n",
    "    \n",
    "class Mother(GrandMother):\n",
    "    def do(self):\n",
    "        print(\"밥먹자\")\n",
    "\n",
    "class Children(Mother, Father):\n",
    "    def do(self):\n",
    "        print(\"잘래\")\n",
    "\n",
    "children 클래스는 father, mother 클래스를 상속 받습니다.\n",
    "\n",
    "위의 예를 보면 모든 클래스에서 do() 라는 동일한 이름의 메서드를 가지고 있습니다.\n",
    "이때, do() 메서드를 호출하게 되면 어떤 부모 클래스의 메서드를 호출해야하는지 알 수 없습니다.\n",
    "\n",
    "파이썬은 MRO(Method Resolution Order)를 통해 위의 문제를 해결합니다.\n",
    "MRO란 자식과 부모 클래스를 전부 포함하여 메서드의 실행 순서를 지정하는 것입니다.\n",
    "\n",
    "MRO는 __mro__ 함수를 통해서 확인 할 수 있습니다.\n",
    "print(Children.__mro__) => (<class '__main__.Children'>, <class '__main__.Mother'>, <class '__main__.Father'>, <class '__main__.GrandMother'>, <class 'object'>)\n",
    "\n",
    "만약 do() 함수를 호출할 경우 위의 순서와 같이\n",
    " 1. children 클래스에서 do 호출\n",
    " 2. mother 클래스에서 do 호출 (children 클래스에 do가 없는 경우)\n",
    " 3. father 클래스에서 do 호출 (mother 클래스에 do가 없는 경우)\n",
    " 4. grandmother 클래스에서 do 호출 (father 클래스에 do가 없는 경우)\n",
    "\n",
    "\n"
   ]
  },
  {
   "cell_type": "code",
   "execution_count": 3,
   "metadata": {},
   "outputs": [
    {
     "name": "stdout",
     "output_type": "stream",
     "text": [
      "(<class '__main__.Children'>, <class '__main__.Mother'>, <class '__main__.Father'>, <class '__main__.GrandMother'>, <class 'object'>)\n"
     ]
    }
   ],
   "source": [
    "class GrandMother:\n",
    "    def do(self):\n",
    "        print(\"씻자\")\n",
    "\n",
    "class Father(GrandMother):\n",
    "    def do(self):\n",
    "        print(\"놀자\")\n",
    "    \n",
    "class Mother(GrandMother):\n",
    "    def do(self):\n",
    "        print(\"밥먹자\")\n",
    "\n",
    "class Children(Mother, Father):\n",
    "    def do(self):\n",
    "        print(\"잘래\")\n",
    "\n",
    "\n",
    "print(Children.__mro__)"
   ]
  },
  {
   "cell_type": "markdown",
   "metadata": {},
   "source": []
  },
  {
   "cell_type": "markdown",
   "metadata": {},
   "source": [
    "[문제5]\n",
    "\n",
    "Self는 어떤 키워드 인가요?"
   ]
  },
  {
   "cell_type": "markdown",
   "metadata": {},
   "source": [
    "self는 인스턴스 자기자신을 의미합니다.\n",
    "인스턴스 생성 시 self에는 클래스의 메모리 주소가 저장됩니다.\n",
    "이때, 동일한 클래스를 사용하여 생성한 여러 객체를 구분할 수 있게 되는 것입니다."
   ]
  },
  {
   "cell_type": "markdown",
   "metadata": {},
   "source": [
    "[문제6]\n",
    "\n",
    "ZeroDivisionError,  IndexError 외에 3가지 이상의 파이썬 에러에 대해 설명해주세요"
   ]
  },
  {
   "cell_type": "markdown",
   "metadata": {},
   "source": [
    "# error\n",
    "    - keyerror : 주로 dict 자료형에서 발생하며, key 값이 없는 경우 발생함\n",
    "    - valueerror : 1. 부적절한 값을 가진 인자를 받았을 때 발생하는 에러 // 예를 들어 int(\"10\")와 같이 정수형으로 변환이 가능한 값이 와야하는데 숫자 외의 값이 왔을 때? 2. index로 접근한 값이 없을 때\n",
    "    - syntaxerror : 문법오류 // 예를 들어 : 을 빼먹는다든지...\n",
    "    - nameerror : 변수를 찾을 수 없을 때 발생\n",
    "    - filenotfounderror : 존재하지 않는 파일이나 디렉토리에 접근하려 할떄 발생\n",
    "    - typeerror : 서로 다른 타입으로 연산하려고 할 때 발생\n",
    "    - attributeerror : 잘못된 메서드나 속성을 호출하거나 대입했을 때 발생\n",
    "    - connectionerror : 서버 연결 오류로 발생"
   ]
  }
 ],
 "metadata": {
  "colab": {
   "authorship_tag": "ABX9TyP7YKA5FdtGggYfD74V7SMJ",
   "provenance": []
  },
  "kernelspec": {
   "display_name": "base",
   "language": "python",
   "name": "python3"
  },
  "language_info": {
   "codemirror_mode": {
    "name": "ipython",
    "version": 3
   },
   "file_extension": ".py",
   "mimetype": "text/x-python",
   "name": "python",
   "nbconvert_exporter": "python",
   "pygments_lexer": "ipython3",
   "version": "3.12.7"
  }
 },
 "nbformat": 4,
 "nbformat_minor": 0
}
