{
 "cells": [
  {
   "cell_type": "code",
   "execution_count": 4,
   "metadata": {
    "colab": {
     "base_uri": "https://localhost:8080/"
    },
    "executionInfo": {
     "elapsed": 4071,
     "status": "ok",
     "timestamp": 1702378631318,
     "user": {
      "displayName": "양성훈",
      "userId": "00292789611186659621"
     },
     "user_tz": -540
    },
    "id": "nIZrY-7sqQbj",
    "outputId": "8f4758bf-8cca-4dc1-dd4c-71edcee96bf7"
   },
   "outputs": [
    {
     "name": "stdout",
     "output_type": "stream",
     "text": [
      "나눌 숫자를 입력하세요문자다\n",
      "예외가 발생했습니다.\n"
     ]
    }
   ],
   "source": [
    "#예외코드 작성\n",
    "\n",
    "try:\n",
    "    x =int(input('나눌 숫자를 입력하세요'))\n",
    "    y = 10 /x\n",
    "    print(y)\n",
    "except:\n",
    "    print(\"예외가 발생했습니다.\")"
   ]
  },
  {
   "cell_type": "code",
   "execution_count": 11,
   "metadata": {
    "colab": {
     "base_uri": "https://localhost:8080/"
    },
    "executionInfo": {
     "elapsed": 38964,
     "status": "ok",
     "timestamp": 1702378952610,
     "user": {
      "displayName": "양성훈",
      "userId": "00292789611186659621"
     },
     "user_tz": -540
    },
    "id": "PmIUyxZ0rMUL",
    "outputId": "1cca03a1-cd16-456f-cfd5-44697a9d2650"
   },
   "outputs": [
    {
     "name": "stdout",
     "output_type": "stream",
     "text": [
      "나눌 숫자를 입력하세요: 4, 2\n",
      "잘못된 인덱스입니다.\n"
     ]
    }
   ],
   "source": [
    "y = [10, 20, 30]\n",
    "try:\n",
    "    index, x = map(int, input('나눌 숫자를 입력하세요: ').split(','))\n",
    "    print(y[index]/x)\n",
    "except ZeroDivisionError:\n",
    "    print('숫자를 0으로 나눌 수 없습니다.')\n",
    "except IndexError:\n",
    "    print(\"잘못된 인덱스입니다.\")"
   ]
  },
  {
   "cell_type": "code",
   "execution_count": 15,
   "metadata": {
    "colab": {
     "base_uri": "https://localhost:8080/"
    },
    "executionInfo": {
     "elapsed": 1291,
     "status": "ok",
     "timestamp": 1702379071440,
     "user": {
      "displayName": "양성훈",
      "userId": "00292789611186659621"
     },
     "user_tz": -540
    },
    "id": "IeyMZ3vpseIy",
    "outputId": "f9abfad6-d2c4-4a56-9acf-ced922970cf9"
   },
   "outputs": [
    {
     "name": "stdout",
     "output_type": "stream",
     "text": [
      "나눌 숫자를 입력하세요3\n",
      "3.3333333333333335\n",
      "성공하셨습니다\n"
     ]
    }
   ],
   "source": [
    "try:\n",
    "    x =int(input('나눌 숫자를 입력하세요'))\n",
    "    y = 10 /x\n",
    "    print(y)\n",
    "except:\n",
    "    print(\"예외가 발생했습니다.\")\n",
    "else:\n",
    "    print(\"성공하셨습니다\")"
   ]
  },
  {
   "cell_type": "code",
   "execution_count": 17,
   "metadata": {
    "colab": {
     "base_uri": "https://localhost:8080/"
    },
    "executionInfo": {
     "elapsed": 3154,
     "status": "ok",
     "timestamp": 1702379144587,
     "user": {
      "displayName": "양성훈",
      "userId": "00292789611186659621"
     },
     "user_tz": -540
    },
    "id": "OUDuViQPs08N",
    "outputId": "bd93371f-f364-42c9-98d5-71239d5b5a6d"
   },
   "outputs": [
    {
     "name": "stdout",
     "output_type": "stream",
     "text": [
      "나눌 숫자를 입력하세요문자다\n",
      "예외가 발생했습니다.\n",
      "코드 실행이 종료되었습니다.\n"
     ]
    }
   ],
   "source": [
    "try:\n",
    "    x =int(input('나눌 숫자를 입력하세요'))\n",
    "    y = 10 /x\n",
    "    print(y)\n",
    "except:\n",
    "    print(\"예외가 발생했습니다.\")\n",
    "else:\n",
    "    print(\"성공하셨습니다\")\n",
    "finally:\n",
    "    print(\"코드 실행이 종료되었습니다.\")"
   ]
  },
  {
   "cell_type": "code",
   "execution_count": 18,
   "metadata": {
    "colab": {
     "base_uri": "https://localhost:8080/"
    },
    "executionInfo": {
     "elapsed": 2768,
     "status": "ok",
     "timestamp": 1702379170515,
     "user": {
      "displayName": "양성훈",
      "userId": "00292789611186659621"
     },
     "user_tz": -540
    },
    "id": "-9cQ1W4YtGjs",
    "outputId": "03c0a19a-0eee-42bd-a663-96156724eba3"
   },
   "outputs": [
    {
     "name": "stdout",
     "output_type": "stream",
     "text": [
      "나눌 숫자를 입력하세요3\n",
      "예외가 발생했습니다.\n",
      "코드 실행이 종료되었습니다.\n"
     ]
    }
   ],
   "source": [
    "try:\n",
    "    x =int(input('나눌 숫자를 입력하세요'))\n",
    "    y = 10 /x\n",
    "    raise\n",
    "    print(y)\n",
    "except:\n",
    "    print(\"예외가 발생했습니다.\")\n",
    "else:\n",
    "    print(\"성공하셨습니다\")\n",
    "finally:\n",
    "    print(\"코드 실행이 종료되었습니다.\")"
   ]
  }
 ],
 "metadata": {
  "colab": {
   "authorship_tag": "ABX9TyMrkPBKPF0kE1Im3tMkNoqw",
   "provenance": []
  },
  "kernelspec": {
   "display_name": "Python 3",
   "name": "python3"
  },
  "language_info": {
   "name": "python"
  }
 },
 "nbformat": 4,
 "nbformat_minor": 0
}
