{
 "cells": [
  {
   "cell_type": "markdown",
   "metadata": {
    "id": "aLkxKxnFLowa"
   },
   "source": [
    "안녕하세요. 수강생 여러분~! Chapter17 ~ 20 수업은 잘 들으셨나요?\n",
    "\n",
    "Chapter17 ~ 20의 수업 내용을 바탕으로 아래 문제를 풀어주시면 됩니다.\n",
    "\n",
    "\n",
    "<br>\n",
    "\n",
    "\n",
    "[**답변 입력 방법**]\n",
    "\n",
    "문제 아래에 있는 코드 입력창에 정답코드를 작성하신 후  __▷ 버튼을 클릭해 코드를 실행__ 해보세요<br>"
   ]
  },
  {
   "cell_type": "markdown",
   "metadata": {
    "id": "pYJ1dSggLwcG"
   },
   "source": [
    "__[문제1]__\n",
    "\n",
    "print_even 리스트 내에 있는 값 중 짝수만 화면에 출력되도록 print_score 함수를 생성 후 결과값을 출력해주세요\n",
    "\n",
    "print_even ([1, 3, 2, 10, 12, 11, 15])"
   ]
  },
  {
   "cell_type": "code",
   "execution_count": 5,
   "metadata": {
    "id": "PTqEeebbLmCA"
   },
   "outputs": [
    {
     "name": "stdout",
     "output_type": "stream",
     "text": [
      "[2, 10, 12]\n"
     ]
    }
   ],
   "source": [
    "def printScore(num):                # 함수 생성\n",
    "    nums = []                       # nums 리스트 선언\n",
    "\n",
    "    for i in num:                   # num의 변수를 하나씩 확인\n",
    "        if i % 2 == 0:              # 짝수구분\n",
    "            nums.append(i)          # 짝수일 경우 nums 리스트에 추가\n",
    "    return nums                     # nums 반환 => 함수호출 시 반환되는 값\n",
    "\n",
    "\n",
    "printEven = [1, 3, 2, 10, 12, 11, 15]   # printEven 변수 선언\n",
    "print(printScore(printEven))            # 함수 printScore 호출 // 인자는 printEven 리스트\n"
   ]
  },
  {
   "cell_type": "markdown",
   "metadata": {},
   "source": [
    "---"
   ]
  },
  {
   "cell_type": "markdown",
   "metadata": {
    "id": "ZkGserEsQS0L"
   },
   "source": [
    "__[문제2]__\n",
    "\n",
    "비어있는 오즈 (oz) 클래스를 \"정의\" 해보세요."
   ]
  },
  {
   "cell_type": "code",
   "execution_count": 11,
   "metadata": {
    "id": "dJbcWWlwL0iK"
   },
   "outputs": [],
   "source": [
    "class oz: pass"
   ]
  },
  {
   "cell_type": "markdown",
   "metadata": {},
   "source": [
    "---"
   ]
  },
  {
   "cell_type": "markdown",
   "metadata": {
    "id": "Ofy86rZfL1Mg"
   },
   "source": [
    "__[문제3]__\n",
    "\n",
    "오즈(oz) 클래스의 인스턴스를 \"생성\" 하고 이를 coding 변수로 할당해보세요."
   ]
  },
  {
   "cell_type": "code",
   "execution_count": 10,
   "metadata": {
    "id": "5NhWiuULL2Xa"
   },
   "outputs": [],
   "source": [
    "class oz: pass\n",
    "\n",
    "coding = oz()"
   ]
  },
  {
   "cell_type": "markdown",
   "metadata": {},
   "source": [
    "---"
   ]
  },
  {
   "cell_type": "markdown",
   "metadata": {
    "id": "5T6EMx8EL26b"
   },
   "source": [
    "[문제4]\n",
    "\n",
    "오즈(oz) 클래스에 \"클래스 정복\"을 출력하는 기본 생성자를 추가해주세요"
   ]
  },
  {
   "cell_type": "code",
   "execution_count": 15,
   "metadata": {
    "id": "Zq35PXA0L3-m"
   },
   "outputs": [
    {
     "name": "stdout",
     "output_type": "stream",
     "text": [
      "클래스 정복\n"
     ]
    }
   ],
   "source": [
    "class oz:\n",
    "    def oz_print(self):\n",
    "        print(\"클래스 정복\")\n",
    "\n",
    "coding = oz()\n",
    "coding.oz_print()"
   ]
  },
  {
   "cell_type": "markdown",
   "metadata": {},
   "source": [
    "---"
   ]
  },
  {
   "cell_type": "markdown",
   "metadata": {
    "id": "htuycQWSL4l-"
   },
   "source": [
    "__[문제5]__\n",
    "\n",
    "오즈 (oz) 클래스에 (이름, 나이, 코딩레벨)을 받는 생성자를 추가해주세요\n",
    "\n",
    "coding = oz(\"김코\", 30, \"A\")\n"
   ]
  },
  {
   "cell_type": "code",
   "execution_count": 16,
   "metadata": {
    "id": "A7h3I8CWL5ox"
   },
   "outputs": [],
   "source": [
    "class oz:\n",
    "    def __init__(self, name, age, level):\n",
    "        self.name = name\n",
    "        self.age = age\n",
    "        self.level = level\n",
    "\n",
    "coding = oz(\"김코\", 30, \"A\")"
   ]
  },
  {
   "cell_type": "markdown",
   "metadata": {},
   "source": [
    "---"
   ]
  },
  {
   "cell_type": "markdown",
   "metadata": {
    "id": "ZGDLHI5xL6Bd"
   },
   "source": [
    "__[문제6]__\n",
    "\n",
    "5번 문제에서 생성한 인스턴스의 이름, 나이, 성별을 출력해주세요.\n",
    "\n",
    "\n",
    "\n",
    "출력 결과  ) <br>\n",
    "이름 : 김코  \n",
    "나이 : 30  \n",
    "코딩레벨 : A  \n",
    "\n",
    "__Tips__\n",
    "\n",
    "\n",
    "- 인스턴스 변수에 접근하여 값을 출력하면 됩니다  : )"
   ]
  },
  {
   "cell_type": "code",
   "execution_count": 31,
   "metadata": {
    "id": "qCrPejI_L8Wr"
   },
   "outputs": [
    {
     "name": "stdout",
     "output_type": "stream",
     "text": [
      "이름 : 김코\n",
      "나이 : 30\n",
      "코딩레벨 : A\n"
     ]
    }
   ],
   "source": [
    "class oz:\n",
    "    def __init__(self, name, age, level):\n",
    "        self.name = name\n",
    "        self.age = age\n",
    "        self.level = level\n",
    "\n",
    "        print(f'이름 : {self.name}\\n나이 : {self.age}\\n코딩레벨 : {self.level}')\n",
    "\n",
    "coding = oz(\"김코\", 30, \"A\")"
   ]
  },
  {
   "cell_type": "markdown",
   "metadata": {},
   "source": [
    "---"
   ]
  },
  {
   "cell_type": "markdown",
   "metadata": {
    "id": "RmtPk-A1L8z4"
   },
   "source": [
    "__[문제7]__\n",
    "\n",
    "오즈 (oz) 클래스에서 이름, 나이, 성별을 출력하는 who() 메소드를 추가하고 who()메소드를 이용해 아래 출력 결과를 만들어주세요\n",
    "\n",
    "\n",
    "출력 결과 ) <br>\n",
    "이름: 김코, 나이: 30, 코딩레벨: A"
   ]
  },
  {
   "cell_type": "code",
   "execution_count": 29,
   "metadata": {
    "id": "fvrvm87vL_HZ"
   },
   "outputs": [
    {
     "name": "stdout",
     "output_type": "stream",
     "text": [
      "이름: 김코, 나이: 30, 코딩레벨: A\n"
     ]
    }
   ],
   "source": [
    "class oz:\n",
    "    def __init__(self, name, age, level):\n",
    "        self.name = name\n",
    "        self.age = age\n",
    "        self.level = level\n",
    "\n",
    "    def who(self):\n",
    "        print(f'이름: {self.name}, 나이: {self.age}, 코딩레벨: {self.level}')\n",
    "\n",
    "coding = oz(\"김코\", 30, \"A\")\n",
    "coding.who()\n"
   ]
  }
 ],
 "metadata": {
  "colab": {
   "authorship_tag": "ABX9TyMfxSNOybrh/E7+DQqfYMY3",
   "provenance": []
  },
  "kernelspec": {
   "display_name": "base",
   "language": "python",
   "name": "python3"
  },
  "language_info": {
   "codemirror_mode": {
    "name": "ipython",
    "version": 3
   },
   "file_extension": ".py",
   "mimetype": "text/x-python",
   "name": "python",
   "nbconvert_exporter": "python",
   "pygments_lexer": "ipython3",
   "version": "3.12.7"
  }
 },
 "nbformat": 4,
 "nbformat_minor": 0
}
