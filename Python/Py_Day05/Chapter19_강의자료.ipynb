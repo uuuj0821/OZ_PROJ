{
 "cells": [
  {
   "cell_type": "markdown",
   "metadata": {
    "id": "iDKAbNfaJEZW"
   },
   "source": [
    "##파일 입출력\n",
    "\n",
    "# 웹 -> 크롤링 -> 데이터베이스 -> 1차 클렌징 -> 출력 후 담당자에 전달합니다. -> 2차 클렌징 -> 유용한 데이터셋 -> csv 데이터베이스 입력 -> 인공지능 학습"
   ]
  },
  {
   "cell_type": "code",
   "execution_count": 1,
   "metadata": {
    "colab": {
     "base_uri": "https://localhost:8080/",
     "height": 35
    },
    "executionInfo": {
     "elapsed": 337,
     "status": "ok",
     "timestamp": 1702370053957,
     "user": {
      "displayName": "양성훈",
      "userId": "00292789611186659621"
     },
     "user_tz": -540
    },
    "id": "GFKpnQudob-W",
    "outputId": "11e91482-ce79-4e53-e097-d2054d45dcfb"
   },
   "outputs": [
    {
     "data": {
      "application/vnd.google.colaboratory.intrinsic+json": {
       "type": "string"
      },
      "text/plain": [
       "'/content'"
      ]
     },
     "execution_count": 1,
     "metadata": {},
     "output_type": "execute_result"
    }
   ],
   "source": [
    "pwd"
   ]
  },
  {
   "cell_type": "code",
   "execution_count": 2,
   "metadata": {
    "colab": {
     "base_uri": "https://localhost:8080/"
    },
    "executionInfo": {
     "elapsed": 311,
     "status": "ok",
     "timestamp": 1702370078425,
     "user": {
      "displayName": "양성훈",
      "userId": "00292789611186659621"
     },
     "user_tz": -540
    },
    "id": "yPh40Wz2KcBI",
    "outputId": "9ba24e90-3a7b-48fa-b6be-a18fcca49799"
   },
   "outputs": [
    {
     "name": "stdout",
     "output_type": "stream",
     "text": [
      "/content/drive/MyDrive/Colab Notebooks\n"
     ]
    }
   ],
   "source": [
    "cd /content/drive/MyDrive/Colab Notebooks"
   ]
  },
  {
   "cell_type": "markdown",
   "metadata": {
    "id": "Xr5X67SvKnLH"
   },
   "source": [
    "r - 읽기  \n",
    "w - 쓰기(주의 :덮어쓰기)  \n",
    "a - 추가  "
   ]
  },
  {
   "cell_type": "code",
   "execution_count": 5,
   "metadata": {
    "executionInfo": {
     "elapsed": 4,
     "status": "ok",
     "timestamp": 1702370268098,
     "user": {
      "displayName": "양성훈",
      "userId": "00292789611186659621"
     },
     "user_tz": -540
    },
    "id": "6FUgNY8JKwVV"
   },
   "outputs": [],
   "source": [
    "f = open('test.txt','w')\n",
    "f.write('수강생 여러분')\n",
    "f.close()"
   ]
  },
  {
   "cell_type": "code",
   "execution_count": 6,
   "metadata": {
    "executionInfo": {
     "elapsed": 487,
     "status": "ok",
     "timestamp": 1702370297711,
     "user": {
      "displayName": "양성훈",
      "userId": "00292789611186659621"
     },
     "user_tz": -540
    },
    "id": "0SBxMr8YLQw6"
   },
   "outputs": [],
   "source": [
    "f = open('test.txt','w')\n",
    "f.write('개발자 여러분')\n",
    "f.close()"
   ]
  },
  {
   "cell_type": "code",
   "execution_count": 7,
   "metadata": {
    "executionInfo": {
     "elapsed": 427,
     "status": "ok",
     "timestamp": 1702370348483,
     "user": {
      "displayName": "양성훈",
      "userId": "00292789611186659621"
     },
     "user_tz": -540
    },
    "id": "bC1bKYTKLYRd"
   },
   "outputs": [],
   "source": [
    "f = open('test.txt','w')\n",
    "f.write('''개발자 여러분\n",
    "개발자 여러분\n",
    "개발자 여러분\n",
    "개발자 여러분\n",
    "개발자 여러분\n",
    "개발자 여러분\n",
    "''')\n",
    "f.close()"
   ]
  },
  {
   "cell_type": "code",
   "execution_count": 10,
   "metadata": {
    "executionInfo": {
     "elapsed": 301,
     "status": "ok",
     "timestamp": 1702370483889,
     "user": {
      "displayName": "양성훈",
      "userId": "00292789611186659621"
     },
     "user_tz": -540
    },
    "id": "-ZHqHuSLLjYX"
   },
   "outputs": [],
   "source": [
    "f = open('test.txt','w')\n",
    "메시지 = ''\n",
    "\n",
    "for i in range(10):\n",
    "    메시지 += \"개발자 여러분\\n\"\n",
    "f.write(메시지)\n",
    "f.close()"
   ]
  },
  {
   "cell_type": "code",
   "execution_count": 12,
   "metadata": {
    "colab": {
     "base_uri": "https://localhost:8080/"
    },
    "executionInfo": {
     "elapsed": 4,
     "status": "ok",
     "timestamp": 1702370590484,
     "user": {
      "displayName": "양성훈",
      "userId": "00292789611186659621"
     },
     "user_tz": -540
    },
    "id": "Tz_BYi53MFbg",
    "outputId": "045d0a88-fed5-4a61-c011-c920b3e41b94"
   },
   "outputs": [
    {
     "name": "stdout",
     "output_type": "stream",
     "text": [
      "개발자 여러분\n",
      "개발자 여러분\n",
      "개발자 여러분\n",
      "개발자 여러분\n",
      "개발자 여러분\n",
      "개발자 여러분\n",
      "개발자 여러분\n",
      "개발자 여러분\n",
      "개발자 여러분\n",
      "개발자 여러분\n",
      "\n"
     ]
    }
   ],
   "source": [
    "f = open('test.txt', 'r')\n",
    "s = f.read()\n",
    "print(s)\n",
    "f.close()"
   ]
  },
  {
   "cell_type": "code",
   "execution_count": 15,
   "metadata": {
    "colab": {
     "base_uri": "https://localhost:8080/"
    },
    "executionInfo": {
     "elapsed": 7,
     "status": "ok",
     "timestamp": 1702370645982,
     "user": {
      "displayName": "양성훈",
      "userId": "00292789611186659621"
     },
     "user_tz": -540
    },
    "id": "e9nOhOw8MdWC",
    "outputId": "290dbdef-347a-4488-b09e-24725b5e2f9e"
   },
   "outputs": [
    {
     "name": "stdout",
     "output_type": "stream",
     "text": [
      "개발자 여러분\n",
      "\n",
      "<class 'str'>\n"
     ]
    }
   ],
   "source": [
    "f = open('test.txt', 'r')\n",
    "line = f.readline()\n",
    "print(line)\n",
    "print(type(line))\n",
    "f.close()"
   ]
  },
  {
   "cell_type": "code",
   "execution_count": 16,
   "metadata": {
    "colab": {
     "base_uri": "https://localhost:8080/"
    },
    "executionInfo": {
     "elapsed": 404,
     "status": "ok",
     "timestamp": 1702370774770,
     "user": {
      "displayName": "양성훈",
      "userId": "00292789611186659621"
     },
     "user_tz": -540
    },
    "id": "jt0dHHxjMrF-",
    "outputId": "fefb8de3-242a-47b5-b005-b97bd8702ef3"
   },
   "outputs": [
    {
     "name": "stdout",
     "output_type": "stream",
     "text": [
      "개발자 여러분\n",
      "\n",
      "개발자 여러분\n",
      "\n",
      "개발자 여러분\n",
      "\n",
      "개발자 여러분\n",
      "\n",
      "개발자 여러분\n",
      "\n",
      "개발자 여러분\n",
      "\n",
      "개발자 여러분\n",
      "\n",
      "개발자 여러분\n",
      "\n",
      "개발자 여러분\n",
      "\n",
      "개발자 여러분\n",
      "\n",
      "\n"
     ]
    }
   ],
   "source": [
    "f = open('test.txt', 'r')\n",
    "while line:\n",
    "    line = f.readline() # 마지막라인은 '' 즉, false 이기 때문에 while문을 빠져나감\n",
    "    print(line)\n",
    "f.close()"
   ]
  },
  {
   "cell_type": "code",
   "execution_count": 18,
   "metadata": {
    "executionInfo": {
     "elapsed": 334,
     "status": "ok",
     "timestamp": 1702370849321,
     "user": {
      "displayName": "양성훈",
      "userId": "00292789611186659621"
     },
     "user_tz": -540
    },
    "id": "vwdbM7qoNMv8"
   },
   "outputs": [],
   "source": [
    "f = open('test.txt', 'a')\n",
    "f.write(\"힘내자\")\n",
    "f.close()"
   ]
  },
  {
   "cell_type": "code",
   "execution_count": 19,
   "metadata": {
    "executionInfo": {
     "elapsed": 305,
     "status": "ok",
     "timestamp": 1702370960498,
     "user": {
      "displayName": "양성훈",
      "userId": "00292789611186659621"
     },
     "user_tz": -540
    },
    "id": "S6Nct5naNdlK"
   },
   "outputs": [],
   "source": [
    "with open('test.txt', 'a') as f:\n",
    "    f.write('힘내자 !!!!')"
   ]
  },
  {
   "cell_type": "code",
   "execution_count": 22,
   "metadata": {
    "executionInfo": {
     "elapsed": 5,
     "status": "ok",
     "timestamp": 1702371048402,
     "user": {
      "displayName": "양성훈",
      "userId": "00292789611186659621"
     },
     "user_tz": -540
    },
    "id": "qlw_qB1JN41m"
   },
   "outputs": [],
   "source": [
    "list = [10, 20, 30]\n",
    "\n",
    "with open('test.txt', 'w') as f:\n",
    "    f.write(str(list))"
   ]
  },
  {
   "cell_type": "code",
   "execution_count": 2,
   "metadata": {
    "executionInfo": {
     "elapsed": 1,
     "status": "ok",
     "timestamp": 1702371180554,
     "user": {
      "displayName": "양성훈",
      "userId": "00292789611186659621"
     },
     "user_tz": -540
    },
    "id": "BDmcR43jOPo1"
   },
   "outputs": [],
   "source": [
    "list = [10, 20, 30]\n",
    "with open('test.txt', 'w') as f:\n",
    "    f.write('let test =' + str(list))"
   ]
  },
  {
   "cell_type": "code",
   "execution_count": 1,
   "metadata": {
    "executionInfo": {
     "elapsed": 314,
     "status": "ok",
     "timestamp": 1702371280198,
     "user": {
      "displayName": "양성훈",
      "userId": "00292789611186659621"
     },
     "user_tz": -540
    },
    "id": "jL6RMcAzO0Ac"
   },
   "outputs": [],
   "source": [
    "list = ['10', '20', '30']\n",
    "with open('test.txt', 'w') as f:\n",
    "    f.writelines(list)"
   ]
  },
  {
   "cell_type": "code",
   "execution_count": 29,
   "metadata": {
    "executionInfo": {
     "elapsed": 2,
     "status": "ok",
     "timestamp": 1702371406506,
     "user": {
      "displayName": "양성훈",
      "userId": "00292789611186659621"
     },
     "user_tz": -540
    },
    "id": "JmQQQlFLPJAk"
   },
   "outputs": [],
   "source": [
    "#csv\n",
    "list = ['10', '20', '30']\n",
    "\n",
    "with open('test3.csv', 'w') as f:\n",
    "    f.write(','.join(list))"
   ]
  },
  {
   "cell_type": "code",
   "execution_count": 6,
   "metadata": {},
   "outputs": [
    {
     "name": "stdout",
     "output_type": "stream",
     "text": [
      "abc, feg, ere, dfgd\n"
     ]
    }
   ],
   "source": [
    "text = ['abc', 'feg', 'ere', 'dfgd']\n",
    "\n",
    "print(', '.join(text))"
   ]
  }
 ],
 "metadata": {
  "colab": {
   "authorship_tag": "ABX9TyMuHVjdBMdRvMi4ca9LB6lX",
   "mount_file_id": "1g7QDN3OaTyGiqEjPDuVRYScQ2XI1-W2v",
   "provenance": []
  },
  "kernelspec": {
   "display_name": "base",
   "language": "python",
   "name": "python3"
  },
  "language_info": {
   "codemirror_mode": {
    "name": "ipython",
    "version": 3
   },
   "file_extension": ".py",
   "mimetype": "text/x-python",
   "name": "python",
   "nbconvert_exporter": "python",
   "pygments_lexer": "ipython3",
   "version": "3.12.7"
  }
 },
 "nbformat": 4,
 "nbformat_minor": 0
}
