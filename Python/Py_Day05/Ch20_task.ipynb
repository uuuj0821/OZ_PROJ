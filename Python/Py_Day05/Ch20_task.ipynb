{
 "cells": [
  {
   "cell_type": "markdown",
   "metadata": {},
   "source": [
    "<span style=\"font-size:100%\">\n",
    "\n",
    "수업은 모두 열심히 들으셨나요?\n",
    "\n",
    "간혹 강의에서 언급되지 않은 내용이 문제로 나올 수 있습니다.<br>\n",
    "그럴땐 강의 내용 외 문제는 구글링을 통해 해결해주세요<br></span>\n",
    "<span style=\"font-size:80%\">\n",
    "(구글링 또한 개발자가 갖쳐야할 역량 중에 하나랍니다 😊)\n",
    "</span>\n",
    "\n",
    "---"
   ]
  },
  {
   "cell_type": "markdown",
   "metadata": {},
   "source": [
    "<span style=\"font-size:80%\">[문제1]<br><br></span>\n",
    "```다음 중 예외 처리에 대한 설명으로 잘못된 것을 모두 골라주세요```\n",
    "\n",
    "1. try의 코드에서 예외가 발생하면 except가 실행된다.\n",
    "2. 예외는 현재 함수의 코드 블록에서만 처리할 수 있다.\n",
    "3. try의 코드에서 예외가 발생하더라도 except가 실행되면 스크립트는 중단되지 않는다.\n",
    "4. try, except, else에서 예외가 발생하지 않으면 else가 실행된다.\n",
    "5. finally는 예외가 발생하면 실행되지 않는다."
   ]
  },
  {
   "cell_type": "markdown",
   "metadata": {},
   "source": [
    "<span style=\"color:red\">답변</span>"
   ]
  },
  {
   "cell_type": "code",
   "execution_count": null,
   "metadata": {},
   "outputs": [],
   "source": [
    "# 정답 2, 5\n",
    "\n",
    "# 2. => 해당 함수 코드 블록 및 호출한 곳에서도 처리 가능하다.\n",
    "# 5. => 예외 유무와 상관없이 실행된다."
   ]
  },
  {
   "cell_type": "markdown",
   "metadata": {},
   "source": []
  },
  {
   "cell_type": "markdown",
   "metadata": {},
   "source": [
    "----"
   ]
  },
  {
   "cell_type": "markdown",
   "metadata": {},
   "source": [
    "<span style=\"font-size:80%\">[문제2]<br><br></span>\n",
    "```예외를 임의로 발생 시키는 명령어를 골라주세요```\n",
    "\n",
    "1. else\n",
    "2. raising\n",
    "3. except\n",
    "4. ZeroDivisionError\n",
    "5. raise"
   ]
  },
  {
   "cell_type": "markdown",
   "metadata": {},
   "source": [
    "<span style=\"color:red\">답변</span>"
   ]
  },
  {
   "cell_type": "code",
   "execution_count": null,
   "metadata": {},
   "outputs": [],
   "source": [
    "# 정답 : 5. raise\n",
    "\n",
    "# 1. else : 에러가 없을 시 실행 됨\n",
    "# 3. except : 에러 발생 시 실행 됨\n",
    "# 4. ZeroDivisionError : 0으로 나눌 경우 발생하는 에러"
   ]
  },
  {
   "cell_type": "markdown",
   "metadata": {},
   "source": []
  },
  {
   "cell_type": "markdown",
   "metadata": {},
   "source": [
    "----"
   ]
  },
  {
   "cell_type": "markdown",
   "metadata": {},
   "source": [
    "<span style=\"font-size:80%\">[문제3]<br><br></span>\n",
    "```인덱스의 범위를 벗어났을 때 발생하는 에러에 대한 예외처리를 담당하는 코드를 골라주세요```\n",
    "\n",
    "1. TypeError\n",
    "2. IndexError\n",
    "3. ZeroDivisionError\n",
    "4. KeyError\n",
    "5. SyntaxError"
   ]
  },
  {
   "cell_type": "markdown",
   "metadata": {},
   "source": [
    "<span style=\"color:red\">답변</span>"
   ]
  },
  {
   "cell_type": "code",
   "execution_count": null,
   "metadata": {},
   "outputs": [],
   "source": [
    "2. IndexError\n",
    "\n",
    "# error\n",
    "    # - keyerror : 주로 dict 자료형에서 발생하며, key 값이 없는 경우 발생함\n",
    "    # - valueerror : 1. 부적절한 값을 가진 인자를 받았을 때 발생하는 에러 // 예를 들어 int(\"10\")와 같이 정수형으로 변환이 가능한 값이 와야하는데 숫자 외의 값이 왔을 때? 2. index로 접근한 값이 없을 때\n",
    "    # - syntaxerror : 문법오류 // 예를 들어 : 을 빼먹는다든지...\n",
    "    # - nameerror : 변수를 찾을 수 없을 때 발생\n",
    "    # - zerodivisionerror : 0으로 나눌 경우 발생\n",
    "    # - filenotfounderror : 존재하지 않는 파일이나 디렉토리에 접근하려 할떄 발생\n",
    "    # - typeerror : 서로 다른 타입으로 연산하려고 할 때 발생\n",
    "    # - attributeerror : 잘못된 메서드나 속성을 호출하거나 대입했을 때 발생\n",
    "    # - connectionerror : 서버 연결 오류로 발생"
   ]
  },
  {
   "cell_type": "markdown",
   "metadata": {},
   "source": []
  },
  {
   "cell_type": "markdown",
   "metadata": {},
   "source": [
    "----"
   ]
  }
 ],
 "metadata": {
  "kernelspec": {
   "display_name": "base",
   "language": "python",
   "name": "python3"
  },
  "language_info": {
   "name": "python",
   "version": "3.12.7"
  }
 },
 "nbformat": 4,
 "nbformat_minor": 2
}
