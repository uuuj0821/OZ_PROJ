{
 "cells": [
  {
   "cell_type": "markdown",
   "metadata": {},
   "source": [
    "<span style=\"font-size:100%\">\n",
    "\n",
    "수업은 모두 열심히 들으셨나요?\n",
    "\n",
    "간혹 강의에서 언급되지 않은 내용이 문제로 나올 수 있습니다.<br>\n",
    "그럴땐 강의 내용 외 문제는 구글링을 통해 해결해주세요<br></span>\n",
    "<span style=\"font-size:80%\">\n",
    "(구글링 또한 개발자가 갖쳐야할 역량 중에 하나랍니다 😊)\n",
    "</span>\n",
    "\n",
    "---"
   ]
  },
  {
   "cell_type": "markdown",
   "metadata": {},
   "source": [
    "<span style=\"font-size:80%\">[문제1]<br><br></span>\n",
    "두 수를 받은 뒤 곱한 결과를 반환하는 oz 함수를 만들어주세요\n"
   ]
  },
  {
   "cell_type": "markdown",
   "metadata": {},
   "source": [
    "<span style=\"color:red\">답변</span>"
   ]
  },
  {
   "cell_type": "code",
   "execution_count": 1,
   "metadata": {},
   "outputs": [
    {
     "data": {
      "text/plain": [
       "8"
      ]
     },
     "execution_count": 1,
     "metadata": {},
     "output_type": "execute_result"
    }
   ],
   "source": [
    "def mul(num1, num2):\n",
    "    return num1 * num2\n",
    "\n",
    "x, y = map(int, input(\"숫자 2개를 입력해주세요. 쉼표로 구분해주세요.\").split(\",\"))\n",
    "mul(x, y)"
   ]
  },
  {
   "cell_type": "markdown",
   "metadata": {},
   "source": []
  },
  {
   "cell_type": "markdown",
   "metadata": {},
   "source": [
    "<span style=\"font-size:80%\">[문제2]<br><br></span>\n",
    "```\n",
    "아래 작성된 코드의 실행 결과를 설명해주세요\n",
    "\n",
    "print(\"A\") \n",
    "\n",
    "def message() : \n",
    "    print(\"B\") \n",
    "\n",
    "print(\"C\") \n",
    "\n",
    "message()\n",
    "\n",
    "```"
   ]
  },
  {
   "cell_type": "code",
   "execution_count": null,
   "metadata": {},
   "outputs": [],
   "source": [
    "print(\"A\")          # 출력 : A\n",
    "\n",
    "def message() : \n",
    "    print(\"B\")      # 출력 : B\n",
    "\n",
    "print(\"C\")          # 출력 : C\n",
    "\n",
    "message()\n",
    "\n",
    "## 출력시퀀스\n",
    "1. print(\"A\")  # 출력 : A\n",
    "2. print(\"C\")  # 출력 : C\n",
    "3. message() 함수가 호출되면서, print(\"B\") 실행 됨  # 출력 : B\n",
    "\n",
    "출력 => A\n",
    "       C\n",
    "       B"
   ]
  },
  {
   "cell_type": "markdown",
   "metadata": {},
   "source": [
    "<span style=\"color:red\">답변</span>"
   ]
  },
  {
   "cell_type": "markdown",
   "metadata": {},
   "source": [
    "----"
   ]
  },
  {
   "cell_type": "markdown",
   "metadata": {},
   "source": [
    "<span style=\"font-size:80%\">[문제3]<br><br></span>\n",
    "```매개변수가 없는 oz 함수를 호출하는 방법으로 올바른 것을 골라주세요```\n",
    "\n",
    "1. def oz\n",
    "2. oz\n",
    "3. oz( )\n",
    "4. oz[ ]\n",
    "5. def oz:"
   ]
  },
  {
   "cell_type": "markdown",
   "metadata": {},
   "source": [
    "<span style=\"color:red\">답변</span>"
   ]
  },
  {
   "cell_type": "code",
   "execution_count": null,
   "metadata": {},
   "outputs": [],
   "source": [
    "3. oz()"
   ]
  },
  {
   "cell_type": "markdown",
   "metadata": {},
   "source": []
  },
  {
   "cell_type": "markdown",
   "metadata": {},
   "source": [
    "----"
   ]
  },
  {
   "cell_type": "markdown",
   "metadata": {},
   "source": [
    "<span style=\"font-size:80%\">[문4]<br><br></span>\n",
    "```문자열 하나를 입력받아 인터넷 주소를 반환하는 make_url 함수를 만들어주세요```\n",
    "\n",
    "예 ) make_url(\"google\")\n",
    "\n",
    "출력 : www.google.com"
   ]
  },
  {
   "cell_type": "markdown",
   "metadata": {},
   "source": [
    "<span style=\"color:red\">답변</span>"
   ]
  },
  {
   "cell_type": "markdown",
   "metadata": {},
   "source": []
  },
  {
   "cell_type": "code",
   "execution_count": 2,
   "metadata": {},
   "outputs": [
    {
     "data": {
      "text/plain": [
       "'www.googlecom'"
      ]
     },
     "execution_count": 2,
     "metadata": {},
     "output_type": "execute_result"
    }
   ],
   "source": [
    "def make_url(address):\n",
    "    return \"www.\" + address + \"com\"\n",
    "\n",
    "make_url(\"google\")"
   ]
  },
  {
   "cell_type": "markdown",
   "metadata": {},
   "source": [
    "----"
   ]
  },
  {
   "cell_type": "markdown",
   "metadata": {},
   "source": [
    "<span style=\"font-size:80%\">[문제5]<br><br></span>\n",
    "```아래 코드를 실행했을때 c의 값으로 올바른 것을 골라주세요```\n",
    "\n",
    "def 함수0(num) :<br>\n",
    "&emsp;&emsp;return num * 2<br>\n",
    "\n",
    "def 함수1(num) :<br> \n",
    "&emsp;&emsp;return 함수0(num + 2)<br> \n",
    "\n",
    "def 함수2(num) :<br> \n",
    "&emsp;&emsp;num = num + 10<br> \n",
    "&emsp;&emsp;return 함수1(num)<br> \n",
    "\n",
    "c = 함수2(2)<br> \n",
    "print(c)\n",
    "\n",
    "\n",
    "1. 1\n",
    "2. 5\n",
    "3. 3\n",
    "4. 4\n",
    "5. 28"
   ]
  },
  {
   "cell_type": "markdown",
   "metadata": {},
   "source": [
    "<span style=\"color:red\">답변</span>"
   ]
  },
  {
   "cell_type": "code",
   "execution_count": 3,
   "metadata": {},
   "outputs": [
    {
     "name": "stdout",
     "output_type": "stream",
     "text": [
      "28\n"
     ]
    }
   ],
   "source": [
    "# 정답 : 5. 28\n",
    "\n",
    "def 함수0(num):\n",
    "    return num * 2\n",
    "\n",
    "def 함수1(num):\n",
    "    return 함수0(num + 2)\n",
    "\n",
    "def 함수2(num):\n",
    "    num = num + 10\n",
    "    return 함수1(num)\n",
    "\n",
    "c = 함수2(2)\n",
    "print(c)\n",
    "\n",
    "\n",
    "# 시퀀스\n",
    "# 라인 3 ~ 11 : 각 함수 선언\n",
    "# 라인 13 : 함수2에 인자 2를 넣어 변수 c로 선언 / 함수2 호출됨\n",
    "#   13-1-1(라인9 ~ 10) : 함수2 실행됨 -> num = 2 + 10\n",
    "#   13-1-2(라인 11) : return 을 통해 함수1을 호출 이때 인자는 12 (13-1에서 계산된 값)\n",
    "\n",
    "#   13-2-1(라인 6 ~ 7) : 함수1 실행됨 -> 함수0호출 이때 인자는 12 + 2\n",
    "\n",
    "#   13-3-1(라인 3 ~ 4) : 함수0 실행됨 -> 출력 14 * 2\n",
    "# 라인 14 : 최종값인 28 출력 "
   ]
  },
  {
   "cell_type": "markdown",
   "metadata": {},
   "source": []
  },
  {
   "cell_type": "markdown",
   "metadata": {},
   "source": [
    "----"
   ]
  }
 ],
 "metadata": {
  "kernelspec": {
   "display_name": "base",
   "language": "python",
   "name": "python3"
  },
  "language_info": {
   "codemirror_mode": {
    "name": "ipython",
    "version": 3
   },
   "file_extension": ".py",
   "mimetype": "text/x-python",
   "name": "python",
   "nbconvert_exporter": "python",
   "pygments_lexer": "ipython3",
   "version": "3.12.7"
  }
 },
 "nbformat": 4,
 "nbformat_minor": 2
}
