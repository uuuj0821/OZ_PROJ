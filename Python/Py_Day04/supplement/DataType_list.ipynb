{
 "cells": [
  {
   "cell_type": "markdown",
   "metadata": {
    "id": "-hKyxqyjnP29"
   },
   "source": [
    "# 🧙‍♂️ **마법사 모험: 리스트 훈련**\n",
    "\n",
    "\n",
    "> ### 당신은 마법사 학교를 졸업하고 마법사 탐험대에 합류했습니다. 다양한 미션을 수행하며 **리스트**을 다루는 능력을 연습해야 합니다. 문제를 풀며 모험을 완수하세요!"
   ]
  },
  {
   "cell_type": "markdown",
   "metadata": {
    "id": "HELe4Ca9njzP"
   },
   "source": [
    "# 🪄 리스트 훈련\n",
    "\n"
   ]
  },
  {
   "cell_type": "markdown",
   "metadata": {
    "id": "2Wzda0ffnz5Y"
   },
   "source": [
    "## [문제 1] 마법 도구 목록 생성\n",
    "> ### `[\"지팡이\", \"망토\", \"수정구슬\"]`이라는 리스트를 만드세요.\n",
    "사용할 변수명 : `magic_tools`\n"
   ]
  },
  {
   "cell_type": "code",
   "execution_count": 2,
   "metadata": {
    "id": "_mYzdyH4oBhA"
   },
   "outputs": [
    {
     "name": "stdout",
     "output_type": "stream",
     "text": [
      "['지팡이', '망토', '수정구슬']\n"
     ]
    }
   ],
   "source": [
    "magic_tools = [\"지팡이\", \"망토\", \"수정구슬\"]\n",
    "\n",
    "print(magic_tools)"
   ]
  },
  {
   "cell_type": "markdown",
   "metadata": {
    "id": "P_smdWwgn_uW"
   },
   "source": [
    "## [문제 2] 항목 추가\n",
    "> ### 위 리스트에 `\"어둠의 마법 책\"` 을 추가하세요."
   ]
  },
  {
   "cell_type": "code",
   "execution_count": 3,
   "metadata": {
    "id": "20NlLqLjoNL3"
   },
   "outputs": [
    {
     "name": "stdout",
     "output_type": "stream",
     "text": [
      "['지팡이', '망토', '수정구슬', '어둠의 마법 책']\n"
     ]
    }
   ],
   "source": [
    "magic_tools.append(\"어둠의 마법 책\")\n",
    "print(magic_tools)"
   ]
  },
  {
   "cell_type": "markdown",
   "metadata": {
    "id": "H2CHn5pQn__g"
   },
   "source": [
    "## [문제 3] 항목 제거\n",
    "### \b위 리스트에서 `\"망토\"` 를 제거하세요."
   ]
  },
  {
   "cell_type": "code",
   "execution_count": 4,
   "metadata": {
    "id": "5QLMl1b3oTc5"
   },
   "outputs": [
    {
     "name": "stdout",
     "output_type": "stream",
     "text": [
      "['지팡이', '수정구슬', '어둠의 마법 책']\n"
     ]
    }
   ],
   "source": [
    "del magic_tools[1]\n",
    "print(magic_tools)"
   ]
  },
  {
   "cell_type": "markdown",
   "metadata": {
    "id": "0GrzhlSBoADc"
   },
   "source": [
    "## [문제 4] 특정 항목 출력\n",
    "### 위 리스트의 첫 번째 항목을 출력하세요."
   ]
  },
  {
   "cell_type": "code",
   "execution_count": 5,
   "metadata": {
    "id": "DapwxriCoc6n"
   },
   "outputs": [
    {
     "name": "stdout",
     "output_type": "stream",
     "text": [
      "지팡이\n"
     ]
    }
   ],
   "source": [
    "print(magic_tools[0])"
   ]
  },
  {
   "cell_type": "markdown",
   "metadata": {
    "id": "0T_pYT9ToAHI"
   },
   "source": [
    "## [문제 5] 리스트 정렬\n",
    "### `[\"스네이프\", \"덤블도어\", \"맥고나걸\"]` 을 알파벳 순으로 정렬하세요."
   ]
  },
  {
   "cell_type": "code",
   "execution_count": 6,
   "metadata": {
    "id": "00JAi5Zdoiyo"
   },
   "outputs": [
    {
     "name": "stdout",
     "output_type": "stream",
     "text": [
      "['덤블도어', '맥고나걸', '스네이프']\n"
     ]
    }
   ],
   "source": [
    "professor = [\"스네이프\", \"덤블도어\", \"맥고나걸\"]\n",
    "professor.sort()\n",
    "print(professor)"
   ]
  },
  {
   "cell_type": "markdown",
   "metadata": {
    "id": "Q_FuuuwQoAKc"
   },
   "source": [
    "## [문제 6] 리스트 슬라이싱\n",
    "### `[\"빗자루\", \"망토\", \"지팡이\", \"수정구슬\"]` 을 변수에 담고 \"지팡이\", \"수정구슬\"만 추출하세요.\n",
    "### 사용할 변수명 : `magic_tools_2`"
   ]
  },
  {
   "cell_type": "code",
   "execution_count": 13,
   "metadata": {
    "id": "P0qEyOP-pA5f"
   },
   "outputs": [
    {
     "name": "stdout",
     "output_type": "stream",
     "text": [
      "['지팡이', '수정구슬']\n"
     ]
    }
   ],
   "source": [
    "magic_tools_2 = [\"빗자루\", \"망토\", \"지팡이\", \"수정구슬\"]\n",
    "print(magic_tools_2[2:])"
   ]
  },
  {
   "cell_type": "markdown",
   "metadata": {
    "id": "PJbaq8n1oANw"
   },
   "source": [
    "## [문제 7] 리스트 확장\n",
    "### `[\"빗자루\", \"망토\"]`를 변수에 담고 `[\"수정구슬\", \"마법 책\"]`을 추가하여 출력하세요.\n",
    "### 사용할 변수명 : `in_my_bag`\n"
   ]
  },
  {
   "cell_type": "code",
   "execution_count": 16,
   "metadata": {
    "id": "v1zxCLKfpGbn"
   },
   "outputs": [
    {
     "name": "stdout",
     "output_type": "stream",
     "text": [
      "['빗자루', '망토', '수정구슬', '마법 책']\n"
     ]
    }
   ],
   "source": [
    "in_my_bag = [\"빗자루\", \"망토\"]\n",
    "in_my_bag.append(\"수정구슬\")\n",
    "in_my_bag.append(\"마법 책\")\n",
    "print(in_my_bag)"
   ]
  },
  {
   "cell_type": "markdown",
   "metadata": {
    "id": "C441ngAUoAQx"
   },
   "source": [
    "## [문제 8] 리스트 중복 제거\n",
    "### `[1, 2, 2, 3, 4, 4, 5]`에서 중복을 제거하세요."
   ]
  },
  {
   "cell_type": "code",
   "execution_count": 17,
   "metadata": {
    "id": "4z7-CrJapNGs"
   },
   "outputs": [
    {
     "name": "stdout",
     "output_type": "stream",
     "text": [
      "{1, 2, 3, 4, 5}\n"
     ]
    }
   ],
   "source": [
    "nums = [1, 2, 2, 3, 4, 4, 5]\n",
    "print(set(nums))"
   ]
  },
  {
   "cell_type": "markdown",
   "metadata": {
    "id": "hxg8lUKNoAUJ"
   },
   "source": [
    "## [문제 9] 리스트에서 가장 큰 값 찾기\n",
    "### `[42, 17, 56, 23]`에서 가장 큰 값을 출력하세요."
   ]
  },
  {
   "cell_type": "code",
   "execution_count": 18,
   "metadata": {
    "id": "VkvlF5SapUcN"
   },
   "outputs": [
    {
     "name": "stdout",
     "output_type": "stream",
     "text": [
      "56\n"
     ]
    }
   ],
   "source": [
    "nums = [42, 17, 56, 23]\n",
    "print(max(nums))"
   ]
  },
  {
   "cell_type": "markdown",
   "metadata": {
    "id": "Jf-vswD1oAXX"
   },
   "source": [
    "## [문제 10] 리스트 정렬 후 뒤집기\n",
    "### `[5, 3, 9, 1]`을 정렬하고 뒤집으세요."
   ]
  },
  {
   "cell_type": "code",
   "execution_count": 21,
   "metadata": {
    "id": "9ndS5KiApf6D"
   },
   "outputs": [
    {
     "name": "stdout",
     "output_type": "stream",
     "text": [
      "[9, 5, 3, 1]\n"
     ]
    }
   ],
   "source": [
    "nums = [5, 3, 9, 1]\n",
    "nums.sort(reverse=True)\n",
    "print(nums)"
   ]
  },
  {
   "cell_type": "markdown",
   "metadata": {
    "id": "Ae2S6qsroAaj"
   },
   "source": [
    "## [문제 11] 이중 리스트 정렬\n",
    "### `[[3, 2], [1, 4], [2, 5]]`를 첫 번째 값을 기준으로 정렬하세요."
   ]
  },
  {
   "cell_type": "code",
   "execution_count": 22,
   "metadata": {
    "id": "RO_Bwqi0pqn-"
   },
   "outputs": [
    {
     "name": "stdout",
     "output_type": "stream",
     "text": [
      "[[1, 4], [2, 5], [3, 2]]\n"
     ]
    }
   ],
   "source": [
    "nums = [[3, 2], [1, 4], [2, 5]]\n",
    "nums.sort()\n",
    "print(nums)"
   ]
  },
  {
   "cell_type": "markdown",
   "metadata": {
    "id": "nYHf_032po9d"
   },
   "source": [
    "## [문제 12] 리스트 필터링\n",
    "### 슬라이싱을 활용해 `[1, 2, 3, 4, 5]`에서 3보다 큰 값만 남기세요."
   ]
  },
  {
   "cell_type": "code",
   "execution_count": 57,
   "metadata": {
    "id": "CFdOkqKypxvC"
   },
   "outputs": [
    {
     "name": "stdout",
     "output_type": "stream",
     "text": [
      "[4, 5]\n"
     ]
    }
   ],
   "source": [
    "nums = [1, 2, 3, 4, 5]\n",
    "print(nums[3:])"
   ]
  },
  {
   "cell_type": "markdown",
   "metadata": {
    "id": "zRl72kMfppmT"
   },
   "source": [
    "## [문제 13] 2D 리스트 변환\n",
    "### `[[1, 2], [3, 4]]`를 `[1, 2, 3, 4]`로 평탄화하세요."
   ]
  },
  {
   "cell_type": "code",
   "execution_count": 56,
   "metadata": {
    "id": "3tgWalESp8gH"
   },
   "outputs": [
    {
     "data": {
      "text/plain": [
       "[1, 2, 3, 4]"
      ]
     },
     "execution_count": 56,
     "metadata": {},
     "output_type": "execute_result"
    }
   ],
   "source": [
    "import itertools\n",
    "\n",
    "nums = [[1, 2,], [3, 4]]\n",
    "list(itertools.chain(*nums))"
   ]
  },
  {
   "cell_type": "markdown",
   "metadata": {
    "id": "xjEMNjmypppp"
   },
   "source": [
    "## [문제 14] 리스트 길이 확인\n",
    "### `magic_tools`의 길이를 출력하세요."
   ]
  },
  {
   "cell_type": "code",
   "execution_count": 23,
   "metadata": {
    "id": "rKEhMrzNqDU3"
   },
   "outputs": [
    {
     "name": "stdout",
     "output_type": "stream",
     "text": [
      "3\n"
     ]
    }
   ],
   "source": [
    "print(len(magic_tools))"
   ]
  },
  {
   "cell_type": "markdown",
   "metadata": {
    "id": "_Khar5hWppsl"
   },
   "source": [
    "## [문제 15] 특정 항목 찾기\n",
    "### `magic_tools`에 \"망토\"가 있는지 확인하세요.\n"
   ]
  },
  {
   "cell_type": "code",
   "execution_count": 26,
   "metadata": {
    "id": "ux9mR1uqqK8m"
   },
   "outputs": [
    {
     "name": "stdout",
     "output_type": "stream",
     "text": [
      "False\n",
      "['지팡이', '수정구슬', '어둠의 마법 책']\n"
     ]
    }
   ],
   "source": [
    "print(magic_tools in [\"망토\"])\n",
    "print(magic_tools)"
   ]
  },
  {
   "cell_type": "markdown",
   "metadata": {
    "id": "qHhc7Q75ppvj"
   },
   "source": [
    "## [문제 16] 리스트에서 마지막 항목 제거\n",
    "### `magic_tools`에서 마지막 항목을 제거하세요.\n"
   ]
  },
  {
   "cell_type": "code",
   "execution_count": 27,
   "metadata": {
    "id": "XFyY3Gviq8Hy"
   },
   "outputs": [
    {
     "name": "stdout",
     "output_type": "stream",
     "text": [
      "['지팡이', '수정구슬']\n"
     ]
    }
   ],
   "source": [
    "magic_tools.pop()\n",
    "print(magic_tools)"
   ]
  },
  {
   "cell_type": "markdown",
   "metadata": {
    "id": "zHlQAfWOppys"
   },
   "source": [
    "## [문제 17] 리스트 확장\n",
    "### `magic_tools`에 \"보드라운 깃털\" 을 추가하세요."
   ]
  },
  {
   "cell_type": "code",
   "execution_count": 28,
   "metadata": {
    "id": "g7A7gkVsrDGq"
   },
   "outputs": [
    {
     "name": "stdout",
     "output_type": "stream",
     "text": [
      "['지팡이', '수정구슬', '보드라운 깃털']\n"
     ]
    }
   ],
   "source": [
    "magic_tools.append(\"보드라운 깃털\")\n",
    "print(magic_tools)"
   ]
  },
  {
   "cell_type": "markdown",
   "metadata": {
    "id": "GX957sq-pp1U"
   },
   "source": [
    "## [문제 18] 리스트 반복 생성\n",
    "### `magic_tools`를 3번 반복한 새로운 리스트를 만드세요.\n",
    "### 사용할 변수명 : `new_magic_tools`"
   ]
  },
  {
   "cell_type": "code",
   "execution_count": 29,
   "metadata": {
    "id": "t448w8iIrIqY"
   },
   "outputs": [
    {
     "name": "stdout",
     "output_type": "stream",
     "text": [
      "['지팡이', '수정구슬', '보드라운 깃털', '지팡이', '수정구슬', '보드라운 깃털', '지팡이', '수정구슬', '보드라운 깃털']\n"
     ]
    }
   ],
   "source": [
    "new_magic_tools = magic_tools * 3\n",
    "print(new_magic_tools)"
   ]
  },
  {
   "cell_type": "markdown",
   "metadata": {
    "id": "cTGxAjappp4K"
   },
   "source": [
    "## [문제 19] 리스트 항목 삽입\n",
    "### `posions`변수에 [\"red_posion\", \"blue_posion\"]을 담고 `new_magic_tools`에 추가하세요."
   ]
  },
  {
   "cell_type": "code",
   "execution_count": 30,
   "metadata": {
    "id": "W3gw9-x_rOYA"
   },
   "outputs": [
    {
     "name": "stdout",
     "output_type": "stream",
     "text": [
      "['지팡이', '수정구슬', '보드라운 깃털', '지팡이', '수정구슬', '보드라운 깃털', '지팡이', '수정구슬', '보드라운 깃털', ['red_posion', 'blue_posion']]\n"
     ]
    }
   ],
   "source": [
    "posions = [\"red_posion\", \"blue_posion\"]\n",
    "new_magic_tools.append(posions)\n",
    "print(new_magic_tools)"
   ]
  },
  {
   "cell_type": "markdown",
   "metadata": {
    "id": "hKkEeNUIpp60"
   },
   "source": [
    "## [문제 20] 리스트에서 가장 작은 값 찾기\n",
    "### `[7, 3, 8, 1]`에서 가장 작은 값을 출력하세요."
   ]
  },
  {
   "cell_type": "code",
   "execution_count": 31,
   "metadata": {
    "id": "zyy3vNqVrgoh"
   },
   "outputs": [
    {
     "name": "stdout",
     "output_type": "stream",
     "text": [
      "1\n"
     ]
    }
   ],
   "source": [
    "nums = [7, 3, 8, 1]\n",
    "print(min(nums))"
   ]
  },
  {
   "cell_type": "markdown",
   "metadata": {
    "id": "7lIwYrNGpp9r"
   },
   "source": [
    "## [문제 21] 리스트 순서 변경\n",
    "### `[1, 2, 3, 4, 5]`의 순서를 랜덤하게 섞으세요."
   ]
  },
  {
   "cell_type": "code",
   "execution_count": 54,
   "metadata": {
    "id": "XNfAJHtfsBCw"
   },
   "outputs": [
    {
     "name": "stdout",
     "output_type": "stream",
     "text": [
      "[5, 3, 4, 2, 1]\n"
     ]
    }
   ],
   "source": [
    "import random\n",
    "\n",
    "nums = [1, 2, 3, 4, 5]\n",
    "random.shuffle(nums)\n",
    "print(nums)\n"
   ]
  },
  {
   "cell_type": "markdown",
   "metadata": {
    "id": "Pyf96Smor9fR"
   },
   "source": [
    "## [문제 22] 리스트 내 딕셔너리 변환\n",
    "### `[(\"빗자루\", 2), (\"망토\", 1)]`을 딕셔너리 자료형으로 변환하세요."
   ]
  },
  {
   "cell_type": "code",
   "execution_count": 52,
   "metadata": {
    "id": "tScY5kI7sJLm"
   },
   "outputs": [
    {
     "name": "stdout",
     "output_type": "stream",
     "text": [
      "{'빗자루': 2, '망토': 1}\n"
     ]
    }
   ],
   "source": [
    "magic_tools_3 = [(\"빗자루\", 2), (\"망토\", 1)]\n",
    "new_magic_tools_3 = dict(magic_tools_3)\n",
    "print(new_magic_tools_3)\n"
   ]
  },
  {
   "cell_type": "markdown",
   "metadata": {
    "id": "KEKgOTUGr9oA"
   },
   "source": [
    "## [문제 23] 리스트 중복 제거 후 정렬\n",
    "### `[4, 2, 5, 4, 2]`에서 중복을 제거하고 정렬된 리스트를 만드세요."
   ]
  },
  {
   "cell_type": "code",
   "execution_count": 41,
   "metadata": {
    "id": "CkdkbVEOsN_a"
   },
   "outputs": [
    {
     "name": "stdout",
     "output_type": "stream",
     "text": [
      "[2, 4, 5]\n"
     ]
    }
   ],
   "source": [
    "nums = [4, 2, 5, 4, 2]\n",
    "nums = list(set(nums))\n",
    "nums.sort()\n",
    "print(nums)\n"
   ]
  }
 ],
 "metadata": {
  "colab": {
   "authorship_tag": "ABX9TyPBfYztJQ+u8kpW90h9vfbV",
   "provenance": []
  },
  "kernelspec": {
   "display_name": "Python 3",
   "name": "python3"
  },
  "language_info": {
   "codemirror_mode": {
    "name": "ipython",
    "version": 3
   },
   "file_extension": ".py",
   "mimetype": "text/x-python",
   "name": "python",
   "nbconvert_exporter": "python",
   "pygments_lexer": "ipython3",
   "version": "3.9.6"
  }
 },
 "nbformat": 4,
 "nbformat_minor": 0
}
