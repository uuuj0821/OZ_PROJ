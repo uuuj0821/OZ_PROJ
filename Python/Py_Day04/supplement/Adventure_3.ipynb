{
 "cells": [
  {
   "cell_type": "markdown",
   "metadata": {
    "id": "nUjnk2EVxw_S"
   },
   "source": [
    "# 고대의 성에서 🏰\n",
    "숲을 지나 고대의 성에 도착한 당신. 성을 정복하기 위해 최종 도전 과제를 해결해야 합니다."
   ]
  },
  {
   "cell_type": "markdown",
   "metadata": {
    "id": "nfAYHKPbwvzp"
   },
   "source": [
    "# [문제 1] **\"마법 진주\"**\n",
    "### 원하는만큼 마법 진주를 만들어 낼 수 있는 항아리가 있습니다. 변수 `n`에 숫자를 저장하고, `1`부터 `n`까지의 합을 출력하세요."
   ]
  },
  {
   "cell_type": "code",
   "execution_count": 18,
   "metadata": {
    "id": "hBy_Uy--FV-Z"
   },
   "outputs": [
    {
     "name": "stdout",
     "output_type": "stream",
     "text": [
      "55\n"
     ]
    }
   ],
   "source": [
    "n = 10\n",
    "sum_n = sum(range(1, n+1))\n",
    "\n",
    "print(sum_n)\n"
   ]
  },
  {
   "cell_type": "markdown",
   "metadata": {
    "id": "pXauCB2dxG1q"
   },
   "source": [
    "# [문제 2] **\"왕의 암호\"**\n",
    "### `kingdom` 변수에 여러개의 문자를 입력받아, 각 단어의 첫 글자만 대문자로 출력하세요.\n",
    "### `kingdom`의 문자열에는 `queen`,`password`,`ozcodingschool`이 기본적으로 입력되어야 하며, 콤마(,)로 단어를 구분합니다."
   ]
  },
  {
   "cell_type": "code",
   "execution_count": 31,
   "metadata": {
    "id": "WMTofdnDFXh9"
   },
   "outputs": [
    {
     "name": "stdout",
     "output_type": "stream",
     "text": [
      "Queen Password Ozcodingschool\n",
      "Queen Password Ozcodingschool\n",
      "Queen Password Ozcodingschool\n"
     ]
    }
   ],
   "source": [
    "# kingdom = input(\"암호를 입력하세요.\").split(\",\")\n",
    "kingdom = [\"queen\", \"password\", \"ozcodingschool\"]\n",
    "print(kingdom[0][0].upper() + kingdom[0][1:], kingdom[1][0].upper() + kingdom[1][1:], kingdom[2][0].upper() + kingdom[2][1:])\n",
    "\n",
    "\n",
    "## capitalize(), title() 함수 사용\n",
    "# capitalize() : 맨 첫글자만 대문자로 변환\n",
    "# title() : 알파벳 외의 문자(숫자, 특수기호, 띄어쓰기 등)로 나누어져 있는 영단어들의 첫글자를 모두 대문자로 ex) abc-edf => Abc-Edf\n",
    "print(kingdom[0].capitalize(), kingdom[1].capitalize(), kingdom[2].capitalize(), sep=' ')\n",
    "print(kingdom[0].title(), kingdom[1].title(), kingdom[2].title(), sep=' ')"
   ]
  },
  {
   "cell_type": "markdown",
   "metadata": {
    "id": "SxT6ionLxHDR"
   },
   "source": [
    "# [문제 3] **\"성의 열쇠\"**\n",
    "### `5x5`크기의 배열로 숫자 1부터 25까지를 출력하세요."
   ]
  },
  {
   "cell_type": "code",
   "execution_count": 6,
   "metadata": {
    "id": "UnJ8MF1AFZYE"
   },
   "outputs": [
    {
     "name": "stdout",
     "output_type": "stream",
     "text": [
      "[[ 1  2  3  4  5]\n",
      " [ 6  7  8  9 10]\n",
      " [11 12 13 14 15]\n",
      " [16 17 18 19 20]\n",
      " [21 22 23 24 25]]\n"
     ]
    }
   ],
   "source": [
    "arr = [[1, 2, 3, 4, 5],\n",
    "       [6, 7, 8, 9, 10],\n",
    "       [11, 12, 13, 14, 15],\n",
    "       [16, 17, 18, 19, 20],\n",
    "       [21, 22, 23, 24, 25]]\n",
    "\n",
    "# print(arr)\n",
    "\n",
    "\n",
    "# 넘파이(numpy) 사용\n",
    "import numpy as np\n",
    "a = np.array([[1, 2, 3, 4, 5],\n",
    "       [6, 7, 8, 9, 10],\n",
    "       [11, 12, 13, 14, 15],\n",
    "       [16, 17, 18, 19, 20],\n",
    "       [21, 22, 23, 24, 25]])\n",
    "\n",
    "print(a)"
   ]
  },
  {
   "cell_type": "markdown",
   "metadata": {
    "id": "9C-nGvLVxHJ4"
   },
   "source": [
    "# [문제 4] **\"최고의 마법사\"**\n",
    "### 여러 숫자를 입력받아 가장 큰 숫자와 가장 작은 숫자를 출력하세요.\n"
   ]
  },
  {
   "cell_type": "code",
   "execution_count": 22,
   "metadata": {
    "id": "tOBvoQekFZmX"
   },
   "outputs": [
    {
     "name": "stdout",
     "output_type": "stream",
     "text": [
      "입력하신 숫자는 [3, 4, 2, 234] 입니다.\n",
      "최대값 : 234\n",
      "최소값 : 2\n"
     ]
    }
   ],
   "source": [
    "nums = list(map(int, input(\"숫자를 입력해주세요.\").split(\",\")))\n",
    "\n",
    "print(f'입력하신 숫자는 {nums} 입니다.')\n",
    "print(f'최대값 : {max(nums)}')\n",
    "print(f'최소값 : {min(nums)}')"
   ]
  },
  {
   "cell_type": "markdown",
   "metadata": {
    "id": "OVXnngOExHOT"
   },
   "source": [
    "# [문제 5] **\"숲 속의 빛나는 숫자\"**\n",
    "### 주어진 숫자가 소수인지 판별하세요."
   ]
  },
  {
   "cell_type": "code",
   "execution_count": 32,
   "metadata": {
    "id": "DIk7jwneFZ7u"
   },
   "outputs": [
    {
     "name": "stdout",
     "output_type": "stream",
     "text": [
      "3.4는 소수입니다.\n"
     ]
    }
   ],
   "source": [
    "nums = 3.4\n",
    "\n",
    "if isinstance(nums, float):\n",
    "    print(f'{nums}는 소수입니다.')\n",
    "else:\n",
    "    print(f'{nums}는 소수가 아닙니다.')\n"
   ]
  },
  {
   "cell_type": "markdown",
   "metadata": {
    "id": "hHbmuV4dxHSK"
   },
   "source": [
    "# [문제 6] **\"왕의 보물 상자\"**\n",
    "### 리스트 `[10, 20, 15, 25, 30]`에서 20 이상인 숫자만 출력하세요."
   ]
  },
  {
   "cell_type": "code",
   "execution_count": 33,
   "metadata": {
    "id": "wqxpS9ISFaOo"
   },
   "outputs": [
    {
     "name": "stdout",
     "output_type": "stream",
     "text": [
      "20\n",
      "25\n",
      "30\n"
     ]
    }
   ],
   "source": [
    "nums = [10, 20, 15, 25, 30]\n",
    "\n",
    "for i in nums:\n",
    "    if i >= 20:\n",
    "        print(i)"
   ]
  },
  {
   "cell_type": "markdown",
   "metadata": {
    "id": "gPDy2I47xHVw"
   },
   "source": [
    "# [문제 7] **\"마법사의 나침반\"**\n",
    "### 좌표를 입력받아 북쪽, 남쪽, 동쪽, 서쪽으로 나누어 출력하세요."
   ]
  },
  {
   "cell_type": "code",
   "execution_count": 5,
   "metadata": {
    "id": "UqbnBhodFazC"
   },
   "outputs": [
    {
     "name": "stdout",
     "output_type": "stream",
     "text": [
      "{'동쪽': '4', '서쪽': ' 5', '남쪽': ' 6', '북쪽': ' 7'}\n"
     ]
    }
   ],
   "source": [
    "axis = [\"동쪽\", \"서쪽\", \"남쪽\", \"북쪽\"]\n",
    "nums = input(\"좌표를 입력해주세요\").split(\",\")\n",
    "\n",
    "result = dict(zip(axis, nums))\n",
    "print(result)\n"
   ]
  },
  {
   "cell_type": "markdown",
   "metadata": {
    "id": "NQmmwZEhxHZZ"
   },
   "source": [
    "# [문제 8] **\"숲의 보물 지도\"**\n",
    "### 문자열 `Tresure Hunt`에서 공백을 제거하고 길이를 계산하세요."
   ]
  },
  {
   "cell_type": "code",
   "execution_count": 37,
   "metadata": {
    "id": "ROotOa41FbRQ"
   },
   "outputs": [
    {
     "name": "stdout",
     "output_type": "stream",
     "text": [
      "TresureHunt\n",
      "11\n"
     ]
    }
   ],
   "source": [
    "txt = \"Tresure Hunt\"\n",
    "\n",
    "text = txt.split()\n",
    "text = ''.join(text)\n",
    "print(text)\n",
    "print(len(text))\n"
   ]
  },
  {
   "cell_type": "markdown",
   "metadata": {
    "id": "a7Nd4fmwxHdU"
   },
   "source": [
    "# [문제 9] **\"숲 속의 마법사 대결\"**\n",
    "### 사용자로부터 두 숫자를 입력받아 최대공약수를 계산하세요."
   ]
  },
  {
   "cell_type": "code",
   "execution_count": 43,
   "metadata": {
    "id": "dc8io3iwFbpS"
   },
   "outputs": [
    {
     "name": "stdout",
     "output_type": "stream",
     "text": [
      "16\n"
     ]
    }
   ],
   "source": [
    "num1, num2 = map(int, input(\"최대공약수 계산을 위한 숫자 2개를 입력해주세요. (쉼표로 구분해주세요.)\").split(\",\"))\n",
    "nums_gcd = list()\n",
    "\n",
    "for i in range(min(num1, num2), 0, -1):\n",
    "    if num1 % i == 0 and num2 % i == 0:\n",
    "        nums_gcd.append(i)\n",
    "\n",
    "print(max(nums_gcd))\n",
    "\n",
    "\n",
    "# 파이썬 math 라이브러리 사용\n",
    "# import math\n",
    "# num1, num2 = map(int, input(\"최대공약수 계산을 위한 숫자 2개를 입력해주세요. (쉼표로 구분해주세요.)\").split(\",\"))\n",
    "# math.gcd(num1, num2)\n",
    "\n"
   ]
  },
  {
   "cell_type": "markdown",
   "metadata": {
    "id": "G7cl8eL2xHkA"
   },
   "source": [
    "# [문제 10] **\"성의 마지막 방\"**\n",
    "### 리스트에 있는 숫자들을 모두 더한 값이 100 이상이면 `열림`을 출력하고, 그렇지 않으면 `닫힘`을 출력하세요."
   ]
  },
  {
   "cell_type": "code",
   "execution_count": 46,
   "metadata": {
    "id": "f8ZBvR71VHd-"
   },
   "outputs": [
    {
     "name": "stdout",
     "output_type": "stream",
     "text": [
      "합계가 566로 문이 열립니다.\n"
     ]
    }
   ],
   "source": [
    "nums = list(map(int, input(\"숫자를 입력해주세요. (쉼표로 구분해주세요.)\").split(\",\")))\n",
    "sum_nums = 0\n",
    "\n",
    "for i in nums:\n",
    "    sum_nums += i\n",
    "\n",
    "if sum_nums >= 100:\n",
    "    print(f'합계가 {sum_nums}로 문이 열립니다.')\n",
    "else:\n",
    "    print(f'합계가 {sum_nums}로 문이 닫힙니다.')\n"
   ]
  }
 ],
 "metadata": {
  "colab": {
   "authorship_tag": "ABX9TyMQX0WF3L56Oj5L7V62Petc",
   "provenance": []
  },
  "kernelspec": {
   "display_name": "base",
   "language": "python",
   "name": "python3"
  },
  "language_info": {
   "codemirror_mode": {
    "name": "ipython",
    "version": 3
   },
   "file_extension": ".py",
   "mimetype": "text/x-python",
   "name": "python",
   "nbconvert_exporter": "python",
   "pygments_lexer": "ipython3",
   "version": "3.12.7"
  }
 },
 "nbformat": 4,
 "nbformat_minor": 0
}
