{
 "cells": [
  {
   "cell_type": "markdown",
   "metadata": {
    "id": "-hKyxqyjnP29"
   },
   "source": [
    "# 🧙‍♂️ **마법사 모험: 딕셔너리 훈련**\n",
    "### 당신은 마법사 학교를 졸업하고 마법사 탐험대에 합류했습니다. 다양한 미션을 수행하며 **자료형**을 다루는 능력을 연습해야 합니다.\n",
    "###문제를 풀며 모험을 완수하세요!"
   ]
  },
  {
   "cell_type": "markdown",
   "metadata": {
    "id": "HELe4Ca9njzP"
   },
   "source": [
    "# 🪄 딕셔너리 훈련\n",
    "> 마법사의 속성 (이름, 나이, 능력)을 관리하기 위해 딕셔너리를 사용합니다."
   ]
  },
  {
   "cell_type": "markdown",
   "metadata": {
    "id": "2Wzda0ffnz5Y"
   },
   "source": [
    "## [문제 1] 딕셔너리 생성하기\n",
    "###  {\"이름\": \"본인이름\", \"나이\": 본인나이, \"능력\": \"coding\"}를 생성하세요.\n",
    "### 사용할 변수명 : `wizards`"
   ]
  },
  {
   "cell_type": "code",
   "execution_count": 14,
   "metadata": {
    "id": "_mYzdyH4oBhA"
   },
   "outputs": [
    {
     "name": "stdout",
     "output_type": "stream",
     "text": [
      "{'이름': '박유진', '나이': '32', '능력': 'coding'}\n"
     ]
    }
   ],
   "source": [
    "name = input(\"이름을 입력해주세요 : \")\n",
    "age = input(\"나이를 입력해주세요\")\n",
    "ability = input(\"능력을 입력해주세요 ex)coding, ...\")\n",
    "\n",
    "titles = [\"이름\", \"나이\", \"능력\"]\n",
    "values = [name, age, ability]\n",
    "wizard = dict(zip(titles, values))\n",
    "\n",
    "print(wizard)\n"
   ]
  },
  {
   "cell_type": "markdown",
   "metadata": {
    "id": "P_smdWwgn_uW"
   },
   "source": [
    "## [문제 2] 딕셔너리 값 출력하기\n",
    "###  {\"이름\": \"본인이름\", \"나이\": 본인나이, \"능력\": \"coding\"}에서 \"나이\" 값을 출력하세요."
   ]
  },
  {
   "cell_type": "code",
   "execution_count": 7,
   "metadata": {
    "id": "20NlLqLjoNL3"
   },
   "outputs": [
    {
     "name": "stdout",
     "output_type": "stream",
     "text": [
      "나이 : 32\n"
     ]
    }
   ],
   "source": [
    "print(f'나이 : {wizard.get(\"나이\")}')"
   ]
  },
  {
   "cell_type": "markdown",
   "metadata": {
    "id": "H2CHn5pQn__g"
   },
   "source": [
    "## [문제 3] 딕셔너리 값 추가\n",
    "### {\"이름\": \"본인이름\"}에 \"능력\": \"aws\"을 추가하세요."
   ]
  },
  {
   "cell_type": "code",
   "execution_count": 15,
   "metadata": {
    "id": "5QLMl1b3oTc5"
   },
   "outputs": [
    {
     "name": "stdout",
     "output_type": "stream",
     "text": [
      "{'이름': '박유진', '나이': '32', '능력': ['coding', 'aws']}\n"
     ]
    }
   ],
   "source": [
    "wizard.update({\"능력\" : [wizard.get(\"능력\"), \"aws\"]})\n",
    "print(wizard)"
   ]
  },
  {
   "cell_type": "markdown",
   "metadata": {
    "id": "0GrzhlSBoADc"
   },
   "source": [
    "## [문제 4] 딕셔너리 값 수정\n",
    "### {\"나이\": 본인나이}에서 나이를 100으로 수정하세요."
   ]
  },
  {
   "cell_type": "code",
   "execution_count": 17,
   "metadata": {
    "id": "DapwxriCoc6n"
   },
   "outputs": [
    {
     "name": "stdout",
     "output_type": "stream",
     "text": [
      "{'이름': '박유진', '나이': 100, '능력': ['coding', 'aws']}\n"
     ]
    }
   ],
   "source": [
    "wizard[\"나이\"] = 100\n",
    "\n",
    "print(wizard)"
   ]
  },
  {
   "cell_type": "markdown",
   "metadata": {
    "id": "0T_pYT9ToAHI"
   },
   "source": [
    "## [문제 5] 딕셔너리 키 확인\n",
    "### {\"능력\": \"마법\"}에서 \"능력\" 키가 있는지 확인하세요."
   ]
  },
  {
   "cell_type": "code",
   "execution_count": 21,
   "metadata": {
    "id": "00JAi5Zdoiyo"
   },
   "outputs": [
    {
     "name": "stdout",
     "output_type": "stream",
     "text": [
      "능력 키가 있습니다.\n"
     ]
    }
   ],
   "source": [
    "if \"능력\" in wizard.keys():\n",
    "    print(\"능력 키가 있습니다.\")\n",
    "else:\n",
    "    print(\"능력 키가 없습니다.\")"
   ]
  },
  {
   "cell_type": "markdown",
   "metadata": {
    "id": "Q_FuuuwQoAKc"
   },
   "source": [
    "## [문제 6] 딕셔너리 모든 키 출력\n",
    "### {\"이름\": \"해리\", \"나이\": 20}의 모든 키를 출력하세요."
   ]
  },
  {
   "cell_type": "code",
   "execution_count": 22,
   "metadata": {
    "id": "P0qEyOP-pA5f"
   },
   "outputs": [
    {
     "name": "stdout",
     "output_type": "stream",
     "text": [
      "dict_keys(['이름', '나이'])\n"
     ]
    }
   ],
   "source": [
    "dict6 = {\"이름\" : \"해리\", \"나이\" : 20}\n",
    "\n",
    "print(dict6.keys())"
   ]
  },
  {
   "cell_type": "markdown",
   "metadata": {
    "id": "PJbaq8n1oANw"
   },
   "source": [
    "## [문제 7] 딕셔너리 모든 값 출력\n",
    "### {\"이름\": \"론\", \"능력\": \"친화력\"}의 모든 값을 출력하세요."
   ]
  },
  {
   "cell_type": "code",
   "execution_count": 25,
   "metadata": {
    "id": "v1zxCLKfpGbn"
   },
   "outputs": [
    {
     "name": "stdout",
     "output_type": "stream",
     "text": [
      "dict_values(['론', '친화력'])\n"
     ]
    }
   ],
   "source": [
    "dict7 = {\"이름\" : \"론\", \"능력\" : \"친화력\"}\n",
    "\n",
    "print(dict7.values())"
   ]
  },
  {
   "cell_type": "markdown",
   "metadata": {
    "id": "C441ngAUoAQx"
   },
   "source": [
    "## [문제 8] 딕셔너리 병합\n",
    "### {\"이름\": \"본인이름\"}와 {\"나이\": 본인나이}을 병합하세요."
   ]
  },
  {
   "cell_type": "code",
   "execution_count": 35,
   "metadata": {
    "id": "4z7-CrJapNGs"
   },
   "outputs": [
    {
     "name": "stdout",
     "output_type": "stream",
     "text": [
      "{'이름': '박유진'}\n",
      "{'나이': 32}\n",
      "{'이름': '박유진', '나이': 32}\n"
     ]
    }
   ],
   "source": [
    "dict8_name = {\"이름\" : \"박유진\"}\n",
    "dict8_age = {\"나이\" : 32}\n",
    "\n",
    "combine_dict8 = {**dict8_name, ** dict8_age}\n",
    "\n",
    "print(dict8_name)\n",
    "print(dict8_age)\n",
    "print(combine_dict8)"
   ]
  },
  {
   "cell_type": "markdown",
   "metadata": {
    "id": "hxg8lUKNoAUJ"
   },
   "source": [
    "## [문제 9] 딕셔너리 값 삭제\n",
    "### {\"이름\": \"헤르미온느\", \"능력\": \"지식\"}에서 \"능력\" 값을 삭제하세요."
   ]
  },
  {
   "cell_type": "code",
   "execution_count": 36,
   "metadata": {
    "id": "VkvlF5SapUcN"
   },
   "outputs": [
    {
     "name": "stdout",
     "output_type": "stream",
     "text": [
      "{'이름': '헤르미온느'}\n"
     ]
    }
   ],
   "source": [
    "dict9 = {\"이름\" : \"헤르미온느\", \"능력\" : \"지식\"}\n",
    "\n",
    "dict9.pop(\"능력\")\n",
    "print(dict9)"
   ]
  },
  {
   "cell_type": "markdown",
   "metadata": {
    "id": "Jf-vswD1oAXX"
   },
   "source": [
    "## [문제 10] 딕셔너리 값으로 정렬\n",
    "### `{\"a\": 3, \"b\": 1, \"c\": 2}`를 값 기준으로 정렬하세요."
   ]
  },
  {
   "cell_type": "code",
   "execution_count": 40,
   "metadata": {
    "id": "9ndS5KiApf6D"
   },
   "outputs": [
    {
     "name": "stdout",
     "output_type": "stream",
     "text": [
      "[('b', 1), ('c', 2), ('a', 3)]\n",
      "dict_items([('a', 3), ('b', 1), ('c', 2)])\n"
     ]
    }
   ],
   "source": [
    "dict10 = {\"a\" : 3, \"b\" : 1, \"c\" : 2}\n",
    "\n",
    "sort_dict10 = sorted(dict10.items(), key=lambda x:x[1])\n",
    "print(sort_dict10)\n",
    "\n",
    "print(dict10.items())"
   ]
  },
  {
   "cell_type": "markdown",
   "metadata": {
    "id": "Ae2S6qsroAaj"
   },
   "source": [
    "## [문제 11] 키-값 추가\n",
    "### 위의 `wizards` 변수에 {\"학교\" : \"오즈코딩스쿨\"} 를 추가하세요."
   ]
  },
  {
   "cell_type": "code",
   "execution_count": 41,
   "metadata": {
    "id": "RO_Bwqi0pqn-"
   },
   "outputs": [
    {
     "name": "stdout",
     "output_type": "stream",
     "text": [
      "{'이름': '박유진', '나이': 100, '능력': ['coding', 'aws'], '학교': '오즈코딩스쿨'}\n"
     ]
    }
   ],
   "source": [
    "wizard.update({\"학교\" : \"오즈코딩스쿨\"})\n",
    "print(wizard)"
   ]
  },
  {
   "cell_type": "markdown",
   "metadata": {
    "id": "nYHf_032po9d"
   },
   "source": [
    "## [문제 12] 값 수정\n",
    "### `wizards`의 \"능력\"의 값을 \"버그 발견\" 으로 수정하세요."
   ]
  },
  {
   "cell_type": "code",
   "execution_count": 42,
   "metadata": {
    "id": "CFdOkqKypxvC"
   },
   "outputs": [
    {
     "name": "stdout",
     "output_type": "stream",
     "text": [
      "{'이름': '박유진', '나이': 100, '능력': '버그 발견', '학교': '오즈코딩스쿨'}\n"
     ]
    }
   ],
   "source": [
    "wizard.update({\"능력\" : \"버그 발견\"})\n",
    "print(wizard)"
   ]
  },
  {
   "cell_type": "markdown",
   "metadata": {
    "id": "zRl72kMfppmT"
   },
   "source": [
    "## [문제 13] 딕셔너리 값 삭제\n",
    "### `wizards`의 \"능력\" 키와 값을 삭제하세요."
   ]
  },
  {
   "cell_type": "code",
   "execution_count": 43,
   "metadata": {
    "id": "3tgWalESp8gH"
   },
   "outputs": [
    {
     "name": "stdout",
     "output_type": "stream",
     "text": [
      "{'이름': '박유진', '나이': 100, '학교': '오즈코딩스쿨'}\n"
     ]
    }
   ],
   "source": [
    "wizard.pop(\"능력\")\n",
    "print(wizard)"
   ]
  },
  {
   "cell_type": "markdown",
   "metadata": {
    "id": "xjEMNjmypppp"
   },
   "source": [
    "## [문제 14] 모든 키 출력\n",
    "### `wizards`의 모든 키를 출력하세요."
   ]
  },
  {
   "cell_type": "code",
   "execution_count": 44,
   "metadata": {
    "id": "rKEhMrzNqDU3"
   },
   "outputs": [
    {
     "name": "stdout",
     "output_type": "stream",
     "text": [
      "dict_keys(['이름', '나이', '학교'])\n"
     ]
    }
   ],
   "source": [
    "print(wizard.keys())"
   ]
  },
  {
   "cell_type": "markdown",
   "metadata": {
    "id": "_Khar5hWppsl"
   },
   "source": [
    "## [문제 15] 데이터 카운트\n",
    "### `[\"빗자루\", \"망토\", \"빗자루\"]`에서 각 항목의 개수를 딕셔너리로 출력하세요.\n"
   ]
  },
  {
   "cell_type": "code",
   "execution_count": 60,
   "metadata": {
    "id": "ux9mR1uqqK8m"
   },
   "outputs": [
    {
     "name": "stdout",
     "output_type": "stream",
     "text": [
      "{'망토': 1, '빗자루': 2}\n"
     ]
    }
   ],
   "source": [
    "list15 = [\"빗자루\", \"망토\", \"빗자루\"]\n",
    "set15 = set(list15)\n",
    "dict15 = dict()\n",
    "\n",
    "for i in range(len(set15)):\n",
    "    dict15.update({list(set15)[i] : list15.count(list(set15)[i])})\n",
    "\n",
    "print(dict15)\n",
    "    \n",
    "\n",
    "# print(len(set15))\n",
    "# print(list(set15)[0])\n",
    "# print(list(set15)[1])\n",
    "# # print(set15[1])\n",
    "# print(list15.count(list(set15)[1]))\n"
   ]
  },
  {
   "cell_type": "markdown",
   "metadata": {
    "id": "qHhc7Q75ppvj"
   },
   "source": [
    "## [문제 16] 중복 제거 및 정렬\n",
    "### `[3, 1, 2, 3, 4, 1]`에서 중복을 제거하고 정렬하세요.\n"
   ]
  },
  {
   "cell_type": "code",
   "execution_count": 61,
   "metadata": {
    "id": "XFyY3Gviq8Hy"
   },
   "outputs": [
    {
     "name": "stdout",
     "output_type": "stream",
     "text": [
      "[1, 2, 3, 4]\n"
     ]
    }
   ],
   "source": [
    "nums = [3, 1, 2, 3, 4, 1]\n",
    "\n",
    "print(sorted(set(nums)))"
   ]
  },
  {
   "cell_type": "markdown",
   "metadata": {
    "id": "zHlQAfWOppys"
   },
   "source": [
    "## [문제 17] 마법사 투표 결과\n",
    "### `{\"파머\": 5, \"연수\": 3, \"제임스\": 8}` 에서 가장 많은 투표를 받은 사람을 출력하세요."
   ]
  },
  {
   "cell_type": "code",
   "execution_count": 133,
   "metadata": {
    "id": "g7A7gkVsrDGq"
   },
   "outputs": [
    {
     "name": "stdout",
     "output_type": "stream",
     "text": [
      "('제임스', 8)\n",
      "가장 투표를 많이 받은 사람은? 제임스\n"
     ]
    }
   ],
   "source": [
    "dict17 = {\"파머\" : 5, \"연수\" : 3, \"제임스\" : 8}\n",
    "\n",
    "max_dict17 = max(dict17.items(), key=lambda x:x[1])\n",
    "print(max_dict17)\n",
    "print(f'가장 투표를 많이 받은 사람은? {max_dict17[0]}')"
   ]
  },
  {
   "cell_type": "markdown",
   "metadata": {
    "id": "GX957sq-pp1U"
   },
   "source": [
    "## [문제 18] 딕셔너리에서 키 값 가져오기\n",
    "### `{\"어둠의 코딩\" : \"파머머\", \"해병대의 마법학 정신\" : \"연수핑\", \"전설의 디버깅\" : \"머용대\"}`을 변수명 `magic_class`에 담고 \"해병대의 마법학 정신\"의 값을 출력하세요."
   ]
  },
  {
   "cell_type": "code",
   "execution_count": 76,
   "metadata": {
    "id": "t448w8iIrIqY"
   },
   "outputs": [
    {
     "name": "stdout",
     "output_type": "stream",
     "text": [
      "연수핑\n"
     ]
    }
   ],
   "source": [
    "magic_class = {\"어둠의 코딩\" : \"파머머\", \"해병대의 마법학 정신\" : \"연수핑\", \"전설의 디버깅\" : \"머용대\"}\n",
    "\n",
    "print(magic_class[\"해병대의 마법학 정신\"])"
   ]
  },
  {
   "cell_type": "markdown",
   "metadata": {
    "id": "cTGxAjappp4K"
   },
   "source": [
    "## [문제 19] 딕셔너리 병합\n",
    "### `magic_class` 에 {\"최고의 협업가\" : \"리수혀느\"}를 병합하세요."
   ]
  },
  {
   "cell_type": "code",
   "execution_count": 78,
   "metadata": {
    "id": "W3gw9-x_rOYA"
   },
   "outputs": [
    {
     "name": "stdout",
     "output_type": "stream",
     "text": [
      "{'어둠의 코딩': '파머머', '해병대의 마법학 정신': '연수핑', '전설의 디버깅': '머용대', '최고의 협업가': '리수혀느'}\n"
     ]
    }
   ],
   "source": [
    "add_class = {\"최고의 협업가\" : \"리수혀느\"}\n",
    "combine_dict19 = {**magic_class, **add_class}\n",
    "\n",
    "print(combine_dict19)"
   ]
  },
  {
   "cell_type": "markdown",
   "metadata": {
    "id": "hKkEeNUIpp60"
   },
   "source": [
    "## [문제 20] 딕셔너리에서 키 존재 확인\n",
    "### `magic_class` 에 \"파머머\" 값이 있는지 확인하세요."
   ]
  },
  {
   "cell_type": "code",
   "execution_count": 86,
   "metadata": {
    "id": "zyy3vNqVrgoh"
   },
   "outputs": [
    {
     "name": "stdout",
     "output_type": "stream",
     "text": [
      "파머머 는 있습니다.\n"
     ]
    }
   ],
   "source": [
    "word = \"파머머\"\n",
    "\n",
    "if word in magic_class.values():\n",
    "    print(f'{word} 는 있습니다.')\n",
    "else:\n",
    "    print(f'{word} 는 없습니다.')"
   ]
  },
  {
   "cell_type": "markdown",
   "metadata": {
    "id": "7lIwYrNGpp9r"
   },
   "source": [
    "## [문제 21] 딕셔너리에서 특정 키 삭제\n",
    "### `wizard_class`에서 \"해군의 방어 마법\" 키가 있는지 확인하세요."
   ]
  },
  {
   "cell_type": "code",
   "execution_count": 87,
   "metadata": {
    "id": "XNfAJHtfsBCw"
   },
   "outputs": [
    {
     "name": "stdout",
     "output_type": "stream",
     "text": [
      "해군의 방어 마법 는 없습니다.\n"
     ]
    }
   ],
   "source": [
    "word = \"해군의 방어 마법\"\n",
    "\n",
    "if word in magic_class.keys():\n",
    "    print(f'{word} 는 있습니다.')\n",
    "else:\n",
    "    print(f'{word} 는 없습니다.')"
   ]
  },
  {
   "cell_type": "markdown",
   "metadata": {
    "id": "Pyf96Smor9fR"
   },
   "source": [
    "## [문제 22] 딕셔너리에서 특정 키 삭제\n",
    "### `wizards` 에서 \"능력\" 키를 삭제하세요."
   ]
  },
  {
   "cell_type": "code",
   "execution_count": 89,
   "metadata": {
    "id": "tScY5kI7sJLm"
   },
   "outputs": [
    {
     "name": "stdout",
     "output_type": "stream",
     "text": [
      "{'이름': '박유진', '나이': 100, '학교': '오즈코딩스쿨'}\n",
      "{'나이': 100, '학교': '오즈코딩스쿨'}\n"
     ]
    }
   ],
   "source": [
    "print(wizard)\n",
    "\n",
    "wizard.pop(\"이름\")\n",
    "print(wizard)"
   ]
  },
  {
   "cell_type": "markdown",
   "metadata": {
    "id": "KEKgOTUGr9oA"
   },
   "source": [
    "## [문제 23] 딕셔너리에서 값 목록 출력\n",
    "### `magic_class`의 모든 value 값을 리스트로 출력하세요."
   ]
  },
  {
   "cell_type": "code",
   "execution_count": 91,
   "metadata": {
    "id": "CkdkbVEOsN_a"
   },
   "outputs": [
    {
     "name": "stdout",
     "output_type": "stream",
     "text": [
      "['파머머', '연수핑', '머용대']\n"
     ]
    }
   ],
   "source": [
    "print(list(magic_class.values()))"
   ]
  },
  {
   "cell_type": "markdown",
   "metadata": {
    "id": "UnnPYH_nr9uA"
   },
   "source": [
    "## [문제 24] 딕셔너리 값 내 리스트 추가\n",
    "### {\"도구\": [\"지팡이\", \"망토\"]}에 \"수정구슬\"을 추가하세요."
   ]
  },
  {
   "cell_type": "code",
   "execution_count": 115,
   "metadata": {
    "id": "dW2jCM09sehw"
   },
   "outputs": [
    {
     "name": "stdout",
     "output_type": "stream",
     "text": [
      "{'도구': ['지팡이', '망토', '수정구슬']}\n"
     ]
    }
   ],
   "source": [
    "dict24 = {\"도구\" : [\"지팡이\", \"망토\"]}\n",
    "val = dict24.get(\"도구\")\n",
    "val.append(\"수정구슬\")\n",
    "dict24.update({\"도구\" : val})\n",
    "print(dict24)"
   ]
  },
  {
   "cell_type": "markdown",
   "metadata": {
    "id": "3nqFRP55r9ww"
   },
   "source": [
    "## [문제 25] 딕셔너리에서 값 합산\n",
    "### {\"빗자루\": 3, \"망토\": 2, \"수정구슬\": 5}에서 모든 값을 더하세요."
   ]
  },
  {
   "cell_type": "code",
   "execution_count": 127,
   "metadata": {
    "id": "QeaJa0YKstlC"
   },
   "outputs": [
    {
     "name": "stdout",
     "output_type": "stream",
     "text": [
      "10\n"
     ]
    }
   ],
   "source": [
    "dict25 = {\"빗자루\" : 3, \"망토\" : 2, \"수정구슬\" : 5}\n",
    "result = sum(dict25.values())\n",
    "print(result)\n"
   ]
  },
  {
   "cell_type": "markdown",
   "metadata": {
    "id": "BLZFhvoOr90o"
   },
   "source": [
    "## [문제 26] 딕셔너리 키 변경\n",
    "### {\"old_key\": 1}의 \"old_key\"를 \"new_key\"로 바꾸세요."
   ]
  },
  {
   "cell_type": "code",
   "execution_count": 143,
   "metadata": {
    "id": "LOU-a1slsy_9"
   },
   "outputs": [
    {
     "name": "stdout",
     "output_type": "stream",
     "text": [
      "{'old_key': 1}\n",
      "{'new_key': 1}\n"
     ]
    }
   ],
   "source": [
    "dict26 = {\"old_key\" : 1}\n",
    "old_val = dict26[\"old_key\"]\n",
    "\n",
    "print(dict26)\n",
    "\n",
    "dict26.pop(\"old_key\")\n",
    "dict26.update({\"new_key\" : old_val})\n",
    "\n",
    "print(dict26)"
   ]
  },
  {
   "cell_type": "markdown",
   "metadata": {
    "id": "-mYdOVY_r931"
   },
   "source": [
    "## [문제 27] 이중 딕셔너리 값 검색\n",
    "### {\"마법사\": {\"이름\": \"해리\", \"학교\": \"호그와트\"}}에서 \"학교\" 값을 출력하세요.\n"
   ]
  },
  {
   "cell_type": "code",
   "execution_count": 153,
   "metadata": {
    "id": "NJVuMGI6s4h0"
   },
   "outputs": [
    {
     "name": "stdout",
     "output_type": "stream",
     "text": [
      "{'이름': '해리', '학교': '호그와트'}\n",
      "호그와트\n"
     ]
    }
   ],
   "source": [
    "dict27 = {\"마법사\" : {\"이름\" : \"해리\", \"학교\" : \"호그와트\"}}\n",
    "\n",
    "print(dict27[\"마법사\"])\n",
    "print(dict27[\"마법사\"][\"학교\"])\n"
   ]
  }
 ],
 "metadata": {
  "colab": {
   "authorship_tag": "ABX9TyPl+VPzjPwMTSVKP1D0rf3D",
   "provenance": []
  },
  "kernelspec": {
   "display_name": "base",
   "language": "python",
   "name": "python3"
  },
  "language_info": {
   "codemirror_mode": {
    "name": "ipython",
    "version": 3
   },
   "file_extension": ".py",
   "mimetype": "text/x-python",
   "name": "python",
   "nbconvert_exporter": "python",
   "pygments_lexer": "ipython3",
   "version": "3.12.7"
  }
 },
 "nbformat": 4,
 "nbformat_minor": 0
}
