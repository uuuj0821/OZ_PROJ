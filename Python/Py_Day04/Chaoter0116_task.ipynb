{
 "cells": [
  {
   "cell_type": "markdown",
   "metadata": {
    "id": "BX7SgOeWu86I"
   },
   "source": [
    "안녕하세요. 수강생 여러분~! \n",
    "\n",
    "다시 돌아온 조금 더 성장할 기 ! 회 ! \n",
    "\n",
    "Chapter01 ~ 16의 수업 내용을 바탕으로 아래 문제를 풀어주시면 됩니다 !\n",
    "\n",
    "지금까지 잘 해오셨으니까, 총 복습한다고 생각하시고 한번 도전해보세요 !!!\n",
    "\n",
    "차근 차근 문제와 요구사항을 읽고 작성해보세요.\n",
    "\n",
    "<br>\n",
    "\n",
    "\n",
    "[**답변 입력 방법**]\n",
    "\n",
    "문제 아래에 있는 코드 입력창에 정답코드를 작성하신 후  __▷ 버튼을 클릭해 코드를 실행__ 해보세요<br>"
   ]
  },
  {
   "cell_type": "markdown",
   "metadata": {},
   "source": [
    "---"
   ]
  },
  {
   "cell_type": "markdown",
   "metadata": {},
   "source": [
    "#### 프로젝트: 붕어빵 자동 판매 시스템\n",
    "\n",
    "\n",
    "당신은 붕어빵 가게의 주인입니다. \n",
    "\n",
    "손님들이 붕어빵을 주문하면 이를 자동으로 처리하고, 재고를 관리하는 시스템을 만들고자 합니다. \n",
    "\n",
    "또한, 관리자 모드를 통해 재고를 추가할 수 있는 기능을 구현해야 합니다.\n"
   ]
  },
  {
   "cell_type": "markdown",
   "metadata": {},
   "source": [
    "__[문제 1: 붕어빵 재고 확인]__\n",
    "\n",
    "붕어빵 가게의 현재 재고를 확인하는 기능을 구현하세요.\n",
    "\n",
    "요구사항:\n",
    "- 현재 붕어빵의 재고를 딕셔너리로 관리합니다.\n",
    "- 딕셔너리에는 붕어빵의 종류와 각각의 재고 개수가 저장됩니다.\n",
    "- 현재 재고를 화면에 출력하세요.\n",
    "\n",
    "붕어빵 재고\n",
    "- 팥붕어빵 : 10개\n",
    "- 슈크림붕어빵 : 8개\n",
    "- 초코붕어빵 : 5개"
   ]
  },
  {
   "cell_type": "code",
   "execution_count": 59,
   "metadata": {},
   "outputs": [
    {
     "name": "stdout",
     "output_type": "stream",
     "text": [
      "{'팥붕어빵': 10, '슈크림붕어빵': 8, '초코붕어빵': 5}\n"
     ]
    }
   ],
   "source": [
    "bread_type = [\"팥붕어빵\", \"슈크림붕어빵\", \"초코붕어빵\"]\n",
    "stock_count = [10, 8, 5]\n",
    "\n",
    "stock = dict(zip(bread_type, stock_count))\n",
    "print(stock)\n",
    "\n"
   ]
  },
  {
   "cell_type": "markdown",
   "metadata": {},
   "source": [
    "__[문제 2: 붕어빵 주문 받기]__\n",
    "\n",
    "손님이 주문한 붕어빵의 종류와 개수를 입력받는 기능을 구현하세요.\n",
    "\n",
    "요구사항:\n",
    "- 손님이 주문할 붕어빵의 종류와 개수를 입력받습니다.\n",
    "- 주문 내용을 딕셔너리에 저장하세요.\n",
    "- 주문 내역을 출력해주세요."
   ]
  },
  {
   "cell_type": "code",
   "execution_count": 62,
   "metadata": {},
   "outputs": [
    {
     "name": "stdout",
     "output_type": "stream",
     "text": [
      "{'초코붕어빵': ' 2'}\n"
     ]
    }
   ],
   "source": [
    "order_type, order_amount = input(\"붕어빵을 주문해주세요. (종류(팥붕어빵, 슈크림붕어빵, 초코붕어빵), 개수)\").split(\",\")\n",
    "order = {order_type:order_amount}\n",
    "\n",
    "print(order)\n"
   ]
  },
  {
   "cell_type": "markdown",
   "metadata": {},
   "source": [
    "__[문제 3: 붕어빵 주문 처리]__\n",
    "\n",
    "손님의 주문을 처리하여 붕어빵 재고를 업데이트하는 기능을 구현하세요.\n",
    "\n",
    "요구사항:\n",
    "- 손님의 주문 내용을 기반으로 재고를 업데이트합니다.\n",
    "- 재고가 부족할 경우, 손님에게 재고 부족을 알리고 재고를 감소시키지 않습니다.\n",
    "- 재고가 충분할 경우, 주문한 만큼 재고를 감소시키고 판매를 완료합니다.\n",
    "- 판매가 완료된 경우 판매된 붕어빵 맛과 개수를 출력하세요."
   ]
  },
  {
   "cell_type": "code",
   "execution_count": 63,
   "metadata": {},
   "outputs": [
    {
     "name": "stdout",
     "output_type": "stream",
     "text": [
      "주문하신 붕어빵은 초코붕어빵 이고 주문수량은  2 입니다. 감사합니다.\n",
      "{'팥붕어빵': 10, '슈크림붕어빵': 6, '초코붕어빵': 3}\n"
     ]
    }
   ],
   "source": [
    "# order_type : 주문타입(붕어빵종류) // order_amount : 주문수량\n",
    "# stock : 재고 (dict type)\n",
    "# order : 주문 종류 및 수량 (dick type)\n",
    "\n",
    "if (stock.get(order_type) - int(order_amount)) < 0: # 재고가 부족할 경우, 손님에게 재고 부족을 알리고 재고를 감소시키지 않습니다.\n",
    "    print(f'{order_type}의 수량이 부족합니다. 주문할 수 있는 최고 수량은 {stock.get(order_type)} 개 입니다. 다시 주문 해 주세요.')\n",
    "else: # 재고가 충분할 경우, 주문한 만큼 재고를 감소시키고 판매를 완료합니다.\n",
    "    stock.update({order_type : stock.get(order_type) - int(order_amount)})  # 손님의 주문 내용을 기반으로 재고를 업데이트합니다.\n",
    "    print(f'주문하신 붕어빵은 {order_type} 이고 주문수량은 {order_amount} 입니다. 감사합니다.') # 판매가 완료된 경우 판매된 붕어빵 맛과 개수를 출력하세요.\n",
    "    \n",
    "print(stock)\n",
    "\n"
   ]
  },
  {
   "cell_type": "markdown",
   "metadata": {},
   "source": [
    "__[문제 4: 여러 손님 주문 처리]__\n",
    "\n",
    "여러 손님들의 주문을 처리할 수 있도록 시스템을 확장하세요.\n",
    "\n",
    "요구사항:\n",
    "- 손님이 \"종료\"를 입력할 때까지 주문을 계속 받습니다.\n",
    "- 각 주문마다 재고를 업데이트합니다.\n",
    "- 현재 재고를 화면에 출력합니다."
   ]
  },
  {
   "cell_type": "code",
   "execution_count": 73,
   "metadata": {},
   "outputs": [
    {
     "name": "stdout",
     "output_type": "stream",
     "text": [
      "팥붕어빵의 수량이 부족합니다. 주문할 수 있는 최고 수량은 10 개 입니다. 다시 주문 해 주세요.\n",
      "{'팥붕어빵': 10, '슈크림붕어빵': 8, '초코붕어빵': 5}\n",
      "주문하신 붕어빵은 팥붕어빵 이고 주문수량은 2 입니다. 감사합니다.\n",
      "{'팥붕어빵': 8, '슈크림붕어빵': 8, '초코붕어빵': 5}\n",
      "오늘 장사 끝!\n"
     ]
    }
   ],
   "source": [
    "# order_type : 주문타입(붕어빵종류) // order_amount : 주문수량\n",
    "# stock : 재고 (dict type)\n",
    "# order : 주문 종류 및 수량 (dick type)\n",
    "\n",
    "## 현재재고\n",
    "bread_type = [\"팥붕어빵\", \"슈크림붕어빵\", \"초코붕어빵\"]\n",
    "stock_count = [10, 8, 5]\n",
    "stock = dict(zip(bread_type, stock_count))\n",
    "\n",
    "## 주문\n",
    "while True:\n",
    "    order_type = input(\"붕어빵의 종류를 입력해주세요. (종류(팥붕어빵, 슈크림붕어빵, 초코붕어빵, 종료)\")\n",
    "\n",
    "    if order_type == \"종료\": # 종료를 입력하면 주문 끝\n",
    "        print(\"오늘 장사 끝!\")\n",
    "        break\n",
    "\n",
    "    order_amount = input(\"붕어빵의 수량을 입력해주세요.\") \n",
    "    order = {order_type:order_amount}\n",
    "\n",
    "    if (stock.get(order_type) - int(order_amount)) < 0: # 재고가 부족할 경우, 손님에게 재고 부족을 알리고 재고를 감소시키지 않습니다.\n",
    "        print(f'{order_type}의 수량이 부족합니다. 주문할 수 있는 최고 수량은 {stock.get(order_type)} 개 입니다. 다시 주문 해 주세요.')\n",
    "    else: # 재고가 충분할 경우, 주문한 만큼 재고를 감소시키고 판매를 완료합니다.\n",
    "        stock.update({order_type : stock.get(order_type) - int(order_amount)})  # 손님의 주문 내용을 기반으로 재고를 업데이트합니다.\n",
    "        print(f'주문하신 붕어빵은 {order_type} 이고 주문수량은 {order_amount} 입니다. 감사합니다.') # 판매가 완료된 경우 판매된 붕어빵 맛과 개수를 출력하세요.\n",
    "\n",
    "    print(stock)"
   ]
  },
  {
   "cell_type": "markdown",
   "metadata": {},
   "source": [
    "__[문제 5: 관리자 모드]__\n",
    "\n",
    "관리자 모드를 통해 붕어빵 재고를 추가할 수 있는 기능을 구현하세요.\n",
    "\n",
    "요구사항:\n",
    "- 관리자는 특정 붕어빵의 재고를 추가할 수 있습니다.\n",
    "- \"종료\"를 입력하면 관리자 모드를 종료합니다.\n",
    "- 추가된 재고를 업데이트하고 현재 재고를 화면에 출력합니다."
   ]
  },
  {
   "cell_type": "code",
   "execution_count": 79,
   "metadata": {},
   "outputs": [
    {
     "name": "stdout",
     "output_type": "stream",
     "text": [
      "오늘 장사 끝!\n"
     ]
    }
   ],
   "source": [
    "# order_type : 주문타입(붕어빵종류) // order_amount : 주문수량\n",
    "# stock : 재고 (dict type)\n",
    "# order : 주문 종류 및 수량 (dick type)\n",
    "\n",
    "## 현재재고\n",
    "bread_type = [\"팥붕어빵\", \"슈크림붕어빵\", \"초코붕어빵\"]\n",
    "stock_count = [10, 8, 5]\n",
    "stock = dict(zip(bread_type, stock_count))\n",
    "\n",
    "## 작업 선택\n",
    "work = input(\"작업을 선택 해주세요. (재고(1), 주문(2))\")\n",
    "\n",
    "if work == \"재고\" or work == \"1\": # 관리자모드\n",
    "    while True:\n",
    "        add_type = input(\"[재고] 붕어빵의 종류를 입력해주세요. (종류(팥붕어빵, 슈크림붕어빵, 초코붕어빵, 종료)\")\n",
    "\n",
    "        if add_type == \"종료\": # 종료를 입력하면 관리자모드 끝\n",
    "            print(\"오늘 재고조사 끝!\")\n",
    "            break\n",
    "        \n",
    "        add_amount = input(\"붕어빵의 수량을 입력해주세요.\") \n",
    "        stock.update({add_type : stock.get(add_type) + int(add_amount)})  # 재고 업데이트\n",
    "        print(stock)\n",
    "\n",
    "else: # 주문모드\n",
    "    while True:\n",
    "        order_type = input(\"붕어빵의 종류를 입력해주세요. (종류(팥붕어빵, 슈크림붕어빵, 초코붕어빵, 종료)\")\n",
    "\n",
    "        if order_type == \"종료\": # 종료를 입력하면 주문 끝\n",
    "            print(\"오늘 장사 끝!\")\n",
    "            break\n",
    "\n",
    "        order_amount = input(\"붕어빵의 수량을 입력해주세요.\") \n",
    "        order = {order_type:order_amount}\n",
    "\n",
    "        if (stock.get(order_type) - int(order_amount)) < 0: # 재고가 부족할 경우, 손님에게 재고 부족을 알리고 재고를 감소시키지 않습니다.\n",
    "            print(f'{order_type}의 수량이 부족합니다. 주문할 수 있는 최고 수량은 {stock.get(order_type)} 개 입니다. 다시 주문 해 주세요.')\n",
    "        else: # 재고가 충분할 경우, 주문한 만큼 재고를 감소시키고 판매를 완료합니다.\n",
    "            stock.update({order_type : stock.get(order_type) - int(order_amount)})  # 손님의 주문 내용을 기반으로 재고를 업데이트합니다.\n",
    "            print(f'주문하신 붕어빵은 {order_type} 이고 주문수량은 {order_amount} 입니다. 감사합니다.') # 판매가 완료된 경우 판매된 붕어빵 맛과 개수를 출력하세요.\n",
    "\n",
    "        print(stock)"
   ]
  },
  {
   "cell_type": "markdown",
   "metadata": {},
   "source": [
    "__[문제 6: 매출 확인]__\n",
    "\n",
    "붕어빵 판매 가격을 설정하고, 판매한 붕어빵의 매출을 계산하세요.\n",
    "\n",
    "요구사항:\n",
    "- 각 붕어빵의 가격을 딕셔너리로 관리합니다.\n",
    "- 판매된 붕어빵의 종류와 개수를 딕셔너리로 관리합니다.\n",
    "- 총 매출을 계산하여 출력합니다.\n",
    "\n",
    "초기 설정:\n",
    "- 가격\n",
    "    - \"팥붕어빵\": 1000\n",
    "    - \"슈크림붕어빵\": 1200\n",
    "    - \"초코붕어빵\": 1500\n",
    "\n",
    "- 판매 개수\n",
    "    - \"팥붕어빵\": 0\n",
    "    - \"슈크림붕어빵\": 0\n",
    "    - \"초코붕어빵\": 0"
   ]
  },
  {
   "cell_type": "code",
   "execution_count": null,
   "metadata": {},
   "outputs": [],
   "source": [
    "# order_type : 주문타입(붕어빵종류) // order_amount : 주문수량\n",
    "# stock : 재고 (dict type)\n",
    "# order : 주문 종류 및 수량 (dick type)\n",
    "\n",
    "class businessBungeoppang:\n",
    "    def __init__(self):\n",
    "        self.stock_type = \"\" # 재고 - 붕어빵종류\n",
    "        self.stock_amount = 0 # 재고 - 붕어빵수량\n",
    "\n",
    "    def admin_stock_bungeoppang(): # 붕어빵 재고\n",
    "        bungeoppang_type = [\"팥붕어빵\", \"슈크림붕어빵\", \"초코붕어빵\"]\n",
    "        bungeoppang_price = [1000, 1200, 1500]\n",
    "\n",
    "        stock_count = map(int, input(\"붕어빵의 각 재고 수량을 입력해주세요! (쉼표로 구분)\").split(\",\"))\n",
    "        stock = dict(zip(bungeoppang_type, stock_count))\n",
    "        price = dict(zip(bungeoppang_type, bungeoppang_price))\n",
    "    \n",
    "    def sell_bungeoppang(order_type, order_amount): # 붕어빵 주문\n",
    "        order = {order_type:order_amount}\n",
    "\n",
    "        if (stock.get(order_type) - int(order_amount)) < 0: # 재고가 부족할 경우, 손님에게 재고 부족을 알리고 재고를 감소시키지 않습니다.\n",
    "            print(f'{order_type}의 수량이 부족합니다. 주문할 수 있는 최고 수량은 {stock.get(order_type)} 개 입니다. 다시 주문 해 주세요.')\n",
    "        else: # 재고가 충분할 경우, 주문한 만큼 재고를 감소시키고 판매를 완료합니다.\n",
    "            stock.update({order_type : stock.get(order_type) - int(order_amount)})  # 손님의 주문 내용을 기반으로 재고를 업데이트합니다.\n",
    "            print(f'주문하신 붕어빵은 {order_type} 이고 주문수량은 {order_amount} 입니다. 감사합니다.') # 판매가 완료된 경우 판매된 붕어빵 맛과 개수를 출력하세요.\n",
    "\n",
    "    def admin_add_bungeoppang(add_type, add_amount):\n",
    "        add_amount = input(\"붕어빵의 수량을 입력해주세요.\") \n",
    "        stock.update({add_type : stock.get(add_type) + int(add_amount)})  # 재고 업데이트\n",
    "\n",
    "while True:\n",
    "    ## 작업 선택\n",
    "    work = input(\"작업을 선택 해주세요. (재고(1), 주문(2), 종료(3))\")\n",
    "\n",
    "    if work == \"종료\" or work == \"3\": # 종료를 입력하면 장사 끝\n",
    "        print(\"오늘 장사 끝!\")\n",
    "        break\n",
    "    elif work == \"재고\" or work == \"1\":\n",
    "\n",
    "\n"
   ]
  }
 ],
 "metadata": {
  "colab": {
   "authorship_tag": "ABX9TyMLQjyUmELFyKkx1AyovOFZ",
   "provenance": []
  },
  "kernelspec": {
   "display_name": "Python 3",
   "name": "python3"
  },
  "language_info": {
   "codemirror_mode": {
    "name": "ipython",
    "version": 3
   },
   "file_extension": ".py",
   "mimetype": "text/x-python",
   "name": "python",
   "nbconvert_exporter": "python",
   "pygments_lexer": "ipython3",
   "version": "3.9.6"
  }
 },
 "nbformat": 4,
 "nbformat_minor": 0
}
