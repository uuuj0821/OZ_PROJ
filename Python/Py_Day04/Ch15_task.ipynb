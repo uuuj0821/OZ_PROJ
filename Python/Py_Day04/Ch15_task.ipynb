{
 "cells": [
  {
   "cell_type": "markdown",
   "metadata": {},
   "source": [
    "<span style=\"font-size:100%\">\n",
    "\n",
    "수업은 모두 열심히 들으셨나요?\n",
    "\n",
    "간혹 강의에서 언급되지 않은 내용이 문제로 나올 수 있습니다.<br>\n",
    "그럴땐 강의 내용 외 문제는 구글링을 통해 해결해주세요<br></span>\n",
    "<span style=\"font-size:80%\">\n",
    "(구글링 또한 개발자가 갖쳐야할 역량 중에 하나랍니다 😊)\n",
    "</span>\n",
    "\n",
    "---"
   ]
  },
  {
   "cell_type": "markdown",
   "metadata": {},
   "source": [
    "<span style=\"font-size:80%\">[문제1]<br><br></span>\n",
    "```다음 중 for문으로 10번 반복하는 방법으로 올바른 것을 모두 골라주세요```\n",
    "\n",
    "1. for i in range(10):\n",
    "2. for i in range(5, 16):\n",
    "3. for i in range(10, 0):\n",
    "4. for i in range(20, 40, 2):\n",
    "5. for i in range(1, 10, 1):"
   ]
  },
  {
   "cell_type": "markdown",
   "metadata": {},
   "source": [
    "<span style=\"color:red\">답변</span>"
   ]
  },
  {
   "cell_type": "code",
   "execution_count": 6,
   "metadata": {},
   "outputs": [
    {
     "name": "stdout",
     "output_type": "stream",
     "text": [
      "9\n"
     ]
    }
   ],
   "source": [
    "정답 : 1. for i in range(10):\n",
    "      4. for i in range(20, 40, 2):\n"
   ]
  },
  {
   "cell_type": "markdown",
   "metadata": {},
   "source": []
  },
  {
   "cell_type": "markdown",
   "metadata": {},
   "source": [
    "----"
   ]
  },
  {
   "cell_type": "markdown",
   "metadata": {},
   "source": [
    "<span style=\"font-size:80%\">[문제2]<br><br></span>\n",
    "```아래 코드에서 잘못된 부분에 대해서 설명해주세요```\n",
    "\n",
    "count = input()\n",
    "\n",
    "for i in range(count)<br>\n",
    "&emsp;&emsp;print('i의 값은', end=' ')<br>\n",
    "&emsp;&emsp;print(i)<br>"
   ]
  },
  {
   "cell_type": "markdown",
   "metadata": {},
   "source": [
    "<span style=\"color:red\">답변</span>"
   ]
  },
  {
   "cell_type": "code",
   "execution_count": null,
   "metadata": {},
   "outputs": [],
   "source": [
    "input()은 str type 으로 반환해줌.\n",
    "따라서, count 변수의 data type은 str이다.\n",
    "\n",
    "range 함수는 인자로 int값을 받기 때문에 에러가 발생한다.\n",
    "count = int(input()) 으로 수정해야한다."
   ]
  },
  {
   "cell_type": "markdown",
   "metadata": {},
   "source": []
  },
  {
   "cell_type": "markdown",
   "metadata": {},
   "source": [
    "----"
   ]
  },
  {
   "cell_type": "markdown",
   "metadata": {},
   "source": [
    "<span style=\"font-size:80%\">[문제3]<br><br></span>\n",
    "```아래 코드를 실행 했을 때 결과물로 올바른 것을 골라주세요```\n",
    "\n",
    "for i in reversed(\"python\"):<br>\n",
    "&emsp;&emsp;print(i, end='.')<br>"
   ]
  },
  {
   "cell_type": "markdown",
   "metadata": {},
   "source": [
    "<span style=\"color:red\">답변</span>"
   ]
  },
  {
   "cell_type": "code",
   "execution_count": 11,
   "metadata": {},
   "outputs": [
    {
     "name": "stdout",
     "output_type": "stream",
     "text": [
      "n.o.h.t.y.p."
     ]
    }
   ],
   "source": [
    "for i in reversed(\"python\"):\n",
    "    print(i, end='.')\n",
    "\n",
    "# 출력 : n.o.h.t.y.p."
   ]
  },
  {
   "cell_type": "markdown",
   "metadata": {},
   "source": []
  },
  {
   "cell_type": "markdown",
   "metadata": {},
   "source": [
    "----"
   ]
  },
  {
   "cell_type": "markdown",
   "metadata": {},
   "source": [
    "<span style=\"font-size:80%\">[문제4]<br><br></span>\n",
    "```리스트에 저장된 데이터를 아래와 같이 출력하세요```\n",
    "\n",
    "오피스텔 = [ [201, 202], [301, 302], [401, 402] ]\n",
    "\n",
    "201호<br>\n",
    "202호<br>\n",
    "`----`\n",
    "\n",
    "301호<br>\n",
    "302호<br>\n",
    "`----`\n",
    "\n",
    "401호<br>\n",
    "402호<br>\n",
    "`----`"
   ]
  },
  {
   "cell_type": "markdown",
   "metadata": {},
   "source": [
    "<span style=\"color:red\">답변</span>"
   ]
  },
  {
   "cell_type": "code",
   "execution_count": 25,
   "metadata": {},
   "outputs": [
    {
     "name": "stdout",
     "output_type": "stream",
     "text": [
      "201호\n",
      "202호\n",
      "----\n",
      "\n",
      "301호\n",
      "302호\n",
      "----\n",
      "\n",
      "401호\n",
      "402호\n",
      "----\n",
      "\n"
     ]
    }
   ],
   "source": [
    "오피스텔 = [ [201, 202], [301, 302], [401, 402] ]\n",
    "\n",
    "for i in 오피스텔:\n",
    "    for j in i:\n",
    "        print(f'{j}호')\n",
    "    print(\"----\\n\")\n",
    "    \n",
    "\n"
   ]
  },
  {
   "cell_type": "markdown",
   "metadata": {},
   "source": []
  },
  {
   "cell_type": "markdown",
   "metadata": {},
   "source": [
    "----"
   ]
  },
  {
   "cell_type": "markdown",
   "metadata": {},
   "source": [
    "<span style=\"font-size:80%\">[문제5]<br><br></span>\n",
    "```ohlc 리스트에는 시가(open), 고가 (high), 저가 (low) , 종가(close)가 날짜별로 저장돼 있다. 종가가 150원보다 큰 경우에만 종가를 출력하는 코드를 작성해주세요```\n",
    "\n",
    "ohlc = [[\"open\", \"high\", \"low\", \"close\"], [100, 110, 70, 100], [200, 210, 180, 190], [300, 310, 300, 310]]"
   ]
  },
  {
   "cell_type": "markdown",
   "metadata": {},
   "source": [
    "<span style=\"color:red\">답변</span>"
   ]
  },
  {
   "cell_type": "code",
   "execution_count": 42,
   "metadata": {},
   "outputs": [
    {
     "name": "stdout",
     "output_type": "stream",
     "text": [
      "190\n",
      "310\n"
     ]
    }
   ],
   "source": [
    "ohlc = [[\"open\", \"high\", \"low\", \"close\"], [100, 110, 70, 100], [200, 210, 180, 190], [300, 310, 300, 310]]\n",
    "\n",
    "for i in range(1,4):\n",
    "    j = dict(zip(ohlc[0], ohlc[i]))\n",
    "    \n",
    "    if j['close'] > 150:\n",
    "        print(j['close'])\n",
    "\n",
    "\n"
   ]
  },
  {
   "cell_type": "markdown",
   "metadata": {},
   "source": []
  }
 ],
 "metadata": {
  "kernelspec": {
   "display_name": "Python 3",
   "language": "python",
   "name": "python3"
  },
  "language_info": {
   "codemirror_mode": {
    "name": "ipython",
    "version": 3
   },
   "file_extension": ".py",
   "mimetype": "text/x-python",
   "name": "python",
   "nbconvert_exporter": "python",
   "pygments_lexer": "ipython3",
   "version": "3.9.6"
  }
 },
 "nbformat": 4,
 "nbformat_minor": 2
}
