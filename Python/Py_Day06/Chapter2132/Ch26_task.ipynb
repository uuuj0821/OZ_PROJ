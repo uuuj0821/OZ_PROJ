{
 "cells": [
  {
   "cell_type": "markdown",
   "metadata": {},
   "source": [
    "0부터 시작하여 n까지의 숫자 중에서 홀수만 생성하는 제너레이터 odd_numbers를 작성하세요."
   ]
  },
  {
   "cell_type": "markdown",
   "metadata": {},
   "source": []
  },
  {
   "cell_type": "code",
   "execution_count": 7,
   "metadata": {},
   "outputs": [
    {
     "name": "stdout",
     "output_type": "stream",
     "text": [
      "1\n",
      "3\n",
      "5\n",
      "7\n",
      "9\n",
      "11\n",
      "13\n",
      "15\n",
      "17\n",
      "19\n"
     ]
    }
   ],
   "source": [
    "# def odd_numbers(n=10):\n",
    "#     nums = list()\n",
    "#     for i in range(n):\n",
    "#         if i % 2 != 0:\n",
    "#             nums.append(i)\n",
    "    \n",
    "#     return nums\n",
    "\n",
    "# odd_numbers(20)\n",
    "\n",
    "\n",
    "# 제너레이터 사용\n",
    "def odd_numbers(num):\n",
    "    for i in range(num):\n",
    "        if i % 2 != 0:\n",
    "            yield i\n",
    "\n",
    "n = 20\n",
    "for i in odd_numbers(n):    \n",
    "    print(i)\n",
    "\n",
    "\n",
    "\n",
    "# 제너레이터 예시)\n",
    "# def test():\n",
    "#     print(\"첫번째 출력\")\n",
    "#     yield 1 # next함수는 yield를 만나면 그 값을 반환하면서 빠져나감\n",
    "#     print(\"두번째 출력\")\n",
    "#     yield 2\n",
    "#     print(\"세번째 출력\")\n",
    "#     yield 3 # 없으면 StopIteration:  에러 발생함\n",
    "\n",
    "# output = test()\n",
    "# print(\"네번째 출력\")\n",
    "\n",
    "# x = next(output)\n",
    "# print(x)\n",
    "# print(\"다섯번째 출력\")\n",
    "# y = next(output)\n",
    "# print(y)\n",
    "# print(\"여섯번째 출력\")\n",
    "# z = next(output)\n",
    "# print(z)"
   ]
  }
 ],
 "metadata": {
  "kernelspec": {
   "display_name": "base",
   "language": "python",
   "name": "python3"
  },
  "language_info": {
   "codemirror_mode": {
    "name": "ipython",
    "version": 3
   },
   "file_extension": ".py",
   "mimetype": "text/x-python",
   "name": "python",
   "nbconvert_exporter": "python",
   "pygments_lexer": "ipython3",
   "version": "3.12.7"
  }
 },
 "nbformat": 4,
 "nbformat_minor": 2
}
