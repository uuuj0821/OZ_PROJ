{
 "cells": [
  {
   "cell_type": "markdown",
   "metadata": {},
   "source": [
    "문자열 리스트를 받아, 각 문자열의 길이를 출력하는 함수 print_lengths를 작성하세요."
   ]
  },
  {
   "cell_type": "markdown",
   "metadata": {},
   "source": []
  },
  {
   "cell_type": "code",
   "execution_count": 2,
   "metadata": {},
   "outputs": [
    {
     "name": "stdout",
     "output_type": "stream",
     "text": [
      "입력된 문자는 python, 문자열의 길이는 6 입니다\n",
      "입력된 문자는 java, 문자열의 길이는 4 입니다\n",
      "입력된 문자는 c, 문자열의 길이는 1 입니다\n"
     ]
    }
   ],
   "source": [
    "def print_lengths(languages:list):\n",
    "    for l in languages:\n",
    "        print(f'입력된 문자는 {l}, 문자열의 길이는 {len(l)} 입니다')\n",
    "\n",
    "words = list(input(\"단어를 입력해주세요. (쉼표로 구분해주세요.)\").split(\",\"))\n",
    "print_lengths(words)"
   ]
  }
 ],
 "metadata": {
  "kernelspec": {
   "display_name": "base",
   "language": "python",
   "name": "python3"
  },
  "language_info": {
   "codemirror_mode": {
    "name": "ipython",
    "version": 3
   },
   "file_extension": ".py",
   "mimetype": "text/x-python",
   "name": "python",
   "nbconvert_exporter": "python",
   "pygments_lexer": "ipython3",
   "version": "3.12.7"
  }
 },
 "nbformat": 4,
 "nbformat_minor": 2
}
