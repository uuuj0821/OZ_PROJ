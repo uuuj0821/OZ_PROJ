{
 "cells": [
  {
   "cell_type": "markdown",
   "metadata": {},
   "source": [
    "사용자로부터 3개의 숫자를 입력받아, 이를 튜플로 만든 후 최소값과 최대값을 출력하는 함수 min_max를 작성하세요."
   ]
  },
  {
   "cell_type": "code",
   "execution_count": 13,
   "metadata": {},
   "outputs": [
    {
     "name": "stdout",
     "output_type": "stream",
     "text": [
      "(3, 56, 7)\n",
      "최대값 : 56, 최소값 : 3\n"
     ]
    }
   ],
   "source": [
    "## 튜플 : () 사용 // 추가, 삭제, 변경을 할 수 없다!!\n",
    "\n",
    "def min_max(nums):\n",
    "    nums_min = min(nums)\n",
    "    nums_max = max(nums)\n",
    "\n",
    "    print(f'최대값 : {nums_max}, 최소값 : {nums_min}')\n",
    "\n",
    "num = tuple(map(int, input(\"숫자 3개를 입력받으세요. 쉼표로 구분하세요.\").split(\",\")))\n",
    "print(num)\n",
    "min_max(num)\n"
   ]
  }
 ],
 "metadata": {
  "kernelspec": {
   "display_name": "base",
   "language": "python",
   "name": "python3"
  },
  "language_info": {
   "codemirror_mode": {
    "name": "ipython",
    "version": 3
   },
   "file_extension": ".py",
   "mimetype": "text/x-python",
   "name": "python",
   "nbconvert_exporter": "python",
   "pygments_lexer": "ipython3",
   "version": "3.12.7"
  }
 },
 "nbformat": 4,
 "nbformat_minor": 2
}
