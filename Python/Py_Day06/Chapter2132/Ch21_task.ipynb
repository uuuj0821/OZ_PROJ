{
 "cells": [
  {
   "cell_type": "markdown",
   "metadata": {},
   "source": [
    "사용자로부터 이름과 나이를 입력 받아, \"안녕하세요, [이름]님! 당신은 [나이]살입니다.\"라고 출력하는 함수 greet_user를 작성하세요."
   ]
  },
  {
   "cell_type": "markdown",
   "metadata": {},
   "source": []
  },
  {
   "cell_type": "code",
   "execution_count": 1,
   "metadata": {},
   "outputs": [
    {
     "name": "stdout",
     "output_type": "stream",
     "text": [
      "안녕하세요. 박유진님! 당신은 32살입니다.\n"
     ]
    }
   ],
   "source": [
    "def greet_user(name, age):\n",
    "    print(f'안녕하세요. {name}님! 당신은 {age}살입니다.')\n",
    "\n",
    "greet_user(\"박유진\", \"32\")"
   ]
  },
  {
   "cell_type": "code",
   "execution_count": 21,
   "metadata": {},
   "outputs": [
    {
     "name": "stdout",
     "output_type": "stream",
     "text": [
      "[1, 2, 3, 3, 4, 5]\n"
     ]
    }
   ],
   "source": [
    "# a = {\"abc\", \"dfg\"}\n",
    "# b = {\"wer\", \"dfs\"}\n",
    "\n",
    "# a.add(\"a\")\n",
    "# b.update(\"python\", \"java\")\n",
    "\n",
    "# print(a)\n",
    "# print(b)\n",
    "\n",
    "\n",
    "# c = \"ab,cde\"\n",
    "# print(c)\n",
    "# d = c.strip(\",\")\n",
    "# print(d)\n",
    "\n",
    "\n",
    "# dd = \"adsd\"\n",
    "\n",
    "dd = [1, 2, 3]\n",
    "vv = [3, 4, 5]\n",
    "\n",
    "gg = dd + vv\n",
    "print(gg)\n"
   ]
  }
 ],
 "metadata": {
  "kernelspec": {
   "display_name": "base",
   "language": "python",
   "name": "python3"
  },
  "language_info": {
   "codemirror_mode": {
    "name": "ipython",
    "version": 3
   },
   "file_extension": ".py",
   "mimetype": "text/x-python",
   "name": "python",
   "nbconvert_exporter": "python",
   "pygments_lexer": "ipython3",
   "version": "3.12.7"
  }
 },
 "nbformat": 4,
 "nbformat_minor": 2
}
