{
 "cells": [
  {
   "cell_type": "markdown",
   "metadata": {},
   "source": [
    "[문제]\n",
    "\n",
    "'Account' 클래스를 작성하세요. \n",
    "\n",
    "이 클래스는 소유자(owner)와 잔액(balance)을 속성으로 가지며, 잔액은 프라이빗 변수로 선언합니다. \n",
    "\n",
    "'deposit'와 'withdraw' 두 개의 메소드를 통해 잔액을 조작할 수 있도록 하세요. \n",
    "\n",
    "이 때, 잔액은 음수가 될 수 없도록 체크해야 합니다. 'Account' 객체를 생성하고,<br>\n",
    "입금 및 출금 작업을 시뮬레이션한 후, 최종 잔액을 출력하세요."
   ]
  },
  {
   "cell_type": "code",
   "execution_count": 5,
   "metadata": {},
   "outputs": [
    {
     "name": "stdout",
     "output_type": "stream",
     "text": [
      "100,000원이 입금되었습니다. 현재 잔액은 110,000원 입니다.\n",
      "50,000원이 출금되었습니다. 현재 잔액은 60,000원 입니다.\n",
      "현재 잔액은 60,000원 입니다. 잔액 확인 후 다시 진행 해주세요.\n",
      "12,000원이 입금되었습니다. 현재 잔액은 72,000원 입니다.\n",
      "12,345원이 출금되었습니다. 현재 잔액은 59,655원 입니다.\n",
      "은행업무를 종료합니다.\n"
     ]
    }
   ],
   "source": [
    "class Account:\n",
    "    def __init__(self, owner, balance):\n",
    "        self.owner = owner\n",
    "        self.__balance = balance\n",
    "\n",
    "    def deposit(self, deposit_money): # 입금\n",
    "        self.__balance += deposit_money\n",
    "        print(f'{self.formatting(deposit_money)}원이 입금되었습니다. 현재 잔액은 {self.formatting(self.__balance)}원 입니다.')\n",
    "\n",
    "    def withdraw(self, withdraw_money): # 출금\n",
    "        if withdraw_money > self.__balance:\n",
    "            print(f'현재 잔액은 {self.formatting(self.__balance)}원 입니다. 잔액 확인 후 다시 진행 해주세요.')\n",
    "        else:\n",
    "            self.__balance -= withdraw_money\n",
    "            print(f'{self.formatting(withdraw_money)}원이 출금되었습니다. 현재 잔액은 {self.formatting(self.__balance)}원 입니다.')\n",
    "\n",
    "    def formatting(self, money):\n",
    "        return format(money, \",\")\n",
    "\n",
    "\n",
    "def main():\n",
    "    bank = Account(\"박유진\", 10000)\n",
    "\n",
    "    while True:\n",
    "        doing = input(\"작업을 선택해 주세요! 입금(1), 출금(2), 종료(3)\")\n",
    "\n",
    "        if doing == \"입금\" or doing == \"1\":\n",
    "            deposit_money = input(\"입금할 금액을 입력해주세요\")\n",
    "            bank.deposit(int(deposit_money))\n",
    "        elif doing == \"출금\" or doing == \"2\":\n",
    "            widthdraw_money = input(\"출금할 금액을 입력해주세요\")\n",
    "            bank.withdraw(int(widthdraw_money))\n",
    "            pass\n",
    "        elif doing == \"종료\" or doing == \"3\":\n",
    "            print(\"은행업무를 종료합니다.\")\n",
    "            break\n",
    "\n",
    "\n",
    "if __name__ == \"__main__\":  # main() 실행\n",
    "    main()\n"
   ]
  }
 ],
 "metadata": {
  "kernelspec": {
   "display_name": "Python 3",
   "language": "python",
   "name": "python3"
  },
  "language_info": {
   "codemirror_mode": {
    "name": "ipython",
    "version": 3
   },
   "file_extension": ".py",
   "mimetype": "text/x-python",
   "name": "python",
   "nbconvert_exporter": "python",
   "pygments_lexer": "ipython3",
   "version": "3.9.6"
  }
 },
 "nbformat": 4,
 "nbformat_minor": 2
}
