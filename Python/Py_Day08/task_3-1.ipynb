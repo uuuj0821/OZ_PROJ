{
 "cells": [
  {
   "cell_type": "markdown",
   "metadata": {},
   "source": [
    "'Book' 클래스를 선언하세요.\n",
    "\n",
    "이 클래스는 title (제목)과 author (저자) 두 개의 속성을 갖습니다.\n",
    "\n",
    "또한, 'describe_book'이라는 메소드를 추가하여, 호출 시 \"제목: [title], 저자: [author]\" 형식의 문자열을 출력하도록 하세요.\n",
    "\n",
    "'Book' 객체를 하나 생성하고, 'describe_book' 메소드를 호출하여 해당 객체의 정보를 출력하세요.\n",
    "\n",
    "이 문제는 클래스의 기본적인 사용법을 이해하고, 속성과 메소드를 정의하는 방법에 초점을 맞춥니다"
   ]
  },
  {
   "cell_type": "code",
   "execution_count": null,
   "metadata": {},
   "outputs": [],
   "source": []
  }
 ],
 "metadata": {
  "kernelspec": {
   "display_name": "Python 3",
   "language": "python",
   "name": "python3"
  },
  "language_info": {
   "codemirror_mode": {
    "name": "ipython",
    "version": 3
   },
   "file_extension": ".py",
   "mimetype": "text/x-python",
   "name": "python",
   "nbconvert_exporter": "python",
   "pygments_lexer": "ipython3",
   "version": "3.9.6"
  }
 },
 "nbformat": 4,
 "nbformat_minor": 2
}
