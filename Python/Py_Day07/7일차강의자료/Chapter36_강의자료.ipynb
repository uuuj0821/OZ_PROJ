{
 "cells": [
  {
   "cell_type": "markdown",
   "metadata": {},
   "source": [
    "raise 구문\n",
    "\n",
    "- 예외를 강제로 발생시키는 기능, 우리가 의도하지 않게 작동하는 상황을 방지하기 위해 사용\n",
    "\n",
    "사용 방법 : raise 뒤에 예외 이름을 입력\n",
    "\n",
    "```\n",
    "raise 예외 객체\n",
    "```"
   ]
  },
  {
   "cell_type": "code",
   "execution_count": null,
   "metadata": {},
   "outputs": [],
   "source": [
    "number = input(\"숫자를 입력해주세요\")\n",
    "number = int(number)\n",
    "\n",
    "#조건문 사용\n",
    "if number > 0:\n",
    "    #양수일 때: 아직 미구현 상태\n",
    "    raise NotImplementedError\n",
    "else:\n",
    "    #음수일 때: 아직 미구현 상태\n",
    "    raise NotImplementedError"
   ]
  }
 ],
 "metadata": {
  "kernelspec": {
   "display_name": "base",
   "language": "python",
   "name": "python3"
  },
  "language_info": {
   "codemirror_mode": {
    "name": "ipython",
    "version": 3
   },
   "file_extension": ".py",
   "mimetype": "text/x-python",
   "name": "python",
   "nbconvert_exporter": "python",
   "pygments_lexer": "ipython3",
   "version": "3.12.7"
  }
 },
 "nbformat": 4,
 "nbformat_minor": 2
}
