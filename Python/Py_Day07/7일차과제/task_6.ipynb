{
 "cells": [
  {
   "cell_type": "markdown",
   "metadata": {},
   "source": [
    "requests 모듈을 사용하여, 웹 페이지의 HTML을 가져오는 간단한 웹 스크레이퍼를 작성하세요.\n",
    "\n",
    "'https://kream.co.kr/'에서<br> \n",
    "데이터를 가져와서 상태 코드와 HTML의 첫 100자를 출력하세요.<br>\n",
    "(실습 전 requests 모듈을 설치해야 함)"
   ]
  },
  {
   "cell_type": "code",
   "execution_count": 25,
   "metadata": {},
   "outputs": [
    {
     "name": "stdout",
     "output_type": "stream",
     "text": [
      "웹사이트 : http://google.com\n",
      "상태코드 : <Response [200]>\n",
      "HTML(100자)) : <!doctype html><html itemscope=\"\" itemtype=\"http://schema.org/WebPage\" lang=\"ko\"><head><meta content\n"
     ]
    }
   ],
   "source": [
    "from urllib import request\n",
    "from bs4 import BeautifulSoup\n",
    "from requests import get\n",
    "\n",
    "url = \"http://google.com\"\n",
    "websites = (\n",
    "    \"google.com\",\n",
    "    \"airbnb.com\",\n",
    "    \"naver.com\"\n",
    ")\n",
    "\n",
    "# # websites의 사이트들로 상태코드 실습\n",
    "# for website in websites:\n",
    "#     if not website.startswith(\"http://\"): #  startswith : 문자열메서드, 입력인자로 시작하는지 확인 // endswith로 있음(입력인자로 끝나는지 확인)\n",
    "#         website = (f'http://{website}') # websites의 요소가 \"http://\"로 시작하지않으면 http:// 붙이기 => 코드 중복사용을 방지하기 위해 사용하면 좋을 것같음\n",
    "#     print(website)\n",
    "#     response = get(website) # requests모듈의 get 함수 : url의 상태코드를 가져옴\n",
    "#     print(response) # 상태코드를 리턴해줌 (상태코드의 설명은 코드 하단에 있음) // <Response [200]> 형태와 같이 리턴해줌\n",
    "#     print(response.status_code) # 상태코드를 리턴해줌 // 상태코드의 숫자만을 리턴해줌 200\n",
    "#     print(response.text) # 해당페이지의 html을 전부 출력해줌?\n",
    "\n",
    "\n",
    "# 구글 사이트로 상태코드 출력\n",
    "response = get(url)\n",
    "response_html = response.text\n",
    "print(f'웹사이트 : {url}')\n",
    "print(f'상태코드 : {response}') # 상태코드 출력\n",
    "print(f'HTML(100자)) : {response_html[:100]}')\n",
    "\n",
    "\n",
    "# [상태코드]\n",
    "# - 200 : 요청이 성공적으로 처리되었다.\n",
    "# - 404 : 요청한 페이지를 찾을 수 없다.\n",
    "# - 500 : 서버에 오류가 발생했다."
   ]
  },
  {
   "cell_type": "markdown",
   "metadata": {},
   "source": []
  },
  {
   "cell_type": "code",
   "execution_count": 10,
   "metadata": {},
   "outputs": [
    {
     "name": "stdout",
     "output_type": "stream",
     "text": [
      "abc\n"
     ]
    }
   ],
   "source": [
    "a = \"abcdefg\"\n",
    "print(a[:3])"
   ]
  }
 ],
 "metadata": {
  "kernelspec": {
   "display_name": "base",
   "language": "python",
   "name": "python3"
  },
  "language_info": {
   "codemirror_mode": {
    "name": "ipython",
    "version": 3
   },
   "file_extension": ".py",
   "mimetype": "text/x-python",
   "name": "python",
   "nbconvert_exporter": "python",
   "pygments_lexer": "ipython3",
   "version": "3.12.7"
  }
 },
 "nbformat": 4,
 "nbformat_minor": 2
}
