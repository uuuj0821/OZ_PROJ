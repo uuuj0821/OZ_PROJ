{
 "cells": [
  {
   "cell_type": "markdown",
   "metadata": {},
   "source": [
    "datetime 모듈을 사용하여 현재 날짜와 시간을 출력하는 프로그램을 작성하세요. \n",
    "\n",
    "또한, 사용자로부터 태어난 년도를 입력받아 현재 나이를 계산하여 출력하세요."
   ]
  },
  {
   "cell_type": "code",
   "execution_count": 6,
   "metadata": {},
   "outputs": [
    {
     "name": "stdout",
     "output_type": "stream",
     "text": [
      "현재 시각 : 2025-01-10 20:12:19.838284\n",
      "사용자의 나이는 : 33 살 입니다.\n"
     ]
    }
   ],
   "source": [
    "import datetime # 시각 관련 모듈 import\n",
    "\n",
    "now = datetime.datetime.now() # 현재시각을 now 변수에 할당\n",
    "print(f'현재 시각 : {now}') # 현재시각 출력\n",
    "\n",
    "born_year = int(input(\"태어난 년도를 입력해주세요 : \")) # 태어난 년도 입력 str -> int 형변환 진행\n",
    "this_year = now.year # 현재년도 age 변수에 할당\n",
    "\n",
    "age = this_year - born_year # 현재년도 - 태어난년도 = 나이\n",
    "print(f'사용자의 나이는 : {age} 살 입니다.')\n"
   ]
  }
 ],
 "metadata": {
  "kernelspec": {
   "display_name": "base",
   "language": "python",
   "name": "python3"
  },
  "language_info": {
   "codemirror_mode": {
    "name": "ipython",
    "version": 3
   },
   "file_extension": ".py",
   "mimetype": "text/x-python",
   "name": "python",
   "nbconvert_exporter": "python",
   "pygments_lexer": "ipython3",
   "version": "3.12.7"
  }
 },
 "nbformat": 4,
 "nbformat_minor": 2
}
