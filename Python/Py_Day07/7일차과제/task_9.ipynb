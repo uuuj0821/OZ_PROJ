{
 "cells": [
  {
   "cell_type": "markdown",
   "metadata": {},
   "source": [
    "animals라는 패키지를 만들고, 이 패키지 내에 mammals, birds라는 두 개의 서브 모듈을 생성하세요. \n",
    "\n",
    "- 각 모듈에는 최소한 한 개 이상의 동물에 관한 클래스를 정의하세요<br>\n",
    "  (예: mammals에는 Dog, birds에는 Eagle)\n",
    "- 이 패키지와 모듈을 사용하여 동물들의 정보를 출력하는 프로그램을 작성\n",
    "\n",
    "폴더 및 파일 구조\n",
    "```\n",
    "animals/(폴더)\n",
    "├── __init__.py\n",
    "├── mammals.py\n",
    "└── birds.py\n",
    "```\n"
   ]
  },
  {
   "cell_type": "markdown",
   "metadata": {},
   "source": []
  },
  {
   "cell_type": "code",
   "execution_count": null,
   "metadata": {},
   "outputs": [],
   "source": [
    "# animals/__init__.py, animals/birds.py, animals/mmals.py, animals/animals_test.py 작성"
   ]
  },
  {
   "cell_type": "code",
   "execution_count": 6,
   "metadata": {},
   "outputs": [
    {
     "name": "stdout",
     "output_type": "stream",
     "text": [
      "{'배추', '대파', '오이', '가자', '양파', '당근'}\n",
      "{'배추', '당근'}\n",
      "{'양파', '오이'}\n"
     ]
    }
   ],
   "source": [
    "# 딕셔너리 = {\"a\" : 20, \"b\":30}\n",
    "\n",
    "# print(딕셔너리.items)\n",
    "\n",
    "# del 딕셔너리[\"a\"]\n",
    "# print(딕셔너리)\n",
    "\n",
    "채소1 = {\"당근\", \"양파\", \"오이\", \"배추\"}\n",
    "채소2 = {\"양파\", \"오이\", \"대파\", \"가자\"}\n",
    "\n",
    "print(set.union(채소1, 채소2))\n",
    "print(set.difference(채소1, 채소2))\n",
    "print(set.intersection(채소1, 채소2))\n",
    "\n"
   ]
  }
 ],
 "metadata": {
  "kernelspec": {
   "display_name": "base",
   "language": "python",
   "name": "python3"
  },
  "language_info": {
   "codemirror_mode": {
    "name": "ipython",
    "version": 3
   },
   "file_extension": ".py",
   "mimetype": "text/x-python",
   "name": "python",
   "nbconvert_exporter": "python",
   "pygments_lexer": "ipython3",
   "version": "3.12.7"
  }
 },
 "nbformat": 4,
 "nbformat_minor": 2
}
