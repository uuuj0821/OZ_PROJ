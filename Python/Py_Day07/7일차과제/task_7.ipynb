{
 "cells": [
  {
   "cell_type": "markdown",
   "metadata": {},
   "source": [
    "함수 실행 시간을 측정하는 데코레이터 timer_decorator를 작성하세요. \n",
    "\n",
    "임의의 함수가 실행되는 시간을 측정하여 \"함수 실행 시간: x.xx초\" 형태로 출력하세요."
   ]
  },
  {
   "cell_type": "code",
   "execution_count": 4,
   "metadata": {},
   "outputs": [
    {
     "name": "stdout",
     "output_type": "stream",
     "text": [
      "2025.01.10 23:38:19\n",
      "실행시간체크\n",
      "2025.01.10 23:38:19\n",
      "사용자의 이름은 익명 입니다.\n"
     ]
    }
   ],
   "source": [
    "import datetime as d\n",
    "\n",
    "\n",
    "def timer_decorator(function):\n",
    "    def wrapper():\n",
    "        print(d.datetime.now().strftime(\"%Y.%m.%d %H:%M:%S\"))\n",
    "        function()\n",
    "    return wrapper\n",
    "\n",
    "@timer_decorator\n",
    "def check_progress():\n",
    "    print(\"실행시간체크\")\n",
    "\n",
    "\n",
    "@timer_decorator\n",
    "def print_name(name=\"익명\"):\n",
    "    print(f'사용자의 이름은 {name} 입니다.')\n",
    "\n",
    "\n",
    "check_progress()\n",
    "print_name()\n",
    "\n"
   ]
  },
  {
   "cell_type": "markdown",
   "metadata": {},
   "source": []
  }
 ],
 "metadata": {
  "kernelspec": {
   "display_name": "base",
   "language": "python",
   "name": "python3"
  },
  "language_info": {
   "codemirror_mode": {
    "name": "ipython",
    "version": 3
   },
   "file_extension": ".py",
   "mimetype": "text/x-python",
   "name": "python",
   "nbconvert_exporter": "python",
   "pygments_lexer": "ipython3",
   "version": "3.12.7"
  }
 },
 "nbformat": 4,
 "nbformat_minor": 2
}
