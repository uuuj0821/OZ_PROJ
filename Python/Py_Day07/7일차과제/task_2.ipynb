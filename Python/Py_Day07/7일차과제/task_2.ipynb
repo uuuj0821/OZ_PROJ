{
 "cells": [
  {
   "cell_type": "markdown",
   "metadata": {},
   "source": [
    "파일을 읽어서 내용을 출력하는 프로그램을 작성하세요. \n",
    "\n",
    "- 파일이 존재하지 않을 때 발생하는 FileNotFoundError를 처리\n",
    "- 파일이 존재하지 않을 경우 \"파일을 찾을 수 없습니다.\"라는 메시지를 출력"
   ]
  },
  {
   "cell_type": "code",
   "execution_count": 19,
   "metadata": {},
   "outputs": [
    {
     "name": "stdout",
     "output_type": "stream",
     "text": [
      "- try ~ except\n",
      "- try ~ except ~ else\n",
      "- try ~ except ~ finally\n",
      "- try ~ except ~ else ~ finally\n",
      "- try ~ finally\n",
      "\n",
      "프로그램을 종료합니다.\n"
     ]
    }
   ],
   "source": [
    "filename = \"test.txt\"\n",
    "# filename = \"tests.txt\"\n",
    "\n",
    "try:\n",
    "    f = open(filename, 'r')\n",
    "    for txt in f.readlines():\n",
    "        print(txt, end=\"\")  \n",
    "    print(\"\\n\")  \n",
    "    f.close()  # 파일 열면 항상 닫아주기!!!!!\n",
    "except FileNotFoundError as e:\n",
    "    print(\"파일을 찾을 수 없습니다. 에러 정보 : \", e)\n",
    "finally:\n",
    "    print(\"프로그램을 종료합니다.\")"
   ]
  }
 ],
 "metadata": {
  "kernelspec": {
   "display_name": "base",
   "language": "python",
   "name": "python3"
  },
  "language_info": {
   "codemirror_mode": {
    "name": "ipython",
    "version": 3
   },
   "file_extension": ".py",
   "mimetype": "text/x-python",
   "name": "python",
   "nbconvert_exporter": "python",
   "pygments_lexer": "ipython3",
   "version": "3.12.7"
  }
 },
 "nbformat": 4,
 "nbformat_minor": 2
}
