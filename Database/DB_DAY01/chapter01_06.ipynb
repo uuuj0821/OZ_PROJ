{
 "cells": [
  {
   "cell_type": "markdown",
   "metadata": {},
   "source": [
    "[문제1]\n",
    "\n",
    "DBMS 특징이 아닌것을 골라주세요\n",
    "\n",
    "- 데이터 무결성\n",
    "- 데이터 보안성\n",
    "- 데이터 일관성\n",
    "- 데이터 의존성"
   ]
  },
  {
   "cell_type": "markdown",
   "metadata": {},
   "source": [
    "정답 : 데이터 의존성\n",
    "\n",
    "DBMS의 특징\n",
    " 1. 데이터 무결성 : 정확한 데이터가 입력됨을 보장해준다. 제약에 맞지 않는 데이터는 들어오지 못하도록 하는 것\n",
    " 2. 데이터 보안성 : 보안! 계정관리, 권한 설정 등\n",
    " 3. 데이터 일관성 : 데이터의 룰에 따른 값이 일관적인 것?\n",
    " 4. 데이터 독립성 : 데이터의 룰이나 저장 경로가 변하더라도 데이터간 영향을 주지 않는 것"
   ]
  },
  {
   "cell_type": "markdown",
   "metadata": {},
   "source": [
    "[문제2]\n",
    "\n",
    "아래 설명에 해당하는 데이터 모델을 골라주세요\n",
    "\n",
    "```\n",
    "표 형태로 데이터를 저장하고 SQL을 사용하여 데이터를 조작합니다. \n",
    "가장 널리 사용되는 데이터 모델 중 하나이며 RDBMS에서 지원합니다.\n",
    "```\n",
    "\n",
    "- 관계형 데이터 모델\n",
    "- 객체 지향형 데이터 모델\n",
    "- 계층형 데이터 모델\n",
    "- 네트워크형 데이터 모델"
   ]
  },
  {
   "cell_type": "markdown",
   "metadata": {},
   "source": [
    "정답 : 관계형 데이터 모델\n",
    "\n",
    "\n",
    "##\n",
    "계층형 데이터 모델 : 디렉토리 형식과 유사하다. 폴더에 폴더 그리고 파일이 들어있는 형태! 상위레코드와 하위레코드간 부모-자식의 관계를 가지고 있다. 복잡한 구조를 묘사할 수 없는 단점이 있다.\n",
    "객체 지향형 데이터 모델 : 프로그램언어의 객체지향의 특징을 기반으로 한 데이터 모델. 각 동작에 대해 캡슐화되어있다.\n",
    "네트워크형 데이터 모델 : 계층형의 단점을 보완한 모델. 자료간 연결을 망의 형태로 하여 각 레코드는 여러개의 부모레코드를 가질 수 있다. 복잡한 구조를 묘사할 수 있다."
   ]
  },
  {
   "cell_type": "markdown",
   "metadata": {},
   "source": [
    "[문제3]\n",
    "\n",
    "데이터베이스의 구조를 정의하는 것을 골라주세요\n",
    "\n",
    "- 인덱스\n",
    "- 트랜잭션\n",
    "- 스키마\n",
    "- SQL"
   ]
  },
  {
   "cell_type": "markdown",
   "metadata": {},
   "source": [
    "정답 : 스키마\n",
    "\n",
    "###\n",
    "스키마 : 데이터베이스의 구조를 정의하는 것이며, 테이블, 행, 열, 인덱스, 관계 등의 데이터베이스 구조를 명시한다.\n",
    "트랜잭션 : 데이터베이스의 상태를 변화시키는 하나의 작업 단위\n",
    "인덱스 : 데이터 검색 속도를 빠르게 하기 위해 사용되는 객체\n",
    "SQL : 데이터를 관리하기 위해 사용되는 표준 프로그래밍 언어"
   ]
  },
  {
   "cell_type": "markdown",
   "metadata": {},
   "source": [
    "[문제4]\n",
    "\n",
    "RDBMS의 대표적인 단점이 아닌것을 골라주세요\n",
    "\n",
    "- 실시간 데이터 처리의 어려움\n",
    "- 운영 비용이 비쌈\n",
    "- 테이블 join의 복잡성\n",
    "- 미리 만들어진 스키마 구조를 변경 또는 확장하는데 어려움\n",
    "- 대량의 데이터를 저장하는게 어려움"
   ]
  },
  {
   "cell_type": "markdown",
   "metadata": {},
   "source": [
    "정답 : 대량의 데이터를 저장하는게 어려움"
   ]
  },
  {
   "cell_type": "markdown",
   "metadata": {},
   "source": [
    "[문제5]\n",
    "\n",
    "RDBMS의 구성 요소 중 고유한 값을 나타내는 것을 골라주세요\n",
    "\n",
    "- column\n",
    "- row\n",
    "- FK\n",
    "- PK"
   ]
  },
  {
   "cell_type": "markdown",
   "metadata": {},
   "source": [
    "정답 : PK\n",
    "\n",
    "### \n",
    "column : field라고도 하며 테이블 내의 특정 카테고리 또는 데이터 유형을 나타냄\n",
    "row : record라고도 하며 column에 해당하는 각 데이터들\n",
    "fk : foreign key라고도 하며 다른 테이블의 기본 키(pk)를 참조하는 열"
   ]
  },
  {
   "cell_type": "markdown",
   "metadata": {},
   "source": [
    "[문제6]\n",
    "\n",
    "대표적인 RDBMS가 아닌것을 골라주세요\n",
    "\n",
    "- SQLite\n",
    "- Oracle Database\n",
    "- PostgreSQL\n",
    "- Firebase"
   ]
  },
  {
   "cell_type": "markdown",
   "metadata": {},
   "source": [
    "정답 : Firebase\n",
    "\n",
    "###\n",
    "Firebase는 NoSQL방식을 기반으로 하고 있다.\n",
    "NoSQL : RDBMS의 대비되는 비관계형데이터베이스 ?\n",
    "        스키마가 없는 데이터베이스이다. 따라서, 확장성이 좋다."
   ]
  },
  {
   "cell_type": "markdown",
   "metadata": {},
   "source": [
    "[문제7]\n",
    "\n",
    "물리적 스키마란 무엇을 의마하는지 골라주세요\n",
    "\n",
    "- 데이터베이스 논리적 구조\n",
    "- 데이터베이스 물리적 저장 방식\n",
    "- 데이터베이스 사용자 뷰\n",
    "- 데이터베이스의 엑세스 권한"
   ]
  },
  {
   "cell_type": "markdown",
   "metadata": {},
   "source": [
    "정답 : 데이터베이스 물리적 저장 방식"
   ]
  },
  {
   "cell_type": "markdown",
   "metadata": {},
   "source": [
    "[문제8]\n",
    "\n",
    "SQL 언어에 해당하지 않는 것을 골라주세요\n",
    "\n",
    "- 데이터 처리 언어(DML)\n",
    "- 데이터 제어 언어(DCL)\n",
    "- 데이터 연결 언어(DCL)\n",
    "- 데이터 정의 언어(DDL)"
   ]
  },
  {
   "cell_type": "markdown",
   "metadata": {},
   "source": [
    "정답 : 데이터 연결 언어(DCL)\n",
    "\n",
    "\n",
    "###\n",
    "데이터 정의 언어(DDL) : 데이터베이스의 구조를 정의 예) CREATE, ALTER, DROP, TRUNCATE\n",
    "데이터 처리 언어(DML) : 데이터의 검색, 삽입, 수정, 삭제 예) SELECT, INSERT, UPDATE, DELETE\n",
    "데이터 제어 언어(DCL) : 데이터베이스에 대한 엑세스를 제어 예) GRANT, REVOKE\n",
    "\n",
    "\n",
    "질의어 (DQL, Data Query Language)\n",
    " - 데이터를 질의하고 조회하는데 사용\n",
    " - SELECT를 DQL로 따로 빼기도 하지만, 대부분 일반적으로 DML에 포함시킴\n",
    "트랜잭션처리어 (TCL, Transaction Control Language)\n",
    " - 데이터의 보안, 무결성, 회복, 병행 수행제어 등을 정의하는데 사용\n",
    " - COMMIT, ROLLBACK, SAVEPOINT, SET TRANSACTION"
   ]
  },
  {
   "cell_type": "markdown",
   "metadata": {},
   "source": [
    "[문제9]\n",
    "\n",
    "데이터 처리 언어(DML)의 설명으로 틀린것을 골라주세요\n",
    "\n",
    "- select : 데이터베이스에서 정보를 검색\n",
    "- insert : 새로운 데이터를 테이블에 삽입\n",
    "- count : 테이블의 데이터 개수 확인\n",
    "- delete : 테이블에서 데이터를 삭제"
   ]
  },
  {
   "cell_type": "markdown",
   "metadata": {},
   "source": [
    "정답 : count\n",
    "\n",
    "\n",
    "### DML\n",
    "SELECT, INSERT, UPDATE, DELETE"
   ]
  }
 ],
 "metadata": {
  "language_info": {
   "name": "python"
  }
 },
 "nbformat": 4,
 "nbformat_minor": 2
}
