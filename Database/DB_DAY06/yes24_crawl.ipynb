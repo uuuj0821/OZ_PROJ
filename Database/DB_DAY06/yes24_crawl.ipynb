{
 "cells": [
  {
   "cell_type": "markdown",
   "metadata": {},
   "source": [
    "### 예스 24 크롤링"
   ]
  },
  {
   "cell_type": "code",
   "execution_count": 2,
   "metadata": {},
   "outputs": [
    {
     "data": {
      "text/plain": [
       "'/Users/park-yujin/.wdm/drivers/chromedriver/mac64/131.0.6778.264/chromedriver-mac-arm64/chromedriver'"
      ]
     },
     "execution_count": 2,
     "metadata": {},
     "output_type": "execute_result"
    }
   ],
   "source": [
    "# webdriver-manager 라이브러리 불러오기\n",
    "from webdriver_manager.chrome import ChromeDriverManager\n",
    "\n",
    "ChromeDriverManager().install()"
   ]
  },
  {
   "cell_type": "code",
   "execution_count": 11,
   "metadata": {},
   "outputs": [],
   "source": [
    "from selenium import webdriver\n",
    "\n",
    "# 크롬 실행\n",
    "browser = webdriver.Chrome()\n"
   ]
  },
  {
   "cell_type": "code",
   "execution_count": null,
   "metadata": {},
   "outputs": [],
   "source": [
    "# url로 이동?\n",
    "url = \"https://google.com\"\n",
    "browser.get(url)"
   ]
  },
  {
   "cell_type": "code",
   "execution_count": null,
   "metadata": {},
   "outputs": [
    {
     "data": {
      "text/plain": [
       "'대한민국'"
      ]
     },
     "execution_count": 9,
     "metadata": {},
     "output_type": "execute_result"
    }
   ],
   "source": [
    "from selenium.webdriver.common.by import By\n",
    "\n",
    "# browser.find_element(By.CLASS_NAME, 'uU7dJb')\n",
    "# -> 출력 : <selenium.webdriver.remote.webelement.WebElement (session=\"fa42ec2a0596451fbabf3b846d76ac60\", element=\"f.80F07CBF73DAE5F77865D648B80A5676.d.A0270AFF07129E1383F2007E4E48C2F2.e.375\")>\n",
    "\n",
    "browser.find_element(By.CLASS_NAME, 'uU7dJb').text\n",
    "# -> 출력 : '대한민국'"
   ]
  },
  {
   "cell_type": "markdown",
   "metadata": {},
   "source": [
    "----"
   ]
  },
  {
   "cell_type": "code",
   "execution_count": 13,
   "metadata": {},
   "outputs": [],
   "source": [
    "# browser = webdriver.Chrome() ## ubrowser.get(url) 명령을 사용하기 위해 꼭 진행해야함! 크롬이 켜져있어야 되는듯\n",
    "\n",
    "# url로 이동?\n",
    "url = \"https://www.yes24.com/Product/Category/BestSeller?categoryNumber=001&pageNumber=1&pageSize=24\"\n",
    "browser.get(url)"
   ]
  },
  {
   "cell_type": "code",
   "execution_count": 19,
   "metadata": {},
   "outputs": [
    {
     "name": "stdout",
     "output_type": "stream",
     "text": [
      "https://www.yes24.com/Product/Goods/140285749\n",
      "https://www.yes24.com/Product/Goods/13137546\n",
      "https://www.yes24.com/Product/Goods/140199250\n",
      "https://www.yes24.com/Product/Goods/140199263\n",
      "https://www.yes24.com/Product/Goods/126590468\n",
      "https://www.yes24.com/Product/Goods/138282792\n",
      "https://www.yes24.com/Product/Goods/108422348\n",
      "https://www.yes24.com/Product/Goods/125557465\n",
      "https://www.yes24.com/Product/Goods/103495056\n",
      "https://www.yes24.com/Product/Goods/140231250\n",
      "https://www.yes24.com/Product/Goods/141311162\n",
      "https://www.yes24.com/Product/Goods/136298166\n",
      "https://www.yes24.com/Product/Goods/124043812\n",
      "https://www.yes24.com/Product/Goods/141311145\n",
      "https://www.yes24.com/Product/Goods/124043802\n",
      "https://www.yes24.com/Product/Goods/123400303\n",
      "https://www.yes24.com/Product/Goods/140371473\n",
      "https://www.yes24.com/Product/Goods/141377991\n",
      "https://www.yes24.com/Product/Goods/81003394\n",
      "https://www.yes24.com/Product/Goods/8759796\n",
      "https://www.yes24.com/Product/Goods/141378033\n",
      "https://www.yes24.com/Product/Goods/133809700\n",
      "https://www.yes24.com/Product/Goods/67362730\n",
      "https://www.yes24.com/Product/Goods/122120495\n"
     ]
    }
   ],
   "source": [
    "# 1 페에지의 링크 데이터 전부 수집\n",
    "## 한 개의 베스트 셀러 링크 수집\n",
    "# browser.find_element(By.CLASS_NAME, 'gd_name').get_attribute('href')  ## 맨위에 있는 하나의 데이터만 가져옴\n",
    "\n",
    "\n",
    "## 1페이지 전체의 링크 데이터\n",
    "# browser.find_element(By.CLASS_NAME, 'gd_name').get_attribute('href')  # element : 요소 (1개의 데이터만 출력)\n",
    "datas = browser.find_elements(By.CLASS_NAME, 'gd_name')  # elements : 리스트 (여러개의 데이터 출력)\n",
    "\n",
    "for i in datas:\n",
    "    print(i.get_attribute('href'))\n"
   ]
  },
  {
   "cell_type": "code",
   "execution_count": 23,
   "metadata": {},
   "outputs": [
    {
     "name": "stdout",
     "output_type": "stream",
     "text": [
      "********** 현재 1 페이지 수집 중 입니다. **********\n",
      "['https://www.yes24.com/Product/Goods/140285749', 'https://www.yes24.com/Product/Goods/13137546', 'https://www.yes24.com/Product/Goods/140199250', 'https://www.yes24.com/Product/Goods/140199263', 'https://www.yes24.com/Product/Goods/126590468', 'https://www.yes24.com/Product/Goods/138282792', 'https://www.yes24.com/Product/Goods/108422348', 'https://www.yes24.com/Product/Goods/125557465', 'https://www.yes24.com/Product/Goods/103495056', 'https://www.yes24.com/Product/Goods/140231250', 'https://www.yes24.com/Product/Goods/141311162', 'https://www.yes24.com/Product/Goods/136298166', 'https://www.yes24.com/Product/Goods/124043812', 'https://www.yes24.com/Product/Goods/141311145', 'https://www.yes24.com/Product/Goods/124043802', 'https://www.yes24.com/Product/Goods/123400303', 'https://www.yes24.com/Product/Goods/140371473', 'https://www.yes24.com/Product/Goods/141377991', 'https://www.yes24.com/Product/Goods/81003394', 'https://www.yes24.com/Product/Goods/8759796', 'https://www.yes24.com/Product/Goods/141378033', 'https://www.yes24.com/Product/Goods/133809700', 'https://www.yes24.com/Product/Goods/67362730', 'https://www.yes24.com/Product/Goods/122120495']\n",
      "********** 현재 2 페이지 수집 중 입니다. **********\n",
      "['https://www.yes24.com/Product/Goods/140285749', 'https://www.yes24.com/Product/Goods/13137546', 'https://www.yes24.com/Product/Goods/140199250', 'https://www.yes24.com/Product/Goods/140199263', 'https://www.yes24.com/Product/Goods/126590468', 'https://www.yes24.com/Product/Goods/138282792', 'https://www.yes24.com/Product/Goods/108422348', 'https://www.yes24.com/Product/Goods/125557465', 'https://www.yes24.com/Product/Goods/103495056', 'https://www.yes24.com/Product/Goods/140231250', 'https://www.yes24.com/Product/Goods/141311162', 'https://www.yes24.com/Product/Goods/136298166', 'https://www.yes24.com/Product/Goods/124043812', 'https://www.yes24.com/Product/Goods/141311145', 'https://www.yes24.com/Product/Goods/124043802', 'https://www.yes24.com/Product/Goods/123400303', 'https://www.yes24.com/Product/Goods/140371473', 'https://www.yes24.com/Product/Goods/141377991', 'https://www.yes24.com/Product/Goods/81003394', 'https://www.yes24.com/Product/Goods/8759796', 'https://www.yes24.com/Product/Goods/141378033', 'https://www.yes24.com/Product/Goods/133809700', 'https://www.yes24.com/Product/Goods/67362730', 'https://www.yes24.com/Product/Goods/122120495', 'https://www.yes24.com/Product/Goods/133213071', 'https://www.yes24.com/Product/Goods/141198750', 'https://www.yes24.com/Product/Goods/11467936', 'https://www.yes24.com/Product/Goods/116586303', 'https://www.yes24.com/Product/Goods/134602629', 'https://www.yes24.com/Product/Goods/117014613', 'https://www.yes24.com/Product/Goods/140537260', 'https://www.yes24.com/Product/Goods/141403153', 'https://www.yes24.com/Product/Goods/141311100', 'https://www.yes24.com/Product/Goods/135854080', 'https://www.yes24.com/Product/Goods/139753235', 'https://www.yes24.com/Product/Goods/60524285', 'https://www.yes24.com/Product/Goods/141267375', 'https://www.yes24.com/Product/Goods/140072103', 'https://www.yes24.com/Product/Goods/140075936', 'https://www.yes24.com/Product/Goods/136734901', 'https://www.yes24.com/Product/Goods/139870454', 'https://www.yes24.com/Product/Goods/5926713', 'https://www.yes24.com/Product/Goods/140001692', 'https://www.yes24.com/Product/Goods/141180543', 'https://www.yes24.com/Product/Goods/131930939', 'https://www.yes24.com/Product/Goods/138831340', 'https://www.yes24.com/Product/Goods/129599242', 'https://www.yes24.com/Product/Goods/140536812']\n",
      "********** 현재 3 페이지 수집 중 입니다. **********\n",
      "['https://www.yes24.com/Product/Goods/140285749', 'https://www.yes24.com/Product/Goods/13137546', 'https://www.yes24.com/Product/Goods/140199250', 'https://www.yes24.com/Product/Goods/140199263', 'https://www.yes24.com/Product/Goods/126590468', 'https://www.yes24.com/Product/Goods/138282792', 'https://www.yes24.com/Product/Goods/108422348', 'https://www.yes24.com/Product/Goods/125557465', 'https://www.yes24.com/Product/Goods/103495056', 'https://www.yes24.com/Product/Goods/140231250', 'https://www.yes24.com/Product/Goods/141311162', 'https://www.yes24.com/Product/Goods/136298166', 'https://www.yes24.com/Product/Goods/124043812', 'https://www.yes24.com/Product/Goods/141311145', 'https://www.yes24.com/Product/Goods/124043802', 'https://www.yes24.com/Product/Goods/123400303', 'https://www.yes24.com/Product/Goods/140371473', 'https://www.yes24.com/Product/Goods/141377991', 'https://www.yes24.com/Product/Goods/81003394', 'https://www.yes24.com/Product/Goods/8759796', 'https://www.yes24.com/Product/Goods/141378033', 'https://www.yes24.com/Product/Goods/133809700', 'https://www.yes24.com/Product/Goods/67362730', 'https://www.yes24.com/Product/Goods/122120495', 'https://www.yes24.com/Product/Goods/133213071', 'https://www.yes24.com/Product/Goods/141198750', 'https://www.yes24.com/Product/Goods/11467936', 'https://www.yes24.com/Product/Goods/116586303', 'https://www.yes24.com/Product/Goods/134602629', 'https://www.yes24.com/Product/Goods/117014613', 'https://www.yes24.com/Product/Goods/140537260', 'https://www.yes24.com/Product/Goods/141403153', 'https://www.yes24.com/Product/Goods/141311100', 'https://www.yes24.com/Product/Goods/135854080', 'https://www.yes24.com/Product/Goods/139753235', 'https://www.yes24.com/Product/Goods/60524285', 'https://www.yes24.com/Product/Goods/141267375', 'https://www.yes24.com/Product/Goods/140072103', 'https://www.yes24.com/Product/Goods/140075936', 'https://www.yes24.com/Product/Goods/136734901', 'https://www.yes24.com/Product/Goods/139870454', 'https://www.yes24.com/Product/Goods/5926713', 'https://www.yes24.com/Product/Goods/140001692', 'https://www.yes24.com/Product/Goods/141180543', 'https://www.yes24.com/Product/Goods/131930939', 'https://www.yes24.com/Product/Goods/138831340', 'https://www.yes24.com/Product/Goods/129599242', 'https://www.yes24.com/Product/Goods/140536812', 'https://www.yes24.com/Product/Goods/96547408', 'https://www.yes24.com/Product/Goods/140377474', 'https://www.yes24.com/Product/Goods/138479783', 'https://www.yes24.com/Product/Goods/138336669', 'https://www.yes24.com/Product/Goods/116467955', 'https://www.yes24.com/Product/Goods/141231108', 'https://www.yes24.com/Product/Goods/141267373', 'https://www.yes24.com/Product/Goods/133755473', 'https://www.yes24.com/Product/Goods/128939189', 'https://www.yes24.com/Product/Goods/141263396', 'https://www.yes24.com/Product/Goods/140189194', 'https://www.yes24.com/Product/Goods/116020437', 'https://www.yes24.com/Product/Goods/102502665', 'https://www.yes24.com/Product/Goods/138503348', 'https://www.yes24.com/Product/Goods/124219505', 'https://www.yes24.com/Product/Goods/91868954', 'https://www.yes24.com/Product/Goods/79297023', 'https://www.yes24.com/Product/Goods/141325413', 'https://www.yes24.com/Product/Goods/139999483', 'https://www.yes24.com/Product/Goods/139853780', 'https://www.yes24.com/Product/Goods/140231496', 'https://www.yes24.com/Product/Goods/2312211', 'https://www.yes24.com/Product/Goods/140411945', 'https://www.yes24.com/Product/Goods/140127991']\n"
     ]
    }
   ],
   "source": [
    "# 3 페에지까지의 링크 데이터 전부 수집\n",
    "import time\n",
    "\n",
    "link_list = list()\n",
    "\n",
    "for num in range(1, 4):\n",
    "    print(\"*\" * 10, f'현재 {num} 페이지 수집 중 입니다.', \"*\" * 10)\n",
    "    url = f\"https://www.yes24.com/Product/Category/BestSeller?categoryNumber=001&pageNumber={num}&pageSize=24\"\n",
    "    browser.get(url)\n",
    "    datas = browser.find_elements(By.CLASS_NAME, 'gd_name')  # elements : 리스트 (여러개의 데이터 출력)\n",
    "\n",
    "    for i in datas:\n",
    "        link = i.get_attribute('href')\n",
    "        link_list.append(link)\n",
    "\n",
    "    time.sleep(3)\n",
    "\n",
    "    print(link_list)\n"
   ]
  },
  {
   "cell_type": "code",
   "execution_count": 24,
   "metadata": {},
   "outputs": [
    {
     "name": "stdout",
     "output_type": "stream",
     "text": [
      "72\n"
     ]
    }
   ],
   "source": [
    "print(len(link_list))"
   ]
  },
  {
   "cell_type": "code",
   "execution_count": null,
   "metadata": {},
   "outputs": [
    {
     "data": {
      "text/plain": [
       "'베스트 국내도서 1위 | 국내도서 1위 1주'"
      ]
     },
     "execution_count": 49,
     "metadata": {},
     "output_type": "execute_result"
    }
   ],
   "source": [
    "# for link in link_list:\n",
    "#     browser.get(link) # 상세페이지로 이동\n",
    "\n",
    "browser.get(link_list[0]) # 첫번째 링크로 브라우저를 실행시켜줘\n",
    "title = browser.find_element(By.CLASS_NAME, 'gd_name').text # 책 제목\n",
    "author = browser.find_element(By.CLASS_NAME, 'gd_auth').text # 저자\n",
    "publisher = browser.find_element(By.CLASS_NAME, 'gd_pub').text # 출판사\n",
    "publishing = browser.find_element(By.CLASS_NAME, 'gd_date').text # 출판날짜\n",
    "rating = browser.find_element(By.CLASS_NAME, 'yes_b').text # 별점\n",
    "reviews = browser.find_element(By.CLASS_NAME, 'txC_blue').text # 리뷰개수\n",
    "sales = browser.find_element(By.CLASS_NAME, 'gd_sellNum').text.split(\" \")[2] # 판매지수\n",
    "price = browser.find_element(By.CLASS_NAME, 'yes_m').text[:-1] # 판매가\n",
    "ranking = browser.find_element(By.CLASS_NAME, 'gd_best').text # 순위\n",
    "## browser.find_element(By.CLASS_NAME, 'gd_best').find_element(By.TAG_NAME, 'a').text  ## 이렇게 find_element를 2번에 걸쳐서 접근할 수 있음 // 그 이상도 되나?\n",
    "ranking = browser.find_element(By.CLASS_NAME, 'gd_best').text.split(\" | \")[0]\n",
    "ranking_weeks = browser.find_element(By.CLASS_NAME, 'gd_best').text.split(\" | \")[1]\n"
   ]
  }
 ],
 "metadata": {
  "kernelspec": {
   "display_name": ".venv",
   "language": "python",
   "name": "python3"
  },
  "language_info": {
   "codemirror_mode": {
    "name": "ipython",
    "version": 3
   },
   "file_extension": ".py",
   "mimetype": "text/x-python",
   "name": "python",
   "nbconvert_exporter": "python",
   "pygments_lexer": "ipython3",
   "version": "3.13.1"
  }
 },
 "nbformat": 4,
 "nbformat_minor": 2
}
