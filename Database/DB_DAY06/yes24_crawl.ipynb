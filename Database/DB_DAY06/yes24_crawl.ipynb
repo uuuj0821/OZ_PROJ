{
 "cells": [
  {
   "cell_type": "markdown",
   "metadata": {},
   "source": [
    "### 예스 24 크롤링"
   ]
  },
  {
   "cell_type": "code",
   "execution_count": 1,
   "metadata": {},
   "outputs": [
    {
     "data": {
      "text/plain": [
       "'/Users/park-yujin/.wdm/drivers/chromedriver/mac64/131.0.6778.264/chromedriver-mac-arm64/chromedriver'"
      ]
     },
     "execution_count": 1,
     "metadata": {},
     "output_type": "execute_result"
    }
   ],
   "source": [
    "# webdriver-manager 라이브러리 불러오기\n",
    "from webdriver_manager.chrome import ChromeDriverManager\n",
    "\n",
    "ChromeDriverManager().install()"
   ]
  },
  {
   "cell_type": "code",
   "execution_count": 2,
   "metadata": {},
   "outputs": [],
   "source": [
    "from selenium import webdriver\n",
    "\n",
    "# 크롬 실행\n",
    "browser = webdriver.Chrome()\n"
   ]
  },
  {
   "cell_type": "code",
   "execution_count": 4,
   "metadata": {},
   "outputs": [],
   "source": [
    "# url로 이동?\n",
    "url = \"https://google.com\"\n",
    "browser.get(url)"
   ]
  },
  {
   "cell_type": "code",
   "execution_count": 5,
   "metadata": {},
   "outputs": [
    {
     "data": {
      "text/plain": [
       "'대한민국'"
      ]
     },
     "execution_count": 5,
     "metadata": {},
     "output_type": "execute_result"
    }
   ],
   "source": [
    "from selenium.webdriver.common.by import By\n",
    "\n",
    "# browser.find_element(By.CLASS_NAME, 'uU7dJb')\n",
    "# -> 출력 : <selenium.webdriver.remote.webelement.WebElement (session=\"fa42ec2a0596451fbabf3b846d76ac60\", element=\"f.80F07CBF73DAE5F77865D648B80A5676.d.A0270AFF07129E1383F2007E4E48C2F2.e.375\")>\n",
    "\n",
    "browser.find_element(By.CLASS_NAME, 'uU7dJb').text\n",
    "# -> 출력 : '대한민국'"
   ]
  },
  {
   "cell_type": "markdown",
   "metadata": {},
   "source": [
    "----"
   ]
  },
  {
   "cell_type": "code",
   "execution_count": 6,
   "metadata": {},
   "outputs": [],
   "source": [
    "# browser = webdriver.Chrome() ## ubrowser.get(url) 명령을 사용하기 위해 꼭 진행해야함! 크롬이 켜져있어야 되는듯\n",
    "\n",
    "# url로 이동?\n",
    "url = \"https://www.yes24.com/Product/Category/BestSeller?categoryNumber=001&pageNumber=1&pageSize=24\"\n",
    "browser.get(url)"
   ]
  },
  {
   "cell_type": "code",
   "execution_count": 7,
   "metadata": {},
   "outputs": [
    {
     "name": "stdout",
     "output_type": "stream",
     "text": [
      "https://www.yes24.com/Product/Goods/140285749\n",
      "https://www.yes24.com/Product/Goods/13137546\n",
      "https://www.yes24.com/Product/Goods/126590468\n",
      "https://www.yes24.com/Product/Goods/140199250\n",
      "https://www.yes24.com/Product/Goods/140199263\n",
      "https://www.yes24.com/Product/Goods/138282792\n",
      "https://www.yes24.com/Product/Goods/108422348\n",
      "https://www.yes24.com/Product/Goods/125557465\n",
      "https://www.yes24.com/Product/Goods/103495056\n",
      "https://www.yes24.com/Product/Goods/140231250\n",
      "https://www.yes24.com/Product/Goods/136298166\n",
      "https://www.yes24.com/Product/Goods/124043812\n",
      "https://www.yes24.com/Product/Goods/124043802\n",
      "https://www.yes24.com/Product/Goods/140371473\n",
      "https://www.yes24.com/Product/Goods/123400303\n",
      "https://www.yes24.com/Product/Goods/141377991\n",
      "https://www.yes24.com/Product/Goods/81003394\n",
      "https://www.yes24.com/Product/Goods/141378033\n",
      "https://www.yes24.com/Product/Goods/8759796\n",
      "https://www.yes24.com/Product/Goods/133809700\n",
      "https://www.yes24.com/Product/Goods/122120495\n",
      "https://www.yes24.com/Product/Goods/141311145\n",
      "https://www.yes24.com/Product/Goods/140537260\n",
      "https://www.yes24.com/Product/Goods/67362730\n"
     ]
    }
   ],
   "source": [
    "# 1 페에지의 링크 데이터 전부 수집\n",
    "## 한 개의 베스트 셀러 링크 수집\n",
    "# browser.find_element(By.CLASS_NAME, 'gd_name').get_attribute('href')  ## 맨위에 있는 하나의 데이터만 가져옴\n",
    "\n",
    "\n",
    "## 1페이지 전체의 링크 데이터\n",
    "# browser.find_element(By.CLASS_NAME, 'gd_name').get_attribute('href')  # element : 요소 (1개의 데이터만 출력)\n",
    "datas = browser.find_elements(By.CLASS_NAME, 'gd_name')  # elements : 리스트 (여러개의 데이터 출력)\n",
    "\n",
    "for i in datas:\n",
    "    print(i.get_attribute('href'))\n"
   ]
  },
  {
   "cell_type": "code",
   "execution_count": 30,
   "metadata": {},
   "outputs": [
    {
     "name": "stdout",
     "output_type": "stream",
     "text": [
      "********** 현재 1 페이지 수집 중 입니다. **********\n",
      "['https://www.yes24.com/Product/Goods/140285749', 'https://www.yes24.com/Product/Goods/13137546', 'https://www.yes24.com/Product/Goods/126590468', 'https://www.yes24.com/Product/Goods/140199250', 'https://www.yes24.com/Product/Goods/140199263', 'https://www.yes24.com/Product/Goods/138282792', 'https://www.yes24.com/Product/Goods/108422348', 'https://www.yes24.com/Product/Goods/125557465', 'https://www.yes24.com/Product/Goods/103495056', 'https://www.yes24.com/Product/Goods/140231250', 'https://www.yes24.com/Product/Goods/136298166', 'https://www.yes24.com/Product/Goods/124043812', 'https://www.yes24.com/Product/Goods/124043802', 'https://www.yes24.com/Product/Goods/140371473', 'https://www.yes24.com/Product/Goods/123400303', 'https://www.yes24.com/Product/Goods/141377991', 'https://www.yes24.com/Product/Goods/81003394', 'https://www.yes24.com/Product/Goods/141378033', 'https://www.yes24.com/Product/Goods/8759796', 'https://www.yes24.com/Product/Goods/133809700', 'https://www.yes24.com/Product/Goods/122120495', 'https://www.yes24.com/Product/Goods/141311145', 'https://www.yes24.com/Product/Goods/140537260', 'https://www.yes24.com/Product/Goods/67362730']\n",
      "********** 현재 2 페이지 수집 중 입니다. **********\n",
      "['https://www.yes24.com/Product/Goods/140285749', 'https://www.yes24.com/Product/Goods/13137546', 'https://www.yes24.com/Product/Goods/126590468', 'https://www.yes24.com/Product/Goods/140199250', 'https://www.yes24.com/Product/Goods/140199263', 'https://www.yes24.com/Product/Goods/138282792', 'https://www.yes24.com/Product/Goods/108422348', 'https://www.yes24.com/Product/Goods/125557465', 'https://www.yes24.com/Product/Goods/103495056', 'https://www.yes24.com/Product/Goods/140231250', 'https://www.yes24.com/Product/Goods/136298166', 'https://www.yes24.com/Product/Goods/124043812', 'https://www.yes24.com/Product/Goods/124043802', 'https://www.yes24.com/Product/Goods/140371473', 'https://www.yes24.com/Product/Goods/123400303', 'https://www.yes24.com/Product/Goods/141377991', 'https://www.yes24.com/Product/Goods/81003394', 'https://www.yes24.com/Product/Goods/141378033', 'https://www.yes24.com/Product/Goods/8759796', 'https://www.yes24.com/Product/Goods/133809700', 'https://www.yes24.com/Product/Goods/122120495', 'https://www.yes24.com/Product/Goods/141311145', 'https://www.yes24.com/Product/Goods/140537260', 'https://www.yes24.com/Product/Goods/67362730', 'https://www.yes24.com/Product/Goods/141311162', 'https://www.yes24.com/Product/Goods/11467936', 'https://www.yes24.com/Product/Goods/141311100', 'https://www.yes24.com/Product/Goods/133213071', 'https://www.yes24.com/Product/Goods/117014613', 'https://www.yes24.com/Product/Goods/116586303', 'https://www.yes24.com/Product/Goods/141198750', 'https://www.yes24.com/Product/Goods/141403153', 'https://www.yes24.com/Product/Goods/134602629', 'https://www.yes24.com/Product/Goods/135854080', 'https://www.yes24.com/Product/Goods/60524285', 'https://www.yes24.com/Product/Goods/141267375', 'https://www.yes24.com/Product/Goods/139753235', 'https://www.yes24.com/Product/Goods/5926713', 'https://www.yes24.com/Product/Goods/140072103', 'https://www.yes24.com/Product/Goods/136734901', 'https://www.yes24.com/Product/Goods/141231108', 'https://www.yes24.com/Product/Goods/140075936', 'https://www.yes24.com/Product/Goods/139870454', 'https://www.yes24.com/Product/Goods/138831340', 'https://www.yes24.com/Product/Goods/131930939', 'https://www.yes24.com/Product/Goods/140836732', 'https://www.yes24.com/Product/Goods/138479783', 'https://www.yes24.com/Product/Goods/140001692']\n",
      "********** 현재 3 페이지 수집 중 입니다. **********\n",
      "['https://www.yes24.com/Product/Goods/140285749', 'https://www.yes24.com/Product/Goods/13137546', 'https://www.yes24.com/Product/Goods/126590468', 'https://www.yes24.com/Product/Goods/140199250', 'https://www.yes24.com/Product/Goods/140199263', 'https://www.yes24.com/Product/Goods/138282792', 'https://www.yes24.com/Product/Goods/108422348', 'https://www.yes24.com/Product/Goods/125557465', 'https://www.yes24.com/Product/Goods/103495056', 'https://www.yes24.com/Product/Goods/140231250', 'https://www.yes24.com/Product/Goods/136298166', 'https://www.yes24.com/Product/Goods/124043812', 'https://www.yes24.com/Product/Goods/124043802', 'https://www.yes24.com/Product/Goods/140371473', 'https://www.yes24.com/Product/Goods/123400303', 'https://www.yes24.com/Product/Goods/141377991', 'https://www.yes24.com/Product/Goods/81003394', 'https://www.yes24.com/Product/Goods/141378033', 'https://www.yes24.com/Product/Goods/8759796', 'https://www.yes24.com/Product/Goods/133809700', 'https://www.yes24.com/Product/Goods/122120495', 'https://www.yes24.com/Product/Goods/141311145', 'https://www.yes24.com/Product/Goods/140537260', 'https://www.yes24.com/Product/Goods/67362730', 'https://www.yes24.com/Product/Goods/141311162', 'https://www.yes24.com/Product/Goods/11467936', 'https://www.yes24.com/Product/Goods/141311100', 'https://www.yes24.com/Product/Goods/133213071', 'https://www.yes24.com/Product/Goods/117014613', 'https://www.yes24.com/Product/Goods/116586303', 'https://www.yes24.com/Product/Goods/141198750', 'https://www.yes24.com/Product/Goods/141403153', 'https://www.yes24.com/Product/Goods/134602629', 'https://www.yes24.com/Product/Goods/135854080', 'https://www.yes24.com/Product/Goods/60524285', 'https://www.yes24.com/Product/Goods/141267375', 'https://www.yes24.com/Product/Goods/139753235', 'https://www.yes24.com/Product/Goods/5926713', 'https://www.yes24.com/Product/Goods/140072103', 'https://www.yes24.com/Product/Goods/136734901', 'https://www.yes24.com/Product/Goods/141231108', 'https://www.yes24.com/Product/Goods/140075936', 'https://www.yes24.com/Product/Goods/139870454', 'https://www.yes24.com/Product/Goods/138831340', 'https://www.yes24.com/Product/Goods/131930939', 'https://www.yes24.com/Product/Goods/140836732', 'https://www.yes24.com/Product/Goods/138479783', 'https://www.yes24.com/Product/Goods/140001692', 'https://www.yes24.com/Product/Goods/96547408', 'https://www.yes24.com/Product/Goods/141267373', 'https://www.yes24.com/Product/Goods/138336669', 'https://www.yes24.com/Product/Goods/116467955', 'https://www.yes24.com/Product/Goods/140536812', 'https://www.yes24.com/Product/Goods/140377474', 'https://www.yes24.com/Product/Goods/141180543', 'https://www.yes24.com/Product/Goods/141263396', 'https://www.yes24.com/Product/Goods/140189194', 'https://www.yes24.com/Product/Goods/133755473', 'https://www.yes24.com/Product/Goods/141325413', 'https://www.yes24.com/Product/Goods/79297023', 'https://www.yes24.com/Product/Goods/124219505', 'https://www.yes24.com/Product/Goods/139999483', 'https://www.yes24.com/Product/Goods/116020437', 'https://www.yes24.com/Product/Goods/138503348', 'https://www.yes24.com/Product/Goods/102502665', 'https://www.yes24.com/Product/Goods/91868954', 'https://www.yes24.com/Product/Goods/140861138', 'https://www.yes24.com/Product/Goods/2312211', 'https://www.yes24.com/Product/Goods/128939189', 'https://www.yes24.com/Product/Goods/141327431', 'https://www.yes24.com/Product/Goods/139853780', 'https://www.yes24.com/Product/Goods/140231496']\n"
     ]
    }
   ],
   "source": [
    "# 3 페에지까지의 링크 데이터 전부 수집\n",
    "import time\n",
    "\n",
    "link_list = list()\n",
    "\n",
    "for num in range(1, 4):\n",
    "    print(\"*\" * 10, f'현재 {num} 페이지 수집 중 입니다.', \"*\" * 10)\n",
    "    url = f\"https://www.yes24.com/Product/Category/BestSeller?categoryNumber=001&pageNumber={num}&pageSize=24\"\n",
    "    browser.get(url)\n",
    "    datas = browser.find_elements(By.CLASS_NAME, 'gd_name')  # elements : 리스트 (여러개의 데이터 출력)\n",
    "\n",
    "    for i in datas:\n",
    "        link = i.get_attribute('href')\n",
    "        link_list.append(link)\n",
    "\n",
    "    time.sleep(3)\n",
    "\n",
    "    print(link_list)\n"
   ]
  },
  {
   "cell_type": "code",
   "execution_count": 24,
   "metadata": {},
   "outputs": [
    {
     "name": "stdout",
     "output_type": "stream",
     "text": [
      "72\n"
     ]
    }
   ],
   "source": [
    "print(len(link_list))"
   ]
  },
  {
   "cell_type": "code",
   "execution_count": 29,
   "metadata": {},
   "outputs": [
    {
     "data": {
      "text/plain": [
       "('미국 주식 투자의 정석',\n",
       " '최철 저',\n",
       " '황금부엉이',\n",
       " '2025년 01월 21일',\n",
       " '9.8',\n",
       " '46',\n",
       " '139,257',\n",
       " '29,000',\n",
       " '1',\n",
       " '1')"
      ]
     },
     "execution_count": 29,
     "metadata": {},
     "output_type": "execute_result"
    }
   ],
   "source": [
    "# for link in link_list:\n",
    "#     browser.get(link) # 상세페이지로 이동\n",
    "\n",
    "browser.get(link_list[0]) # 첫번째 링크로 브라우저를 실행시켜줘\n",
    "title = browser.find_element(By.CLASS_NAME, 'gd_name').text # 책 제목\n",
    "author = browser.find_element(By.CLASS_NAME, 'gd_auth').text # 저자\n",
    "publisher = browser.find_element(By.CLASS_NAME, 'gd_pub').text # 출판사\n",
    "publishing = browser.find_element(By.CLASS_NAME, 'gd_date').text # 출판날짜\n",
    "rating = browser.find_element(By.CLASS_NAME, 'yes_b').text # 별점\n",
    "review = browser.find_element(By.CLASS_NAME, 'txC_blue').text # 리뷰개수\n",
    "sales = browser.find_element(By.CLASS_NAME, 'gd_sellNum').text.split(\" \")[2] # 판매지수\n",
    "price = browser.find_element(By.CLASS_NAME, 'yes_m').text[:-1] # 판매가\n",
    "ranking = browser.find_element(By.CLASS_NAME, 'gd_best').text # 순위\n",
    "## browser.find_element(By.CLASS_NAME, 'gd_best').find_element(By.TAG_NAME, 'a').text  ## 이렇게 find_element를 2번에 걸쳐서 접근할 수 있음 // 그 이상도 되나?\n",
    "ranking = browser.find_element(By.CLASS_NAME, 'gd_best').text.split(\" | \")[1].split(\" \")[1][:-1]\n",
    "ranking_weeks = browser.find_element(By.CLASS_NAME, 'gd_best').text.split(\" | \")[1].split(\" \")[2][:-1]\n",
    "\n",
    "title, author, publisher, publishing, rating, review, sales, price, ranking, ranking_weeks\n"
   ]
  },
  {
   "cell_type": "code",
   "execution_count": 33,
   "metadata": {},
   "outputs": [
    {
     "name": "stdout",
     "output_type": "stream",
     "text": [
      "['베스트 국내도서 1위', '국내도서 1위 1주']\n",
      "미국 주식 투자의 정석 최철 저 황금부엉이 2025-01-21 9.8 46 139257 29000 1 1\n",
      "['베스트 국내도서 2위', '국내도서 1위 14주']\n",
      "소년이 온다 한강 저 창비 2014-05-19 9.7 2729 3332526 15000 2 14\n",
      "['베스트 국내도서 3위', '국내도서 top20 10주']\n",
      "[예스리커버] 초역 부처의 말 코이케 류노스케 저/박재현 역 포레스트북스 2024-05-30 9.4 178 274323 17800 3 10\n",
      "['베스트 국내도서 4위', '국내도서 top20 4주']\n",
      "2025 큰별쌤 최태성의 별별한국사 한국사능력검정시험 심화(1,2,3급) 상 최태성 저 이투스북 2024-12-24 10.0 10 381318 16500 4 4\n",
      "['베스트 국내도서 5위', '국내도서 top20 4주']\n",
      "2025 큰별쌤 최태성의 별별한국사 한국사능력검정시험 심화(1,2,3급) 하 최태성 저 이투스북 2024-12-24 10.0 6 361449 16000 5 4\n",
      "['베스트 국내도서 6위', '국내도서 top20 6주']\n",
      "행동하지 않으면 인생은 바뀌지 않는다 브라이언 트레이시 저/정지현 역 현대지성 2024-11-19 9.4 86 347217 16900 6 6\n",
      "['베스트 국내도서 7위', '국내도서 top20 15주']\n",
      "채식주의자 한강 저 창비 2022-03-28 9.1 1342 2402361 15000 7 15\n",
      "['베스트 국내도서 8위', '국내도서 1위 3주']\n",
      "하루 한 장 나의 어휘력을 위한 필사 노트 유선경 저 위즈덤하우스 2024-10-23 9.6 561 960891 23800 8 3\n",
      "['베스트 국내도서 9위', '국내도서 top20 28주']\n",
      "작별하지 않는다 한강 저 문학동네 2021-09-09 9.5 1671 1999599 16800 9 28\n",
      "['베스트 국내도서 10위', '국내도서 top20 2주']\n",
      "2025 큰별쌤 최태성의 별별한국사 기출 500제 한국사능력검정시험 심화(1,2,3급) 최태성 저 이투스북 2024-12-24 10.0 12 190872 19500 10 2\n",
      "['베스트 국내도서 11위', '국내도서 top20 10주']\n",
      "어른의 행복은 조용하다 태수 저 페이지2북스 2024-11-04 9.5 81 306432 17800 11 10\n",
      "['베스트 국내도서 12위', '국내도서 top20 38주']\n",
      "ETS 토익 정기시험 기출문제집 1000 Vol. 4 RC ETS 저 YBM(와이비엠) 2023-12-20 9.7 336 584802 19800 12 38\n",
      "['베스트 국내도서 13위', '국내도서 top20 32주']\n",
      "ETS 토익 정기시험 기출문제집 1000 Vol. 4 LC ETS 저 YBM(와이비엠) 2023-12-20 9.8 285 551208 19800 13 32\n",
      "['베스트 국내도서 14위', '국내도서 top20 3주']\n",
      "내가 나라서 정말 좋아 김지훤 글/하꼬방 그림 길벗 2025-01-15 10.0 44 254424 16800 14 3\n",
      "['베스트 국내도서 15위', '국내도서 top20 21주']\n",
      "이처럼 사소한 것들 클레어 키건 저/홍한별 역 다산책방 2023-11-27 9.5 612 495888 13800 15 21\n"
     ]
    },
    {
     "ename": "ValueError",
     "evalue": "invalid literal for int() with base 10: '예약판매'",
     "output_type": "error",
     "traceback": [
      "\u001b[0;31m---------------------------------------------------------------------------\u001b[0m",
      "\u001b[0;31mValueError\u001b[0m                                Traceback (most recent call last)",
      "Cell \u001b[0;32mIn[33], line 40\u001b[0m\n\u001b[1;32m     37\u001b[0m rating \u001b[38;5;241m=\u001b[39m browser\u001b[38;5;241m.\u001b[39mfind_element(By\u001b[38;5;241m.\u001b[39mCLASS_NAME, \u001b[38;5;124m'\u001b[39m\u001b[38;5;124myes_b\u001b[39m\u001b[38;5;124m'\u001b[39m)\u001b[38;5;241m.\u001b[39mtext \u001b[38;5;66;03m# 별점        \u001b[39;00m\n\u001b[1;32m     39\u001b[0m review \u001b[38;5;241m=\u001b[39m browser\u001b[38;5;241m.\u001b[39mfind_element(By\u001b[38;5;241m.\u001b[39mCLASS_NAME, \u001b[38;5;124m'\u001b[39m\u001b[38;5;124mtxC_blue\u001b[39m\u001b[38;5;124m'\u001b[39m)\u001b[38;5;241m.\u001b[39mtext \u001b[38;5;66;03m# 리뷰개수\u001b[39;00m\n\u001b[0;32m---> 40\u001b[0m review \u001b[38;5;241m=\u001b[39m \u001b[38;5;28;43mint\u001b[39;49m\u001b[43m(\u001b[49m\u001b[43mreview\u001b[49m\u001b[38;5;241;43m.\u001b[39;49m\u001b[43mreplace\u001b[49m\u001b[43m(\u001b[49m\u001b[38;5;124;43m\"\u001b[39;49m\u001b[38;5;124;43m,\u001b[39;49m\u001b[38;5;124;43m\"\u001b[39;49m\u001b[43m,\u001b[49m\u001b[43m \u001b[49m\u001b[38;5;124;43m\"\u001b[39;49m\u001b[38;5;124;43m\"\u001b[39;49m\u001b[43m)\u001b[49m\u001b[43m)\u001b[49m\n\u001b[1;32m     42\u001b[0m sales \u001b[38;5;241m=\u001b[39m browser\u001b[38;5;241m.\u001b[39mfind_element(By\u001b[38;5;241m.\u001b[39mCLASS_NAME, \u001b[38;5;124m'\u001b[39m\u001b[38;5;124mgd_sellNum\u001b[39m\u001b[38;5;124m'\u001b[39m)\u001b[38;5;241m.\u001b[39mtext\u001b[38;5;241m.\u001b[39msplit(\u001b[38;5;124m\"\u001b[39m\u001b[38;5;124m \u001b[39m\u001b[38;5;124m\"\u001b[39m)[\u001b[38;5;241m2\u001b[39m] \u001b[38;5;66;03m# 판매지수\u001b[39;00m\n\u001b[1;32m     43\u001b[0m sales \u001b[38;5;241m=\u001b[39m \u001b[38;5;28mint\u001b[39m(sales\u001b[38;5;241m.\u001b[39mreplace(\u001b[38;5;124m\"\u001b[39m\u001b[38;5;124m,\u001b[39m\u001b[38;5;124m\"\u001b[39m, \u001b[38;5;124m\"\u001b[39m\u001b[38;5;124m\"\u001b[39m))\n",
      "\u001b[0;31mValueError\u001b[0m: invalid literal for int() with base 10: '예약판매'"
     ]
    }
   ],
   "source": [
    "# 데이터 베이스 연동 후 -> 수집한 데이터를 DB에 저장 (csv)\n",
    "\n",
    "import pymysql\n",
    "import pymysql.cursors # pip install pymysql\n",
    "import time\n",
    "import re\n",
    "from datetime import datetime\n",
    "\n",
    "conn = pymysql.connect(\n",
    "    host = 'localhost',\n",
    "    user = 'root',\n",
    "    password = '0701',\n",
    "    db = 'yes24',\n",
    "    charset = 'utf8mb4',\n",
    "    cursorclass = pymysql.cursors.DictCursor\n",
    ")\n",
    "\n",
    "with conn.cursor() as cur:\n",
    "    for link in link_list:        \n",
    "        browser.get(link)\n",
    "\n",
    "        title = browser.find_element(By.CLASS_NAME, 'gd_name').text # 책 제목\n",
    "        author = browser.find_element(By.CLASS_NAME, 'gd_auth').text # 저자\n",
    "        publisher = browser.find_element(By.CLASS_NAME, 'gd_pub').text # 출판사\n",
    "\n",
    "        # 2023년 12월 25일 -> 2023-12-25\n",
    "        publishing = browser.find_element(By.CLASS_NAME, 'gd_date').text # 출판날짜 2023년 12월 25일 -> 2023-12-25\n",
    "        match = re.search(r'(\\d+)년 (\\d+)월 (\\d+)일', publishing)\n",
    "\n",
    "        if match:\n",
    "            year, month, day = match.groups()\n",
    "            date_obj = datetime(int(year), int(month), int(day))\n",
    "            publishing = date_obj.strftime(\"%Y-%m-%d\")\n",
    "        else:\n",
    "            publishing = \"2023-01-01\"\n",
    "\n",
    "        rating = browser.find_element(By.CLASS_NAME, 'yes_b').text # 별점        \n",
    "        \n",
    "        review = browser.find_element(By.CLASS_NAME, 'txC_blue').text # 리뷰개수\n",
    "        review = int(review.replace(\",\", \"\"))\n",
    "\n",
    "        sales = browser.find_element(By.CLASS_NAME, 'gd_sellNum').text.split(\" \")[2] # 판매지수\n",
    "        sales = int(sales.replace(\",\", \"\"))\n",
    "\n",
    "        price = browser.find_element(By.CLASS_NAME, 'yes_m').text[:-1] # 판매가\n",
    "        price = int(price.replace(\",\", \"\"))\n",
    "\n",
    "        full_text = browser.find_element(By.CLASS_NAME, 'gd_best').text\n",
    "        parts = full_text.split(\" | \")\n",
    "        print(parts)\n",
    "\n",
    "        # ranking, ranking_weeks\n",
    "        try:\n",
    "            full_text = browser.find_element(By.CLASS_NAME, 'gd_best').text\n",
    "            parts = full_text.split(\" | \")\n",
    "            ranking_part = parts[0]\n",
    "            ranking = ''.join(filter(str.isdigit, ranking_part))  # 숫자만 추출\n",
    "        except:\n",
    "            ranking = 0\n",
    "\n",
    "        try:\n",
    "            full_text = browser.find_element(By.CLASS_NAME, 'gd_best').text\n",
    "            parts = full_text.split(\" | \")\n",
    "            ranking_weeks_parts = parts[1]\n",
    "            ranking_weeks = ''.join(filter(str.isdigit, ranking_weeks_parts.split()[-1]))  # 숫자만 추출  // 국내도서 top'20' '3'주 -> 2개의 숫자가 나올경우를 대비해서 split과 [-1] 작성함\n",
    "        except:\n",
    "            ranking_weeks = 0\n",
    "\n",
    "        sql = \"\"\"INSERT INTO Books(\n",
    "            title, author, publisher, publishing, rating, review, sales, price, ranking, ranking_weeks)\n",
    "            VALUES(\n",
    "            %s, %s, %s, %s, %s, %s, %s, %s, %s, %s\n",
    "            )\n",
    "            \"\"\"\n",
    "        \n",
    "        cur.execute(sql, (title, author, publisher, publishing, rating, review, sales, price, ranking, ranking_weeks))\n",
    "        conn.commit()\n",
    "\n",
    "        time.sleep(2)\n",
    "        print(title, author, publisher, publishing, rating, review, sales, price, ranking, ranking_weeks)\n",
    "        \n"
   ]
  }
 ],
 "metadata": {
  "kernelspec": {
   "display_name": ".venv",
   "language": "python",
   "name": "python3"
  },
  "language_info": {
   "codemirror_mode": {
    "name": "ipython",
    "version": 3
   },
   "file_extension": ".py",
   "mimetype": "text/x-python",
   "name": "python",
   "nbconvert_exporter": "python",
   "pygments_lexer": "ipython3",
   "version": "3.13.1"
  }
 },
 "nbformat": 4,
 "nbformat_minor": 2
}
