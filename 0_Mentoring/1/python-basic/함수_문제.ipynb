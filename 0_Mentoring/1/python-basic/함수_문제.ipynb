{
  "cells": [
    {
      "cell_type": "markdown",
      "metadata": {
        "id": "0wk2wIVE0KlT"
      },
      "source": [
        "### 1. 사용자가 입력한 세 개의 숫자 중 최댓값을 찾아 반환하는 함수를 작성하세요.\n",
        "- 함수명: find_max\n",
        "- 반환값: 세 개의 숫자 중 가장 큰 값\n",
        "\n",
        "입력:\n",
        "```\n",
        "10 25 30\n",
        "```\n",
        "\n",
        "출력:\n",
        "```\n",
        "30\n",
        "```"
      ]
    },
    {
      "cell_type": "code",
      "execution_count": 14,
      "metadata": {
        "id": "gVnwkxZx0ByY"
      },
      "outputs": [
        {
          "data": {
            "text/plain": [
              "30"
            ]
          },
          "execution_count": 14,
          "metadata": {},
          "output_type": "execute_result"
        }
      ],
      "source": [
        "# 코드를 작성해주세요\n",
        "\n",
        "def find_max(nums):\n",
        "    return max(nums)\n",
        "\n",
        "input_nums = map(int, input(\"3개의 숫자를 입력해주세요. (공백으로 구분해주세요!)\").split(\" \"))\n",
        "find_max(input_nums)\n"
      ]
    },
    {
      "cell_type": "markdown",
      "metadata": {
        "id": "k0434K9r05XZ"
      },
      "source": [
        "### 2. 주어진 숫자가 소수인지 아닌지 판별하는 함수를 작성하세요. 소수는 1과 자기 자신 외에는 나누어 떨어지지 않는 숫자입니다.\n",
        "\n",
        "- 함수명: is_prime\n",
        "- 반환값: 소수일 시 True, 아닐 시 False\n",
        "\n",
        "입력1:\n",
        "```\n",
        "2\n",
        "```\n",
        "\n",
        "출력1:\n",
        "```\n",
        "True\n",
        "```\n",
        "\n",
        "입력2:\n",
        "```\n",
        "6\n",
        "```\n",
        "\n",
        "출력2:\n",
        "```\n",
        "False\n",
        "```"
      ]
    },
    {
      "cell_type": "code",
      "execution_count": null,
      "metadata": {
        "id": "Prb9uRgf1QtL"
      },
      "outputs": [
        {
          "name": "stdout",
          "output_type": "stream",
          "text": [
            "입력 : 1, 출력 : True\n"
          ]
        }
      ],
      "source": [
        "# 코드를 작성해주세요\n",
        "\n",
        "def is_prime(num):\n",
        "    if num == 1:\n",
        "        return False\n",
        "    \n",
        "    for i in range(2, num):\n",
        "        if num % i == 0:\n",
        "            return False\n",
        "    return True\n",
        "    \n",
        "num = int(input(\"숫자를 입력해주세요\"))\n",
        "print(f'입력 : {num}, 출력 : {is_prime(num)}')\n",
        "\n"
      ]
    },
    {
      "cell_type": "markdown",
      "metadata": {
        "id": "HlLlBGUO3eAT"
      },
      "source": [
        "### 3. 주어진 문자열을 거꾸로 뒤집어서 반환하는 함수를 작성하세요.\n",
        "\n",
        "- 함수명: reverse_string\n",
        "- 반환값: 함수의 매개변수를 거꾸로 뒤집은 값"
      ]
    },
    {
      "cell_type": "code",
      "execution_count": 20,
      "metadata": {
        "id": "VthUqTAO9azC"
      },
      "outputs": [
        {
          "name": "stdout",
          "output_type": "stream",
          "text": [
            "olleh\n"
          ]
        }
      ],
      "source": [
        "# 코드를 작성해주세요\n",
        "\n",
        "def reverse_string(text):\n",
        "    return text[::-1]\n",
        "\n",
        "reversed_str = reverse_string(\"hello\")\n",
        "print(reversed_str)"
      ]
    },
    {
      "cell_type": "markdown",
      "metadata": {
        "id": "LTfV-lTy21CU"
      },
      "source": [
        "### 4. 주어진 숫자 n까지의 피보나치 수열을 반환하는 함수를 작성하세요. 피보나치 수열은 0과 1로 시작하며, 이후의 숫자는 이전 두 숫자의 합입니다.\n",
        "\n",
        "- 함수명: fibonacci\n",
        "- 반환값: 숫자 n까지의 피보나치 수열 반환"
      ]
    },
    {
      "cell_type": "code",
      "execution_count": 81,
      "metadata": {
        "id": "VNcIjlBLQD9_"
      },
      "outputs": [
        {
          "name": "stdout",
          "output_type": "stream",
          "text": [
            "[0, 1, 1, 2, 3, 5, 8, 13, 21]\n"
          ]
        }
      ],
      "source": [
        "# 코드를 작성해주세요\n",
        "\n",
        "# def fibonacci(n):\n",
        "#     nums = list()\n",
        "#     fibo = 0\n",
        "\n",
        "#     for i in range(n+1):       \n",
        "#         if i < 2:\n",
        "#             nums.append(i)\n",
        "#         else:\n",
        "#             fibo = nums[i-2] + nums[i-1]\n",
        "\n",
        "#             if fibo > n:\n",
        "#                 return nums\n",
        "        \n",
        "#             nums.append(fibo)\n",
        "\n",
        "#     return nums\n",
        "\n",
        "# fib_sequence = fibonacci(21)\n",
        "# print(fib_sequence) # [0, 1, 1, 2, 3, 5, 8, 13, 21]\n",
        "\n",
        "\n",
        "def fibonacci(n):\n",
        "    if n < 2:\n",
        "        return n\n",
        "    else:\n",
        "        return fibonacci(n-2) + fibonacci(n-1)\n",
        "\n",
        "num_input = 21\n",
        "nums = list()\n",
        "\n",
        "for i in range(num+1):\n",
        "    if fibonacci(i) <= num_input:\n",
        "        nums.append(fibonacci(i))\n",
        "\n",
        "print(nums)\n",
        "\n"
      ]
    },
    {
      "cell_type": "markdown",
      "metadata": {
        "id": "bjM_3_ce1ZIQ"
      },
      "source": [
        "### 5. 주어진 숫자의 팩토리얼을 계산하는 함수를 작성하세요. 팩토리얼은 1부터 그 숫자까지의 모든 정수의 곱입니다.\n",
        "\n",
        "- 함수명: factorial\n",
        "- 반환값: 1부터 함수의 매개변수까지의 모든 정수의 곱\n"
      ]
    },
    {
      "cell_type": "code",
      "execution_count": 96,
      "metadata": {
        "id": "BqCUm4Tt2koS"
      },
      "outputs": [
        {
          "name": "stdout",
          "output_type": "stream",
          "text": [
            "120\n"
          ]
        }
      ],
      "source": [
        "# 코드를 작성해주세요\n",
        "\n",
        "# def factorial(num):\n",
        "#     result = 1\n",
        "\n",
        "#     for i in range(1, num+1):\n",
        "#         result *= i\n",
        "\n",
        "#     return result\n",
        "\n",
        "# fact_value = factorial(5)\n",
        "# print(fact_value)\n",
        "\n",
        "\n",
        "\n",
        "def factorial(num):\n",
        "    if num > 1:\n",
        "        return num * factorial(num-1)\n",
        "    else:\n",
        "        return 1\n",
        "\n",
        "fact_value = factorial(5)\n",
        "print(fact_value)\n",
        "\n"
      ]
    }
  ],
  "metadata": {
    "colab": {
      "provenance": []
    },
    "kernelspec": {
      "display_name": "Python 3",
      "name": "python3"
    },
    "language_info": {
      "codemirror_mode": {
        "name": "ipython",
        "version": 3
      },
      "file_extension": ".py",
      "mimetype": "text/x-python",
      "name": "python",
      "nbconvert_exporter": "python",
      "pygments_lexer": "ipython3",
      "version": "3.9.6"
    }
  },
  "nbformat": 4,
  "nbformat_minor": 0
}
