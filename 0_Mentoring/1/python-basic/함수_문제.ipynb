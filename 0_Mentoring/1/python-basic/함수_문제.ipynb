{
  "nbformat": 4,
  "nbformat_minor": 0,
  "metadata": {
    "colab": {
      "provenance": []
    },
    "kernelspec": {
      "name": "python3",
      "display_name": "Python 3"
    },
    "language_info": {
      "name": "python"
    }
  },
  "cells": [
    {
      "cell_type": "markdown",
      "source": [
        "### 1. 사용자가 입력한 세 개의 숫자 중 최댓값을 찾아 반환하는 함수를 작성하세요.\n",
        "- 함수명: find_max\n",
        "- 반환값: 세 개의 숫자 중 가장 큰 값\n",
        "\n",
        "입력:\n",
        "```\n",
        "10 25 30\n",
        "```\n",
        "\n",
        "출력:\n",
        "```\n",
        "30\n",
        "```"
      ],
      "metadata": {
        "id": "0wk2wIVE0KlT"
      }
    },
    {
      "cell_type": "code",
      "execution_count": null,
      "metadata": {
        "id": "gVnwkxZx0ByY"
      },
      "outputs": [],
      "source": [
        "# 코드를 작성해주세요"
      ]
    },
    {
      "cell_type": "markdown",
      "source": [
        "### 2. 주어진 숫자가 소수인지 아닌지 판별하는 함수를 작성하세요. 소수는 1과 자기 자신 외에는 나누어 떨어지지 않는 숫자입니다.\n",
        "\n",
        "- 함수명: is_prime\n",
        "- 반환값: 소수일 시 True, 아닐 시 False\n",
        "\n",
        "입력1:\n",
        "```\n",
        "2\n",
        "```\n",
        "\n",
        "출력1:\n",
        "```\n",
        "True\n",
        "```\n",
        "\n",
        "입력2:\n",
        "```\n",
        "6\n",
        "```\n",
        "\n",
        "출력2:\n",
        "```\n",
        "False\n",
        "```"
      ],
      "metadata": {
        "id": "k0434K9r05XZ"
      }
    },
    {
      "cell_type": "code",
      "source": [
        "# 코드를 작성해주세요"
      ],
      "metadata": {
        "id": "Prb9uRgf1QtL"
      },
      "execution_count": null,
      "outputs": []
    },
    {
      "cell_type": "markdown",
      "source": [
        "### 3. 주어진 문자열을 거꾸로 뒤집어서 반환하는 함수를 작성하세요.\n",
        "\n",
        "- 함수명: reverse_string\n",
        "- 반환값: 함수의 매개변수를 거꾸로 뒤집은 값"
      ],
      "metadata": {
        "id": "HlLlBGUO3eAT"
      }
    },
    {
      "cell_type": "code",
      "source": [
        "# 코드를 작성해주세요\n",
        "\n",
        "reversed_str = reverse_string(\"hello\")\n",
        "print(reversed_str)"
      ],
      "metadata": {
        "id": "VthUqTAO9azC"
      },
      "execution_count": null,
      "outputs": []
    },
    {
      "cell_type": "markdown",
      "source": [
        "### 4. 주어진 숫자 n까지의 피보나치 수열을 반환하는 함수를 작성하세요. 피보나치 수열은 0과 1로 시작하며, 이후의 숫자는 이전 두 숫자의 합입니다.\n",
        "\n",
        "- 함수명: fibonacci\n",
        "- 반환값: 숫자 n까지의 피보나치 수열 반환"
      ],
      "metadata": {
        "id": "LTfV-lTy21CU"
      }
    },
    {
      "cell_type": "code",
      "source": [
        "# 코드를 작성해주세요\n",
        "\n",
        "fib_sequence = fibonacci(21)\n",
        "print(fib_sequence) # [0, 1, 1, 2, 3, 5, 8, 13, 21]"
      ],
      "metadata": {
        "id": "VNcIjlBLQD9_"
      },
      "execution_count": null,
      "outputs": []
    },
    {
      "cell_type": "markdown",
      "source": [
        "### 5. 주어진 숫자의 팩토리얼을 계산하는 함수를 작성하세요. 팩토리얼은 1부터 그 숫자까지의 모든 정수의 곱입니다.\n",
        "\n",
        "- 함수명: factorial\n",
        "- 반환값: 1부터 함수의 매개변수까지의 모든 정수의 곱\n"
      ],
      "metadata": {
        "id": "bjM_3_ce1ZIQ"
      }
    },
    {
      "cell_type": "code",
      "source": [
        "# 코드를 작성해주세요\n",
        "\n",
        "fact_value = factorial(5)\n",
        "print(fact_value)"
      ],
      "metadata": {
        "id": "BqCUm4Tt2koS"
      },
      "execution_count": null,
      "outputs": []
    }
  ]
}