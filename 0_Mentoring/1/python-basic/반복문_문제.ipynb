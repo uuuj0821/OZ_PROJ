{
  "cells": [
    {
      "cell_type": "markdown",
      "metadata": {
        "id": "0wk2wIVE0KlT"
      },
      "source": [
        "### 1. 다음 리스트에서 모든 홀수 요소를 출력하는 코드를 작성하세요. while, for 둘 다 만들어보세요.\n",
        "\n",
        "numbers = [1, 2, 3, 4, 5, 6, 7, 8, 9]\n",
        "\n",
        "결과:\n",
        "```\n",
        "1\n",
        "3\n",
        "5\n",
        "7\n",
        "9\n",
        "```\n"
      ]
    },
    {
      "cell_type": "code",
      "execution_count": 65,
      "metadata": {
        "id": "gVnwkxZx0ByY"
      },
      "outputs": [
        {
          "name": "stdout",
          "output_type": "stream",
          "text": [
            "for문 출력\n",
            "1\n",
            "3\n",
            "5\n",
            "7\n",
            "9\n",
            "\n",
            "while문 출력\n",
            "1\n",
            "3\n",
            "5\n",
            "7\n",
            "9\n"
          ]
        }
      ],
      "source": [
        "numbers = [1, 2, 3, 4, 5, 6, 7, 8, 9]\n",
        "\n",
        "# 코드를 작성해주세요\n",
        "\n",
        "## for문\n",
        "print(\"for문 출력\")\n",
        "for num in numbers:\n",
        "    if num % 2 != 0:\n",
        "        print(num)\n",
        "\n",
        "## while문\n",
        "print(\"\\nwhile문 출력\")\n",
        "i = 0\n",
        "\n",
        "while i < len(numbers):\n",
        "    if numbers[i] % 2 != 0:\n",
        "        print(numbers[i])\n",
        "\n",
        "    i += 1"
      ]
    },
    {
      "cell_type": "markdown",
      "metadata": {
        "id": "k0434K9r05XZ"
      },
      "source": [
        "### 2. 1부터 10까지의 숫자 중 3의 배수만 출력하는 코드를 작성하세요. while, for 둘 다 만들어보세요.\n",
        "\n",
        "결과:\n",
        "```\n",
        "3\n",
        "6\n",
        "9\n",
        "```\n"
      ]
    },
    {
      "cell_type": "code",
      "execution_count": 62,
      "metadata": {
        "id": "Prb9uRgf1QtL"
      },
      "outputs": [
        {
          "name": "stdout",
          "output_type": "stream",
          "text": [
            "for문 출력\n",
            "3\n",
            "6\n",
            "9\n",
            "\n",
            "while문 출력\n",
            "3\n",
            "6\n",
            "9\n"
          ]
        }
      ],
      "source": [
        "# 코드를 작성해주세요\n",
        "\n",
        "## for문\n",
        "print(\"for문 출력\")\n",
        "for i in range(1,11):\n",
        "    if i % 3 == 0:\n",
        "        print(i)\n",
        "\n",
        "        \n",
        "\n",
        "## while 문\n",
        "print(\"\\nwhile문 출력\")\n",
        "i = 1\n",
        "\n",
        "while i < 11:\n",
        "    if i % 3 == 0:\n",
        "        print(i)\n",
        "    i += 1\n"
      ]
    },
    {
      "cell_type": "markdown",
      "metadata": {
        "id": "HlLlBGUO3eAT"
      },
      "source": [
        "### 3. 1000보다 작은 숫자 중 4의 배수 또는 6의 배수인 숫자의 합을 구하는 코드를 작성하세요.<br>while, for 둘 다 만들어보세요.\n",
        "\n",
        "결과:\n",
        "```\n",
        "165834\n",
        "```\n"
      ]
    },
    {
      "cell_type": "code",
      "execution_count": 74,
      "metadata": {
        "id": "VthUqTAO9azC"
      },
      "outputs": [
        {
          "name": "stdout",
          "output_type": "stream",
          "text": [
            "for문 출력\n",
            "166834\n",
            "\n",
            "while문 출력\n",
            "166834\n"
          ]
        }
      ],
      "source": [
        "# 코드를 작성해주세요\n",
        "\n",
        "# ## for문\n",
        "print(\"for문 출력\")\n",
        "result = 0\n",
        "\n",
        "for i in range(1, 1001):\n",
        "    if i % 4 == 0 or i % 6 == 0:\n",
        "        result += i\n",
        "\n",
        "print(result)\n",
        "\n",
        "\n",
        "# ## while문\n",
        "print(\"\\nwhile문 출력\")\n",
        "result = 0\n",
        "a = 0\n",
        "\n",
        "while a <= 1000:\n",
        "    if a % 4 == 0 or a % 6 == 0:\n",
        "        result += a    \n",
        "    a += 1\n",
        "\n",
        "print(result)\n",
        "\n",
        "\n",
        "# #####\n",
        "# result = 0\n",
        "# four = list(filter((lambda x : x % 4 == 0), range(1, 1001)))\n",
        "# six = list(filter((lambda x : x % 6 == 0), range(1, 1001)))\n",
        "\n",
        "# for num in set(four + six):\n",
        "#     result += num\n",
        "# print(result)\n"
      ]
    },
    {
      "cell_type": "markdown",
      "metadata": {
        "id": "LTfV-lTy21CU"
      },
      "source": [
        "### 4. 사용자의 입력을 받은 후, 1부터 사용자가 입력한 숫자 중 소수를 출력하는 코드를 작성하세요.<br>여기서는 while, for 중 하나로 만드셔도 됩니다.<br>(소수: 1보다 큰 자연수 중 1과 자기 자신만을 약수로 가지는 수)\n",
        "\n",
        "입력:\n",
        "```\n",
        "18\n",
        "```\n",
        "\n",
        "\n",
        "결과:\n",
        "```\n",
        "2\n",
        "3\n",
        "5\n",
        "7\n",
        "11\n",
        "13\n",
        "17\n",
        "```\n",
        "\n"
      ]
    },
    {
      "cell_type": "code",
      "execution_count": 99,
      "metadata": {},
      "outputs": [
        {
          "name": "stdout",
          "output_type": "stream",
          "text": [
            "2\n",
            "3\n",
            "5\n",
            "7\n",
            "11\n",
            "13\n",
            "17\n"
          ]
        }
      ],
      "source": [
        "num = int(input(\"숫자를 입력해주세요!\"))\n",
        "\n",
        "for i in range(1, num+1):\n",
        "    # print(i)\n",
        "    for a in range(2, num):\n",
        "        # print(a)\n",
        "        if i % a == 0: # 소수가 아닐경우\n",
        "            if i == 2:\n",
        "                print(i)\n",
        "            break   \n",
        "        elif i == a+1:\n",
        "            print(i)\n",
        "\n",
        "# 1. 숫자를 입력받는다.\n",
        "# 2. 1 ~ 입력받은 숫자까지 출력\n",
        "# 3. 1 / range(2, n) 까지 해본다.\n",
        "#  3-1. 이때 나머지가 0 인 것들이 존재한다면 그건 소수가 아니다. (for문 빠져나가자)\n",
        "#  3-2. 입력한 수 == 나누는 수 까지 오면 그건 소수"
      ]
    },
    {
      "cell_type": "markdown",
      "metadata": {
        "id": "bjM_3_ce1ZIQ"
      },
      "source": [
        "### 5. 사용자의 입력을 받아 1부터 사용자가 입력한 숫자만큼 출력하되, <br>3의 배수는 숫자대신 Fizz / 5의 배수는 숫자 대신 Buzz / 3과 5의 공배수는 숫자 대신 FizzBuzz를 출력하도록 코드를 작성하세요.<br>여기서는 while, for 중 하나로 만드셔도 됩니다.\n",
        "\n",
        "입력:\n",
        "```\n",
        "15\n",
        "```\n",
        "\n",
        "\n",
        "결과:\n",
        "```\n",
        "1\n",
        "2\n",
        "Fizz\n",
        "4\n",
        "Buzz\n",
        "Fizz\n",
        "7\n",
        "8\n",
        "Fizz\n",
        "Buzz\n",
        "11\n",
        "Fizz\n",
        "13\n",
        "14\n",
        "FizzBuzz\n",
        "```\n"
      ]
    },
    {
      "cell_type": "code",
      "execution_count": 52,
      "metadata": {
        "id": "BqCUm4Tt2koS"
      },
      "outputs": [
        {
          "name": "stdout",
          "output_type": "stream",
          "text": [
            "1\n",
            "2\n",
            "Fizz\n",
            "4\n",
            "Buzz\n",
            "Fizz\n",
            "7\n",
            "8\n",
            "Fizz\n",
            "Buzz\n",
            "11\n",
            "Fizz\n",
            "13\n",
            "14\n",
            "FizzBuzz\n",
            "16\n",
            "17\n",
            "Fizz\n",
            "19\n",
            "Buzz\n",
            "Fizz\n",
            "22\n",
            "23\n",
            "Fizz\n",
            "Buzz\n",
            "26\n",
            "Fizz\n",
            "28\n",
            "29\n",
            "FizzBuzz\n",
            "31\n",
            "32\n",
            "Fizz\n",
            "34\n",
            "Buzz\n",
            "Fizz\n",
            "37\n",
            "38\n",
            "Fizz\n",
            "Buzz\n",
            "41\n",
            "Fizz\n",
            "43\n",
            "44\n",
            "FizzBuzz\n"
          ]
        }
      ],
      "source": [
        "# 코드를 작성해주세요\n",
        "\n",
        "num = int(input(\"숫자를 입력해주세요!\"))\n",
        "\n",
        "for i in range(1, num+1):\n",
        "    if i % 3 == 0 and i % 5 == 0:\n",
        "        print(\"FizzBuzz\")\n",
        "    elif i % 3 == 0:\n",
        "        print(\"Fizz\")\n",
        "    elif i % 5 == 0:\n",
        "        print(\"Buzz\")\n",
        "    else:\n",
        "        print(i)\n",
        "    "
      ]
    }
  ],
  "metadata": {
    "colab": {
      "provenance": []
    },
    "kernelspec": {
      "display_name": "Python 3",
      "name": "python3"
    },
    "language_info": {
      "codemirror_mode": {
        "name": "ipython",
        "version": 3
      },
      "file_extension": ".py",
      "mimetype": "text/x-python",
      "name": "python",
      "nbconvert_exporter": "python",
      "pygments_lexer": "ipython3",
      "version": "3.9.6"
    }
  },
  "nbformat": 4,
  "nbformat_minor": 0
}
