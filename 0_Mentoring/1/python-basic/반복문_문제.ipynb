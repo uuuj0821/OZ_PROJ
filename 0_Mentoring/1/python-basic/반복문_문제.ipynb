{
  "cells": [
    {
      "cell_type": "markdown",
      "metadata": {
        "id": "0wk2wIVE0KlT"
      },
      "source": [
        "### 1. 다음 리스트에서 모든 홀수 요소를 출력하는 코드를 작성하세요. while, for 둘 다 만들어보세요.\n",
        "\n",
        "numbers = [1, 2, 3, 4, 5, 6, 7, 8, 9]\n",
        "\n",
        "결과:\n",
        "```\n",
        "1\n",
        "3\n",
        "5\n",
        "7\n",
        "9\n",
        "```\n"
      ]
    },
    {
      "cell_type": "code",
      "execution_count": null,
      "metadata": {
        "id": "gVnwkxZx0ByY"
      },
      "outputs": [],
      "source": [
        "numbers = [1, 2, 3, 4, 5, 6, 7, 8, 9]\n",
        "\n",
        "# 코드를 작성해주세요"
      ]
    },
    {
      "cell_type": "markdown",
      "metadata": {
        "id": "k0434K9r05XZ"
      },
      "source": [
        "### 2. 1부터 10까지의 숫자 중 3의 배수만 출력하는 코드를 작성하세요. while, for 둘 다 만들어보세요.\n",
        "\n",
        "결과:\n",
        "```\n",
        "3\n",
        "6\n",
        "9\n",
        "```\n"
      ]
    },
    {
      "cell_type": "code",
      "execution_count": null,
      "metadata": {
        "id": "Prb9uRgf1QtL"
      },
      "outputs": [],
      "source": [
        "# 코드를 작성해주세요"
      ]
    },
    {
      "cell_type": "markdown",
      "metadata": {
        "id": "HlLlBGUO3eAT"
      },
      "source": [
        "### 3. 1000보다 작은 숫자 중 4의 배수 또는 6의 배수인 숫자의 합을 구하는 코드를 작성하세요.<br>while, for 둘 다 만들어보세요.\n",
        "\n",
        "결과:\n",
        "```\n",
        "165834\n",
        "```\n"
      ]
    },
    {
      "cell_type": "code",
      "execution_count": null,
      "metadata": {
        "id": "VthUqTAO9azC"
      },
      "outputs": [],
      "source": [
        "# 코드를 작성해주세요"
      ]
    },
    {
      "cell_type": "markdown",
      "metadata": {
        "id": "LTfV-lTy21CU"
      },
      "source": [
        "### 4. 사용자의 입력을 받은 후, 1부터 사용자가 입력한 숫자 중 소수를 출력하는 코드를 작성하세요.<br>여기서는 while, for 중 하나로 만드셔도 됩니다.<br>(소수: 1보다 큰 자연수 중 1과 자기 자신만을 약수로 가지는 수)\n",
        "\n",
        "입력:\n",
        "```\n",
        "18\n",
        "```\n",
        "\n",
        "\n",
        "결과:\n",
        "```\n",
        "2\n",
        "3\n",
        "5\n",
        "7\n",
        "11\n",
        "13\n",
        "17\n",
        "```\n",
        "\n"
      ]
    },
    {
      "cell_type": "markdown",
      "metadata": {
        "id": "bjM_3_ce1ZIQ"
      },
      "source": [
        "### 5. 사용자의 입력을 받아 1부터 사용자가 입력한 숫자만큼 출력하되, <br>3의 배수는 숫자대신 Fizz / 5의 배수는 숫자 대신 Buzz / 3과 5의 공배수는 숫자 대신 FizzBuzz를 출력하도록 코드를 작성하세요.<br>여기서는 while, for 중 하나로 만드셔도 됩니다.\n",
        "\n",
        "입력:\n",
        "```\n",
        "15\n",
        "```\n",
        "\n",
        "\n",
        "결과:\n",
        "```\n",
        "1\n",
        "2\n",
        "Fizz\n",
        "4\n",
        "Buzz\n",
        "Fizz\n",
        "7\n",
        "8\n",
        "Fizz\n",
        "Buzz\n",
        "11\n",
        "Fizz\n",
        "13\n",
        "14\n",
        "FizzBuzz\n",
        "```\n"
      ]
    },
    {
      "cell_type": "code",
      "execution_count": null,
      "metadata": {
        "id": "BqCUm4Tt2koS"
      },
      "outputs": [],
      "source": [
        "# 코드를 작성해주세요"
      ]
    }
  ],
  "metadata": {
    "colab": {
      "provenance": []
    },
    "kernelspec": {
      "display_name": "Python 3",
      "name": "python3"
    },
    "language_info": {
      "name": "python"
    }
  },
  "nbformat": 4,
  "nbformat_minor": 0
}
