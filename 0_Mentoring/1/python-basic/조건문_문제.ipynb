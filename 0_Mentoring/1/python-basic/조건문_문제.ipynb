{
  "cells": [
    {
      "cell_type": "markdown",
      "metadata": {
        "id": "0wk2wIVE0KlT"
      },
      "source": [
        "### 1. 사용자가 입력한 숫자가 짝수인지 홀수인지 판별하는 코드를 작성하세요.\n",
        "입력값은 1이상의 자연수로만 정의합니다.\n"
      ]
    },
    {
      "cell_type": "code",
      "execution_count": null,
      "metadata": {
        "id": "gVnwkxZx0ByY"
      },
      "outputs": [],
      "source": [
        "# 코드를 작성해주세요"
      ]
    },
    {
      "cell_type": "markdown",
      "metadata": {
        "id": "k0434K9r05XZ"
      },
      "source": [
        "### 2. 사용자가 입력한 점수에 따라 성적을 판별하는 코드를 작성하세요.\n",
        "90점 이상: A, 80점 이상: B, 70점 이상: C, 60점 이상: D, 나머지: F\n"
      ]
    },
    {
      "cell_type": "code",
      "execution_count": null,
      "metadata": {
        "id": "Prb9uRgf1QtL"
      },
      "outputs": [],
      "source": [
        "# 코드를 작성해주세요"
      ]
    },
    {
      "cell_type": "markdown",
      "metadata": {
        "id": "HlLlBGUO3eAT"
      },
      "source": [
        "### 3. 사용자가 입력한 연도가 윤년인지 아닌지 판별하는 코드를 작성하세요.\n",
        "윤년 조건:\n",
        "* 4로 나누어떨어지는 해\n",
        "* 4와 100으로 나누어떨어지는 해는 평년으로 계산\n",
        "* 4, 100, 400으로 나누어떨어지는 해는 윤년으로 계산"
      ]
    },
    {
      "cell_type": "code",
      "execution_count": null,
      "metadata": {
        "id": "VthUqTAO9azC"
      },
      "outputs": [],
      "source": [
        "# 코드를 작성해주세요"
      ]
    },
    {
      "cell_type": "markdown",
      "metadata": {
        "id": "LTfV-lTy21CU"
      },
      "source": [
        "### 4. 사용자가 입력한 숫자가 양수인지, 음수인지, 0인지 판별하는 코드를 작성하세요."
      ]
    },
    {
      "cell_type": "code",
      "execution_count": null,
      "metadata": {
        "id": "VNcIjlBLQD9_"
      },
      "outputs": [],
      "source": [
        "# 코드를 작성해주세요"
      ]
    },
    {
      "cell_type": "markdown",
      "metadata": {
        "id": "bjM_3_ce1ZIQ"
      },
      "source": [
        "### 5. 사용자가 입력한 세 개의 숫자 중에서 가장 큰 수를 찾는 코드를 작성하세요.\n"
      ]
    },
    {
      "cell_type": "code",
      "execution_count": null,
      "metadata": {
        "id": "BqCUm4Tt2koS"
      },
      "outputs": [],
      "source": [
        "# 코드를 작성해주세요"
      ]
    }
  ],
  "metadata": {
    "colab": {
      "provenance": []
    },
    "kernelspec": {
      "display_name": "Python 3",
      "name": "python3"
    },
    "language_info": {
      "name": "python"
    }
  },
  "nbformat": 4,
  "nbformat_minor": 0
}
