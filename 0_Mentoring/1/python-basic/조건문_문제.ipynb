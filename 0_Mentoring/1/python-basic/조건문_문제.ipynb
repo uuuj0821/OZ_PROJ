{
  "cells": [
    {
      "cell_type": "markdown",
      "metadata": {
        "id": "0wk2wIVE0KlT"
      },
      "source": [
        "### 1. 사용자가 입력한 숫자가 짝수인지 홀수인지 판별하는 코드를 작성하세요.\n",
        "입력값은 1이상의 자연수로만 정의합니다.\n"
      ]
    },
    {
      "cell_type": "code",
      "execution_count": 4,
      "metadata": {
        "id": "gVnwkxZx0ByY"
      },
      "outputs": [
        {
          "name": "stdout",
          "output_type": "stream",
          "text": [
            "입력하신 숫자 5 는 홀수입니다.\n"
          ]
        }
      ],
      "source": [
        "# 코드를 작성해주세요\n",
        "\n",
        "num = int(input(\"숫자를 입력해주세요\"))\n",
        "\n",
        "if num % 2 == 0:\n",
        "    print(f'입력하신 숫자 {num} 는 짝수입니다.')\n",
        "else:\n",
        "    print(f'입력하신 숫자 {num} 는 홀수입니다.')"
      ]
    },
    {
      "cell_type": "markdown",
      "metadata": {
        "id": "k0434K9r05XZ"
      },
      "source": [
        "### 2. 사용자가 입력한 점수에 따라 성적을 판별하는 코드를 작성하세요.\n",
        "90점 이상: A, 80점 이상: B, 70점 이상: C, 60점 이상: D, 나머지: F\n"
      ]
    },
    {
      "cell_type": "code",
      "execution_count": 9,
      "metadata": {
        "id": "Prb9uRgf1QtL"
      },
      "outputs": [
        {
          "name": "stdout",
          "output_type": "stream",
          "text": [
            "A\n"
          ]
        }
      ],
      "source": [
        "# 코드를 작성해주세요\n",
        "\n",
        "score = int(input(\"점수를 입력해주세요\"))\n",
        "\n",
        "if score >= 90:\n",
        "    print(\"A\")\n",
        "elif score >= 80:\n",
        "    print(\"B\")\n",
        "elif score >= 70:\n",
        "    print(\"C\")\n",
        "elif score >= 60:\n",
        "    print(\"D\")\n",
        "else:\n",
        "    print(\"F\")\n",
        "    "
      ]
    },
    {
      "cell_type": "markdown",
      "metadata": {
        "id": "HlLlBGUO3eAT"
      },
      "source": [
        "### 3. 사용자가 입력한 연도가 윤년인지 아닌지 판별하는 코드를 작성하세요.\n",
        "윤년 조건:\n",
        "* 4로 나누어떨어지는 해\n",
        "* 4와 100으로 나누어떨어지는 해는 평년으로 계산\n",
        "* 4, 100, 400으로 나누어떨어지는 해는 윤년으로 계산"
      ]
    },
    {
      "cell_type": "code",
      "execution_count": 2,
      "metadata": {
        "id": "VthUqTAO9azC"
      },
      "outputs": [
        {
          "name": "stdout",
          "output_type": "stream",
          "text": [
            "2100년은 윤년이 아닙니다.\n"
          ]
        }
      ],
      "source": [
        "# 코드를 작성해주세요\n",
        "\n",
        "year = int(input(\"연도를 입력해주세요\"))\n",
        "\n",
        "if (year % 4 == 0 and year % 100 != 0) or year % 400 == 0:\n",
        "    print(f'{year}년은 윤년입니다.')\n",
        "else:\n",
        "    print(f'{year}년은 윤년이 아닙니다.')\n",
        "\n",
        "\n",
        "\n"
      ]
    },
    {
      "cell_type": "markdown",
      "metadata": {
        "id": "LTfV-lTy21CU"
      },
      "source": [
        "### 4. 사용자가 입력한 숫자가 양수인지, 음수인지, 0인지 판별하는 코드를 작성하세요."
      ]
    },
    {
      "cell_type": "code",
      "execution_count": 36,
      "metadata": {
        "id": "VNcIjlBLQD9_"
      },
      "outputs": [
        {
          "name": "stdout",
          "output_type": "stream",
          "text": [
            "입력하신 숫자는 0입니다.\n"
          ]
        }
      ],
      "source": [
        "# 코드를 작성해주세요\n",
        "\n",
        "num = int(input(\"숫자를 입력해주세요\"))\n",
        "\n",
        "if num > 0 :\n",
        "    print(f'입력하신 숫자 {num} 는 양수입니다.')\n",
        "elif num < 0:\n",
        "    print(f'입력하신 숫자 {num} 는 음수입니다.')\n",
        "else:\n",
        "    print(f'입력하신 숫자는 0입니다.')"
      ]
    },
    {
      "cell_type": "markdown",
      "metadata": {
        "id": "bjM_3_ce1ZIQ"
      },
      "source": [
        "### 5. 사용자가 입력한 세 개의 숫자 중에서 가장 큰 수를 찾는 코드를 작성하세요.\n"
      ]
    },
    {
      "cell_type": "code",
      "execution_count": 39,
      "metadata": {
        "id": "BqCUm4Tt2koS"
      },
      "outputs": [
        {
          "name": "stdout",
          "output_type": "stream",
          "text": [
            "입력하신 숫자 ['54', '2', '34'] 중 가장 큰 숫자는 54 입니다.\n"
          ]
        }
      ],
      "source": [
        "# 코드를 작성해주세요\n",
        "\n",
        "nums = input(\"숫자 3개를 입력해주세요, (공백으로 구분해주세요!)\").split(\" \")\n",
        "\n",
        "print(f'입력하신 숫자 {nums} 중 가장 큰 숫자는 {max(nums)} 입니다.')"
      ]
    }
  ],
  "metadata": {
    "colab": {
      "provenance": []
    },
    "kernelspec": {
      "display_name": "Python 3",
      "name": "python3"
    },
    "language_info": {
      "codemirror_mode": {
        "name": "ipython",
        "version": 3
      },
      "file_extension": ".py",
      "mimetype": "text/x-python",
      "name": "python",
      "nbconvert_exporter": "python",
      "pygments_lexer": "ipython3",
      "version": "3.9.6"
    }
  },
  "nbformat": 4,
  "nbformat_minor": 0
}
